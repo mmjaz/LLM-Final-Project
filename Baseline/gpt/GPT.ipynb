{
 "cells": [
  {
   "cell_type": "markdown",
   "metadata": {},
   "source": [
    "# MHQA"
   ]
  },
  {
   "cell_type": "markdown",
   "metadata": {},
   "source": [
    "## No Reasoning"
   ]
  },
  {
   "cell_type": "code",
   "execution_count": null,
   "metadata": {},
   "outputs": [],
   "source": [
    "import os\n",
    "import json\n",
    "import dotenv\n",
    "from tqdm import tqdm\n",
    "import pandas as pd\n",
    "\n",
    "dotenv.load_dotenv()\n",
    "\n",
    "# Load test set\n",
    "with open(\"../../data/test_data.json\", \"r\") as f:\n",
    "    test_data = json.load(f)\n",
    "\n",
    "from langchain_openai import ChatOpenAI\n",
    "from langchain_core.prompts import ChatPromptTemplate\n",
    "from pydantic import BaseModel, Field\n",
    "\n",
    "MODEL_NAME = \"gpt-4o-mini\"  # baseline GPT model\n",
    "llm = ChatOpenAI(\n",
    "    model=MODEL_NAME,\n",
    "    temperature=0.2,\n",
    "    max_tokens=200,\n",
    "    api_key=os.getenv(\"METIS_API_KEY\"),\n",
    "    base_url=\"https://api.metisai.ir/openai/v1\",\n",
    ")\n",
    "\n"
   ]
  },
  {
   "cell_type": "code",
   "execution_count": null,
   "metadata": {},
   "outputs": [],
   "source": [
    "class StructuredAnswer(BaseModel):\n",
    "    \"\"\"A structured final answer.\"\"\"\n",
    "    final_answer: str = Field(\n",
    "        description=\"The final, concise answer to the user's question.\"\n",
    "    )\n",
    "\n",
    "answer_types_guidance = [\n",
    "    \"اسامی عام\",\n",
    "    \"شخص\",\n",
    "    \"بلی/خیر\",\n",
    "    \"تاریخ\",\n",
    "    \"رویداد\",\n",
    "    \"مکان\",\n",
    "    \"اسامی خاص دیگر\",\n",
    "    \"شماره\",\n",
    "    \"کار هنری\",\n",
    "    \"گروه یا سازمان\",\n",
    "    \"صفت\",\n",
    "]\n",
    "\n",
    "categories_text = \"، \".join(answer_types_guidance)\n",
    "\n",
    "qa_prompt_no_reasoning = ChatPromptTemplate.from_messages([\n",
    "    (\n",
    "        \"system\",\n",
    "        f\"\"\"\n",
    "You are an expert Persian Question Answering assistant.\n",
    "Your output MUST be a JSON object with a single field named final_answer.\n",
    "- final_answer must be the concise actual answer value in Persian.\n",
    "- Do NOT output category names (e.g., {categories_text}); they are semantic types of answers, not options to choose.\n",
    "- Do NOT include explanations or extra text.\n",
    "\n",
    "Examples:\n",
    "Q: در مقابل تبی که بنتونیت با نام گل ارمنی در آن معروف است چه چیز قرار دارد ؟\n",
    "YOUR STRUCTURED OUTPUT:\n",
    "{{{{\"final_answer\": \"پزشکی مبتنی بر شواهد\"}}}}\n",
    "\n",
    "Q: کدام یک از ستارگان فیلم زنی پشت پنجره بازیکن هاکی نیز می باشد ؟\n",
    "YOUR STRUCTURED OUTPUT:\n",
    "{{{{\"final_answer\": \"وایـت راسل\"}}}}\n",
    "\n",
    "Q: آیا سایتو دوسان یک نجیب زاده نظامی است ؟\n",
    "YOUR STRUCTURED OUTPUT:\n",
    "{{{{\"final_answer\": \"بلی\"}}}}\n",
    "\n",
    "Q: داده های ماهواره ای که نخستین‌ بار نقشه‌بردار موضوعی بر روی آن نصب شد در چه سالی به فضا پرتاب شد ؟\n",
    "YOUR STRUCTURED OUTPUT:\n",
    "{{{{\"final_answer\": \"سال ۱۹۸۲\"}}}}\n",
    "\n",
    "Q: جایزه ای که سیدیبه در سال 2007 آن را دریافت کرد متعلق به کدام جشنواره است ؟\n",
    "YOUR STRUCTURED OUTPUT:\n",
    "{{{{\"final_answer\": \"جشنوارهٔ فیلم ونیز\"}}}}\n",
    "\n",
    "Q: نام دیگر قومی که پیروز یکم آن ها را به طور قطعی شکست داد چیست ؟\n",
    "YOUR STRUCTURED OUTPUT:\n",
    "{{{{\"final_answer\": \"قوم کیدار\"}}}}\n",
    "\"\"\",\n",
    "    ),\n",
    "    (\"human\", \"QUESTION: {question}\\n\\nYOUR STRUCTURED OUTPUT:\"),\n",
    "])\n",
    "\n",
    "qa_prompt_reasoning = ChatPromptTemplate.from_messages([\n",
    "    (\n",
    "        \"system\",\n",
    "        f\"\"\"\n",
    "You are an expert Persian Question Answering assistant.\n",
    "Think step-by-step internally and then produce a JSON object with a single field final_answer.\n",
    "- final_answer must be the concise actual answer value in Persian.\n",
    "- Do NOT output category names (e.g., {categories_text}); they are semantic types of answers, not options to choose.\n",
    "- Do NOT include explanations or intermediate reasoning in the output.\n",
    "\n",
    "Examples:\n",
    "Q: در مقابل تبی که بنتونیت با نام گل ارمنی در آن معروف است چه چیز قرار دارد ؟\n",
    "YOUR STRUCTURED OUTPUT:\n",
    "{{{{\"final_answer\": \"پزشکی مبتنی بر شواهد\"}}}}\n",
    "\n",
    "Q: کدام یک از ستارگان فیلم زنی پشت پنجره بازیکن هاکی نیز می باشد ؟\n",
    "YOUR STRUCTURED OUTPUT:\n",
    "{{{{\"final_answer\": \"وایـت راسل\"}}}}\n",
    "\n",
    "Q: آیا سایتو دوسان یک نجیب زاده نظامی است ؟\n",
    "YOUR STRUCTURED OUTPUT:\n",
    "{{{{\"final_answer\": \"بلی\"}}}}\n",
    "\n",
    "Q: داده های ماهواره ای که نخستین‌ بار نقشه‌بردار موضوعی بر روی آن نصب شد در چه سالی به فضا پرتاب شد ؟\n",
    "YOUR STRUCTURED OUTPUT:\n",
    "{{{{\"final_answer\": \"سال ۱۹۸۲\"}}}}\n",
    "\"\"\",\n",
    "    ),\n",
    "    (\"human\", \"QUESTION: {question}\\n\\nYOUR STRUCTURED OUTPUT:\"),\n",
    "])"
   ]
  },
  {
   "cell_type": "code",
   "execution_count": null,
   "metadata": {},
   "outputs": [
    {
     "name": "stderr",
     "output_type": "stream",
     "text": [
      "100%|██████████| 152/152 [04:50<00:00,  1.91s/it]\n"
     ]
    }
   ],
   "source": [
    "# Inference loop (no reasoning) using structured output\n",
    "results = []\n",
    "structured_no_reason_chain = qa_prompt_no_reasoning | llm.with_structured_output(StructuredAnswer)\n",
    "for item in tqdm(test_data):\n",
    "    question = item[\"question\"]\n",
    "    answer = item[\"answer\"]\n",
    "    _id = item[\"id\"]\n",
    "\n",
    "    try:\n",
    "        resp = structured_no_reason_chain.invoke({\"question\": question})\n",
    "        model_answer = resp.final_answer\n",
    "    except Exception as e:\n",
    "        model_answer = f\"Error: {e}\"\n",
    "\n",
    "    results.append({\n",
    "        \"question\": question,\n",
    "        \"answer\": answer,\n",
    "        \"model_answer\": model_answer,\n",
    "        \"id\": _id,\n",
    "    })\n",
    "\n",
    "pd.DataFrame(results).to_csv(\"results.csv\", index=False)"
   ]
  },
  {
   "cell_type": "markdown",
   "metadata": {},
   "source": [
    "## Evaluate"
   ]
  },
  {
   "cell_type": "code",
   "execution_count": 20,
   "metadata": {},
   "outputs": [
    {
     "name": "stderr",
     "output_type": "stream",
     "text": [
      "Evaluating answers:   0%|          | 0/152 [00:00<?, ?it/s]"
     ]
    },
    {
     "name": "stderr",
     "output_type": "stream",
     "text": [
      "Evaluating answers: 100%|██████████| 152/152 [03:20<00:00,  1.32s/it]\n"
     ]
    }
   ],
   "source": [
    "import re\n",
    "from langchain_core.prompts import ChatPromptTemplate\n",
    "from pydantic import BaseModel, Field\n",
    "\n",
    "class AnswerEvaluation(BaseModel):\n",
    "    is_correct: bool = Field(description=\"True if the model answer is semantically equivalent to the correct answer, False otherwise\")\n",
    "\n",
    "llm_judge = ChatOpenAI(\n",
    "    model=\"gpt-4o-mini\",\n",
    "    temperature=0.1,\n",
    "    max_tokens=300,\n",
    "    api_key=os.getenv(\"METIS_API_KEY\"),\n",
    "    base_url='https://api.metisai.ir/openai/v1',\n",
    ").with_structured_output(AnswerEvaluation)\n",
    "\n",
    "def clean_model_answer(model_answer: str) -> str:\n",
    "    cleaned = re.sub(r'<ANSWER>(.*?)</ANSWER>', r'\\1', model_answer, flags=re.DOTALL|re.IGNORECASE)\n",
    "    return cleaned.strip()\n",
    "\n",
    "def evaluate_single_answer(question: str, correct_answer: str, model_answer: str) -> AnswerEvaluation:\n",
    "    prompt_eval = ChatPromptTemplate.from_messages([\n",
    "        (\"system\", \"\"\"You are an expert judge evaluating Persian/Farsi question-answer pairs. Determine if the model's answer is semantically equivalent to the correct answer. Be strict but fair about minor spelling variations and equivalent expressions.\"\"\"),\n",
    "        (\"human\", \"\"\"Question: {question}\\n\\nCorrect Answer: {correct_answer}\\nModel Answer: {model_answer}\\n\\nEvaluate if the model answer is semantically equivalent to the correct answer.\"\"\"),\n",
    "    ])\n",
    "    msgs = prompt_eval.format_messages(\n",
    "        question=question,\n",
    "        correct_answer=correct_answer,\n",
    "        model_answer=clean_model_answer(model_answer),\n",
    "    )\n",
    "    try:\n",
    "        return llm_judge.invoke(msgs)\n",
    "    except Exception:\n",
    "        return AnswerEvaluation(is_correct=False)\n",
    "\n",
    "# Evaluate\n",
    "evaluated_results = []\n",
    "for item in tqdm(results, desc=\"Evaluating answers\"):\n",
    "    ev = evaluate_single_answer(item['question'], item['answer'], item['model_answer'])\n",
    "    evaluated_results.append({**item, 'clean_model_answer': clean_model_answer(item['model_answer']), 'is_correct': ev.is_correct})\n",
    "\n",
    "df_eval = pd.DataFrame(evaluated_results)\n",
    "df_eval.to_csv('evaluated_results.csv', index=False)"
   ]
  },
  {
   "cell_type": "code",
   "execution_count": 21,
   "metadata": {},
   "outputs": [
    {
     "data": {
      "text/plain": [
       "0.45394736842105265"
      ]
     },
     "execution_count": 21,
     "metadata": {},
     "output_type": "execute_result"
    }
   ],
   "source": [
    "import numpy as np\n",
    "len(df_eval[df_eval['is_correct'] == True]) / len(df_eval)"
   ]
  },
  {
   "cell_type": "markdown",
   "metadata": {},
   "source": [
    "## with Reasoning"
   ]
  },
  {
   "cell_type": "code",
   "execution_count": 24,
   "metadata": {},
   "outputs": [
    {
     "name": "stderr",
     "output_type": "stream",
     "text": [
      "100%|██████████| 152/152 [03:33<00:00,  1.41s/it]\n"
     ]
    }
   ],
   "source": [
    "# Reasoning flow using structured output\n",
    "structured_reason_chain = qa_prompt_reasoning | llm.with_structured_output(StructuredAnswer)\n",
    "\n",
    "results_reasoning = []\n",
    "for item in tqdm(test_data):\n",
    "    question = item['question']\n",
    "    answer = item['answer']\n",
    "    _id = item['id']\n",
    "\n",
    "    try:\n",
    "        resp = structured_reason_chain.invoke({\"question\": question})\n",
    "        model_answer = resp.final_answer\n",
    "    except Exception as e:\n",
    "        model_answer = f\"Error: {e}\"\n",
    "\n",
    "    results_reasoning.append({\n",
    "        'question': question,\n",
    "        'answer': answer,\n",
    "        'model_answer': model_answer,\n",
    "        'id': _id,\n",
    "    })\n",
    "\n",
    "pd.DataFrame(results_reasoning).to_csv('results_reasoning.csv', index=False)"
   ]
  },
  {
   "cell_type": "markdown",
   "metadata": {},
   "source": [
    "## Evaluate"
   ]
  },
  {
   "cell_type": "code",
   "execution_count": 27,
   "metadata": {},
   "outputs": [
    {
     "name": "stderr",
     "output_type": "stream",
     "text": [
      "Evaluating answers (reasoning): 100%|██████████| 152/152 [05:26<00:00,  2.15s/it]\n"
     ]
    }
   ],
   "source": [
    "evaluated_results_reasoning = []\n",
    "for item in tqdm(results_reasoning, desc=\"Evaluating answers (reasoning)\"):\n",
    "    ev = evaluate_single_answer(item['question'], item['answer'], item['model_answer'])\n",
    "    evaluated_results_reasoning.append({**item, 'clean_model_answer': clean_model_answer(item['model_answer']), 'is_correct': ev.is_correct})\n",
    "\n",
    "df_eval_reasoning = pd.DataFrame(evaluated_results_reasoning)\n",
    "df_eval_reasoning.to_csv('evaluated_results_reasoning.csv', index=False)"
   ]
  },
  {
   "cell_type": "code",
   "execution_count": 28,
   "metadata": {},
   "outputs": [
    {
     "data": {
      "text/plain": [
       "0.4473684210526316"
      ]
     },
     "execution_count": 28,
     "metadata": {},
     "output_type": "execute_result"
    }
   ],
   "source": [
    "len(df_eval_reasoning[df_eval_reasoning['is_correct'] == True]) / len(df_eval_reasoning)"
   ]
  },
  {
   "cell_type": "markdown",
   "metadata": {},
   "source": [
    "# PQUAD"
   ]
  },
  {
   "cell_type": "markdown",
   "metadata": {},
   "source": [
    "## No reasoning"
   ]
  },
  {
   "cell_type": "code",
   "execution_count": null,
   "metadata": {},
   "outputs": [],
   "source": [
    "pquad_df = pd.read_csv('../../data/pquad/pquad_questions.csv', encoding='utf-8')\n",
    "pquad_data = pquad_df.to_dict(orient='records')\n",
    "# select only 150 samples\n",
    "pquad_data = pquad_data[:150]"
   ]
  },
  {
   "cell_type": "code",
   "execution_count": 36,
   "metadata": {},
   "outputs": [
    {
     "name": "stderr",
     "output_type": "stream",
     "text": [
      "  0%|          | 0/150 [00:00<?, ?it/s]"
     ]
    },
    {
     "name": "stderr",
     "output_type": "stream",
     "text": [
      "100%|██████████| 150/150 [04:49<00:00,  1.93s/it]\n"
     ]
    }
   ],
   "source": [
    "results_pquad = []\n",
    "structured_no_reason_chain = qa_prompt_no_reasoning | llm.with_structured_output(StructuredAnswer)\n",
    "for item in tqdm(pquad_data):\n",
    "    question = item['question']\n",
    "    answer = item['answer']\n",
    "    _id = item['id']\n",
    "    context_id = item.get('context_id')\n",
    "\n",
    "    try:\n",
    "        resp = structured_no_reason_chain.invoke({\"question\": question})\n",
    "        model_answer = resp.final_answer\n",
    "    except Exception as e:\n",
    "        model_answer = f\"Error: {e}\"\n",
    "\n",
    "    results_pquad.append({\n",
    "        'question': question,\n",
    "        'answer': answer,\n",
    "        'model_answer': model_answer,\n",
    "        'id': _id,\n",
    "        'context_id': context_id,\n",
    "    })\n",
    "\n",
    "pd.DataFrame(results_pquad).to_csv('pquad_results.csv', index=False)"
   ]
  },
  {
   "cell_type": "markdown",
   "metadata": {},
   "source": [
    "## Evaluate"
   ]
  },
  {
   "cell_type": "code",
   "execution_count": 37,
   "metadata": {},
   "outputs": [
    {
     "name": "stderr",
     "output_type": "stream",
     "text": [
      "Evaluating answers (PQUAD): 100%|██████████| 150/150 [03:24<00:00,  1.37s/it]\n"
     ]
    },
    {
     "data": {
      "text/plain": [
       "0.18666666666666668"
      ]
     },
     "execution_count": 37,
     "metadata": {},
     "output_type": "execute_result"
    }
   ],
   "source": [
    "evaluated_results_pquad = []\n",
    "for item in tqdm(results_pquad, desc=\"Evaluating answers (PQUAD)\"):\n",
    "    ev = evaluate_single_answer(item['question'], item['answer'], item['model_answer'])\n",
    "    evaluated_results_pquad.append({**item, 'clean_model_answer': clean_model_answer(item['model_answer']), 'is_correct': ev.is_correct})\n",
    "\n",
    "pquad_eval_df = pd.DataFrame(evaluated_results_pquad)\n",
    "pquad_eval_df.to_csv('pqaud_evaluated_results_baseline.csv', index=False)\n",
    "\n",
    "len(pquad_eval_df[pquad_eval_df['is_correct'] == True]) / len(pquad_eval_df)"
   ]
  },
  {
   "cell_type": "markdown",
   "metadata": {},
   "source": [
    "## With Reasoning"
   ]
  },
  {
   "cell_type": "code",
   "execution_count": 38,
   "metadata": {},
   "outputs": [
    {
     "name": "stderr",
     "output_type": "stream",
     "text": [
      "100%|██████████| 150/150 [03:50<00:00,  1.53s/it]\n"
     ]
    }
   ],
   "source": [
    "results_pquad_reasoning = []\n",
    "structured_reason_chain = qa_prompt_reasoning | llm.with_structured_output(StructuredAnswer)\n",
    "for item in tqdm(pquad_data):\n",
    "    question = item['question']\n",
    "    answer = item['answer']\n",
    "    _id = item['id']\n",
    "\n",
    "    try:\n",
    "        resp = structured_reason_chain.invoke({\"question\": question})\n",
    "        model_answer = resp.final_answer\n",
    "    except Exception as e:\n",
    "        model_answer = f\"Error: {e}\"\n",
    "\n",
    "    results_pquad_reasoning.append({\n",
    "        'question': question,\n",
    "        'answer': answer,\n",
    "        'model_answer': model_answer,\n",
    "        'id': _id,\n",
    "    })\n",
    "\n",
    "pd.DataFrame(results_pquad_reasoning).to_csv('pquad_results_reasoning.csv', index=False)"
   ]
  },
  {
   "cell_type": "code",
   "execution_count": 39,
   "metadata": {},
   "outputs": [
    {
     "name": "stderr",
     "output_type": "stream",
     "text": [
      "Evaluating answers (PQUAD reasoning): 100%|██████████| 150/150 [03:12<00:00,  1.28s/it]\n"
     ]
    },
    {
     "data": {
      "text/plain": [
       "0.19333333333333333"
      ]
     },
     "execution_count": 39,
     "metadata": {},
     "output_type": "execute_result"
    }
   ],
   "source": [
    "evaluated_results_pquad_reasoning = []\n",
    "for item in tqdm(results_pquad_reasoning, desc=\"Evaluating answers (PQUAD reasoning)\"):\n",
    "    ev = evaluate_single_answer(item['question'], item['answer'], item['model_answer'])\n",
    "    evaluated_results_pquad_reasoning.append({**item, 'clean_model_answer': clean_model_answer(item['model_answer']), 'is_correct': ev.is_correct})\n",
    "\n",
    "pquad_eval_reasoning_df = pd.DataFrame(evaluated_results_pquad_reasoning)\n",
    "pquad_eval_reasoning_df.to_csv('pquad_evaluated_results_reasoning.csv', index=False)\n",
    "\n",
    "len(pquad_eval_reasoning_df[pquad_eval_reasoning_df['is_correct'] == True]) / len(pquad_eval_reasoning_df)"
   ]
  }
 ],
 "metadata": {
  "kernelspec": {
   "display_name": "llms",
   "language": "python",
   "name": "python3"
  },
  "language_info": {
   "codemirror_mode": {
    "name": "ipython",
    "version": 3
   },
   "file_extension": ".py",
   "mimetype": "text/x-python",
   "name": "python",
   "nbconvert_exporter": "python",
   "pygments_lexer": "ipython3",
   "version": "3.11.11"
  }
 },
 "nbformat": 4,
 "nbformat_minor": 2
}
