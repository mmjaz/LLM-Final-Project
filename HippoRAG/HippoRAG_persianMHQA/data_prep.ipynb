{
 "cells": [
  {
   "cell_type": "markdown",
   "id": "11e30655",
   "metadata": {},
   "source": [
    "## Extracting Context Topics and Contexts"
   ]
  },
  {
   "cell_type": "code",
   "execution_count": null,
   "id": "2f0aad89",
   "metadata": {},
   "outputs": [],
   "source": [
    "import json\n",
    "import pandas as pd\n",
    "import numpy as np\n",
    "from collections import defaultdict\n",
    "\n",
    "np.random.seed(42)\n",
    "with open('../../data/taji_1.json', 'r', encoding='utf-8') as f:\n",
    "    data = json.load(f)\n",
    "\n",
    "df = pd.DataFrame(data)"
   ]
  },
  {
   "cell_type": "code",
   "execution_count": 2,
   "id": "4efd6281",
   "metadata": {},
   "outputs": [
    {
     "name": "stdout",
     "output_type": "stream",
     "text": [
      "Total unique contexts: 470\n",
      "Total unique topics: 388\n"
     ]
    }
   ],
   "source": [
    "# Extract topics from context to new column, meanwhile, extracting the context themselves into a list\n",
    "all_context = []\n",
    "\n",
    "def extract_topics(context_list):\n",
    "    topics = []\n",
    "    for context_item in context_list:\n",
    "        # element 0 is the topic, element 1 are the contexts\n",
    "        topics.append(context_item[0])  \n",
    "        all_context.append(('\\n'.join(context_item[1])))  # Collect all contexts\n",
    "    return topics\n",
    "\n",
    "df['topics'] = df['context'].apply(extract_topics)\n",
    "\n",
    "# Get all unique topics and contexts\n",
    "all_topics = set()\n",
    "\n",
    "for topics in df['topics']:\n",
    "    all_topics.update(topics)\n",
    "    \n",
    "all_context = list(set(all_context))  # Remove duplicates from contexts\n",
    "print(f\"Total unique contexts: {len(all_context)}\")\n",
    "print(f\"Total unique topics: {len(all_topics)}\")"
   ]
  },
  {
   "cell_type": "code",
   "execution_count": null,
   "id": "4945b331",
   "metadata": {},
   "outputs": [],
   "source": [
    "## save all_context to a json file\n",
    "with open('all_context.json', 'w', encoding='utf-8') as f:\n",
    "    json.dump(all_context, f, ensure_ascii=False, indent=4)"
   ]
  },
  {
   "cell_type": "markdown",
   "id": "a0f439df",
   "metadata": {},
   "source": [
    "## Splitting data into Train/Test\n",
    "\n",
    "Also ensuring the fact that all contexts appear at least once in our train set."
   ]
  },
  {
   "cell_type": "code",
   "execution_count": 6,
   "id": "53b2ac3e",
   "metadata": {},
   "outputs": [],
   "source": [
    "topic_to_samples = defaultdict(list)\n",
    "for idx, topics in enumerate(df['topics']):\n",
    "    for topic in topics:\n",
    "        topic_to_samples[topic].append(idx)"
   ]
  },
  {
   "cell_type": "code",
   "execution_count": 7,
   "id": "be340954",
   "metadata": {},
   "outputs": [
    {
     "data": {
      "text/plain": [
       "defaultdict(list,\n",
       "            {'۱۳ دلیل برای اینکه ': [0, 1, 2, 256, 257, 258],\n",
       "             'هانا بیکر ': [0, 1, 2, 510, 511],\n",
       "             'سامورایی ': [3, 4],\n",
       "             'سایتو دوسان ': [3, 4],\n",
       "             'سوپرتاکس ': [5, 6, 246, 247, 248],\n",
       "             'نینتندو ': [5, 6, 236, 237, 242],\n",
       "             'مالک سیدیبه ': [7, 8, 9],\n",
       "             'شیر طلایی ': [7, 8, 9, 241],\n",
       "             'مسابقه آواز یوروویژن ۲۰۱۹ ': [10],\n",
       "             'مسابقه آواز یوروویژن ۲۰۱۸ ': [10],\n",
       "             'نامه فرهنگستان ': [11, 12, 13, 14, 15, 436],\n",
       "             'سردبیر ': [11, 12, 13, 14, 15],\n",
       "             'خاطرات بریجت جونز (فیلم) ': [16, 17, 18, 19],\n",
       "             'جما جونز ': [16, 17, 18, 19],\n",
       "             'لامپ نئون ': [20, 21, 22, 23],\n",
       "             'جیوه ': [20, 21, 22, 23, 225, 226, 227, 228, 433, 434, 455],\n",
       "             'زابیواکا (برنامه تلویزیونی) ': [24, 25, 26, 27, 28, 29, 30, 31],\n",
       "             'جام جهانی فوتبال ۲۰۱۸ ': [24, 25, 26, 27, 28, 29, 30, 31],\n",
       "             'استفانی مک\\u200cمن ': [32, 33],\n",
       "             'دبلیودبلیوئی ': [32, 33],\n",
       "             'نیمه ماه مارس (فیلم) ': [34, 35, 254, 255, 257, 258],\n",
       "             'مریسا تومی ': [34, 35],\n",
       "             'چیکووا ': [36, 37, 38, 39, 437],\n",
       "             'چیراشی\\u200cزوشی ': [36, 37, 38, 39, 289],\n",
       "             'باشگاه فوتبال اوراوا رد دیاموندز ': [40, 41, 42, 43],\n",
       "             'لیگ قهرمانان آسیا ': [40, 41, 42, 43],\n",
       "             'یخ\\u200cزده ۲ ': [44, 48],\n",
       "             'فهرست فیلم\\u200cهای استودیوی انیمیشن والت دیزنی ': [44, 48],\n",
       "             'فرانسیسکو خنتو ': [45, 46, 47],\n",
       "             'تیم ملی فوتبال اسپانیا ': [45, 46, 47],\n",
       "             'حیات (فیلم ۲۰۱۷) ': [49, 50, 51, 52, 53, 54],\n",
       "             'جیک جیلنهال ': [49, 50, 51, 52, 53, 54, 260],\n",
       "             'هواوی آنر ۴سی ': [55, 56, 57],\n",
       "             'هواوی ': [55, 56, 57, 235],\n",
       "             'اصلاح کاتالیزوری ': [58],\n",
       "             'محصول جانبی ': [58],\n",
       "             'سوغات اصفهان ': [59, 63],\n",
       "             'میناکاری ': [59, 63],\n",
       "             'بازی\\u200cهای گرسنگی: زاغ مقلد – بخش ۲ ': [60],\n",
       "             'جاش هاچرسون ': [60, 238],\n",
       "             'فیلیپ تورتون ': [61, 62, 64, 65, 238, 260],\n",
       "             'روآن (فرانسه) ': [61, 62, 64, 65],\n",
       "             'نیکوتین ': [66, 67, 68, 69],\n",
       "             'سیب\\u200cزمینی ': [66, 67, 68, 69],\n",
       "             'زن زن است ': [70, 259],\n",
       "             'فیلم موزیکال ': [70],\n",
       "             'فرانک شیرن ': [71, 72],\n",
       "             'جیمی هوفا ': [71, 72],\n",
       "             'دوم (بازی ویدئویی ۲۰۱۶) ': [73, 74, 75, 76, 77, 78, 79],\n",
       "             'بتزدا سافت\\u200cورکز ': [73, 74, 75, 76, 77, 78, 79],\n",
       "             'سوخته (فیلم) ': [80],\n",
       "             'اما تامپسون ': [80],\n",
       "             'عشق نفسانیت صمیمیت: بهترین آهنگ\\u200cها ': [81],\n",
       "             'بیلی جین ': [81, 213, 214, 545],\n",
       "             'ناهار عریان (فیلم) ': [82, 83],\n",
       "             'روی شایدر ': [82, 83],\n",
       "             'آئورورا ': [84, 85],\n",
       "             'لومینیتسا گئورگیو ': [84, 85],\n",
       "             'جنگ ستارگان: قسمت دوم – حمله کلون\\u200cها ': [86, 87],\n",
       "             'فرانک اوز ': [86, 87],\n",
       "             'آلیس در شهرها ': [88,\n",
       "              89,\n",
       "              90,\n",
       "              250,\n",
       "              251,\n",
       "              252,\n",
       "              253,\n",
       "              254,\n",
       "              255,\n",
       "              256,\n",
       "              259],\n",
       "             'پاریس، تگزاس (فیلم) ': [88, 89, 90],\n",
       "             'ناپروکسن/اس\\u200cامپرازول ': [91],\n",
       "             'آرتروز ': [91],\n",
       "             'جنگ جهانی دوم ': [92, 93, 94, 95, 96, 97, 98],\n",
       "             'خانه آنه فرانک ': [92, 93, 94, 95, 96, 97, 98],\n",
       "             'صندوق قربانیان بزهکاری ': [99],\n",
       "             'غرامت ': [99],\n",
       "             'پودر سنگ ': [100, 101, 102],\n",
       "             'سنگ ': [100, 101, 102],\n",
       "             'تیم ملی فوتبال سوئیس ': [103, 104, 442],\n",
       "             'جام جهانی فوتبال ۲۰۰۶ ': [103, 104],\n",
       "             'لیگ عدالت (فیلم) ': [105, 106, 107, 108, 109, 162, 163, 164],\n",
       "             'کیران هایندز ': [105, 106, 107, 108, 109],\n",
       "             'پامچال شب ': [110],\n",
       "             'آمریکای شمالی ': [110],\n",
       "             'ابونعیم اصفهانی ': [111],\n",
       "             'دانشمند ': [111],\n",
       "             'سربداران (مجموعه تلویزیونی) ': [112,\n",
       "              113,\n",
       "              114,\n",
       "              115,\n",
       "              116,\n",
       "              117,\n",
       "              118,\n",
       "              119,\n",
       "              120,\n",
       "              121,\n",
       "              122],\n",
       "             'استودیو بل ': [112,\n",
       "              113,\n",
       "              114,\n",
       "              115,\n",
       "              116,\n",
       "              117,\n",
       "              118,\n",
       "              119,\n",
       "              120,\n",
       "              121,\n",
       "              122],\n",
       "             'مارشال\\u200cهای آمریکایی (فیلم) ': [123, 124, 125],\n",
       "             'دانیال روبوک ': [123, 124, 125],\n",
       "             'محمد ظاهرشاه ': [126, 127, 128, 129, 159, 435],\n",
       "             'سد سرده بند ': [126, 127, 128, 129],\n",
       "             'کشتن (فیلم ۱۹۵۶) ': [130, 131],\n",
       "             'مترو گلدوین مایر ': [130, 131],\n",
       "             'اگر سنگ از آسمان ببارد ': [132,\n",
       "              133,\n",
       "              134,\n",
       "              135,\n",
       "              136,\n",
       "              137,\n",
       "              138,\n",
       "              139],\n",
       "             'جشنواره فیلم کن ۲۰۱۶ ': [132, 133, 134, 135, 136, 137, 138, 139],\n",
       "             'کوچه کابوس (فیلم ۲۰۲۱) ': [140, 141, 142, 143],\n",
       "             'رونی مارا ': [140, 141, 142, 143],\n",
       "             'بال\\u200cلاکی ژاپنی ': [144, 444, 445],\n",
       "             'گنجشک\\u200cسانان ': [144],\n",
       "             'فرایند پواسون ': [145, 146],\n",
       "             'فرایند برنولی ': [145, 146],\n",
       "             'هل این ا سل (۲۰۱۶) ': [147, 148],\n",
       "             'کشتی کج ': [147, 148],\n",
       "             'تریپل اکس (فیلم ۲۰۰۲) ': [149, 150],\n",
       "             'ایو (رپر) ': [149, 150, 156, 157, 158],\n",
       "             'زانکلین ': [151],\n",
       "             'میوسن ': [151],\n",
       "             'ماشین پلیس (فیلم ۲۰۱۵) ': [152, 153],\n",
       "             'استخراج (فیلم ۲۰۱۵) ': [152, 153, 154, 155],\n",
       "             'استیون سی میلر ': [154, 155, 156, 157, 158],\n",
       "             'عبدالله جوادی آملی ': [159, 234],\n",
       "             'آخرین شکارچی جادوگر ': [160, 161, 193],\n",
       "             'مایکل کین ': [160, 161, 193],\n",
       "             'گل گدوت ': [162, 163, 164],\n",
       "             'دنیای مرا باشکوه می\\u200cکنی ': [165],\n",
       "             'شکست\\u200cناپذیر (آلبوم) ': [165],\n",
       "             'پرومتئوس': [166, 167, 250, 251, 252, 253],\n",
       "             'بیگانه ': [166, 167],\n",
       "             'قورباغه ': [168, 169, 170, 171, 445],\n",
       "             'مارمولک ': [168, 169, 170, 171, 444],\n",
       "             'بلوفیش (نرم\\u200cافزار) ': [172, 173, 174],\n",
       "             'والا (زبان برنامه\\u200cنویسی) ': [172, 173, 174],\n",
       "             'حسین پاینده ': [175, 176, 177, 178, 234, 450],\n",
       "             'هوشنگ گلشیری ': [175, 176, 177, 178, 436],\n",
       "             'پل کلبنیکوف ': [179, 180, 181],\n",
       "             'فوربز ': [179, 180, 181],\n",
       "             'انتس\\u200cها ': [182, 183, 184, 185, 186, 239],\n",
       "             'نگاناسان\\u200cها ': [182, 183, 184, 185, 186],\n",
       "             'پیتر ولر ': [187, 188],\n",
       "             'ویلیام اس باروز ': [187, 188],\n",
       "             'فرانسواز دورلیاک ': [189, 190],\n",
       "             'بن\\u200cبست (فیلم ۱۹۶۶) ': [189, 190],\n",
       "             'سانتافه دو نوومکزیکو ': [191, 192],\n",
       "             'آپاچی (قبیله) ': [191, 192, 239],\n",
       "             'نینجا گایدن (بازی آرکید) ': [194, 195, 196, 244, 245],\n",
       "             'تکمو ': [194, 195, 196, 235, 236, 237, 243],\n",
       "             'برج چیس شیکاگو ': [197, 198],\n",
       "             'آسمان\\u200cخراش ': [197, 198],\n",
       "             'زن جوان آتیه\\u200cدار ': [199],\n",
       "             'فیلم دلهره\\u200cآور ': [199],\n",
       "             'شکار جانور شگفت\\u200cانگیز ': [200, 201, 202, 203, 204],\n",
       "             'هنری هالیدی ': [200, 201, 202, 203, 204],\n",
       "             'آبله\\u200cمیمون ': [205, 206, 482],\n",
       "             'تب ': [205, 206, 479, 480, 481],\n",
       "             'سورا ال\\u200cتی\\u200cدی ': [207, 208, 209, 242, 243],\n",
       "             'برادران سوپر اسمش ': [207, 208, 209],\n",
       "             'کیران دسای ': [210, 211, 212, 453],\n",
       "             'جایزه ادبی من بوکر ': [210, 211, 212, 240],\n",
       "             'اپیک رکوردز ': [213, 214],\n",
       "             'تجربیات سریالی لین ': [215, 216, 217],\n",
       "             'یوشی\\u200cتوشی آبه ': [215, 216, 217],\n",
       "             'اقوام اولیه کانادا ': [218],\n",
       "             'اینوئیت ': [218],\n",
       "             'ونسا مارانو ': [219, 220],\n",
       "             'جوایز گلدن گلوب ': [219, 220, 240, 241, 381],\n",
       "             'سوار کماندار ': [221, 222, 223, 224],\n",
       "             'مغول ': [221, 222, 223, 224],\n",
       "             'فلزات نجیب ': [225, 226, 227, 228, 448, 456, 457, 458],\n",
       "             'سلستیا ': [229],\n",
       "             'اوپن\\u200cجی\\u200cال ': [229],\n",
       "             'ایس کمبت ۷: آسمان\\u200cهای ناشناخته ': [230, 231, 247, 248, 249],\n",
       "             'اکس\\u200cباکس وان ': [230, 231],\n",
       "             'ندای وظیفه ': [232, 233, 244, 245, 246, 249],\n",
       "             'اینفینیتی وارد ': [232, 233],\n",
       "             'پوغوس آفیان ': [261, 262, 476, 477],\n",
       "             'جوزپه وردی ': [261, 262, 476, 477],\n",
       "             'اساسینز کرید: سرکش ': [263, 478],\n",
       "             'جهان باز ': [263, 478],\n",
       "             'خلیفه بن حمد بن خلیفه آل ثانی ': [264, 265, 266, 267],\n",
       "             'آل ثانی ': [264, 265, 266, 267],\n",
       "             'خانه بردباری ': [268, 269, 270, 271, 272, 273],\n",
       "             'حفصیه حرزی ': [268, 269, 270, 271, 272, 273],\n",
       "             'انجیل مرقس ': [274],\n",
       "             'انجیل متی ': [274],\n",
       "             'لوک اسکای\\u200cواکر ': [275,\n",
       "              276,\n",
       "              277,\n",
       "              278,\n",
       "              279,\n",
       "              280,\n",
       "              483,\n",
       "              484,\n",
       "              485,\n",
       "              486,\n",
       "              487,\n",
       "              488],\n",
       "             'جرج لوکاس ': [275, 276, 277, 278, 279, 280],\n",
       "             'ایرج صغیری ': [281],\n",
       "             'داریوش ارجمند ': [281],\n",
       "             'پشه ': [282, 283],\n",
       "             'فیلاریاز ': [282, 283],\n",
       "             'جوی لورن آدامز ': [284, 285, 286, 287],\n",
       "             'سر مخروطی\\u200cها ': [284, 285, 286, 287],\n",
       "             'زوسویی ': [288, 289, 437],\n",
       "             'نابه\\u200cمونو ': [288],\n",
       "             'کامران میرزا (بابری) ': [290],\n",
       "             'بابر ': [290],\n",
       "             'پرونده\\u200cهای ایکس ': [291, 292],\n",
       "             'شرکت پخش همگانی فاکس ': [291, 292],\n",
       "             'جنگ بزرگ شمالی ': [293, 294, 295],\n",
       "             'پتر یکم ': [293, 294, 295, 446, 447],\n",
       "             'پیروز یکم ': [296, 297, 435, 501],\n",
       "             'کیداریان ': [296, 297],\n",
       "             '۵۰ قرار اول ': [298],\n",
       "             'پیتر سگال ': [298],\n",
       "             'ترا (ماهواره) ': [299, 300, 301],\n",
       "             'مدار خورشیدآهنگ ': [299, 300, 301],\n",
       "             'کرایسیس ۲ ': [302, 303],\n",
       "             'الکترونیک آرتس ': [302, 303],\n",
       "             'جاستین چنگ ': [304, 305, 306, 307],\n",
       "             'لس آنجلس تایمز ': [304, 305, 306, 307],\n",
       "             'متبارک با آتش ': [308],\n",
       "             'گاستون پائولس ': [308],\n",
       "             'خورشید همچنان می\\u200cدمد ': [309, 310, 311, 312],\n",
       "             'ارنست همینگوی ': [309, 310, 311, 312],\n",
       "             'تیم ملی فوتبال بلغارستان ': [313, 314],\n",
       "             'تیم ملی فوتبال آلمان ': [313, 314, 442, 499],\n",
       "             'رشک قضیب ': [315, 316],\n",
       "             'هلن سیکسو ': [315, 316],\n",
       "             'برج سبز ': [317],\n",
       "             'آن بولین ': [317],\n",
       "             'اداره (فصل ۳) ': [318, 319, 320],\n",
       "             'اداره (مجموعه تلویزیونی بریتانیایی) ': [318, 319, 320],\n",
       "             'میشل مایور ': [321],\n",
       "             'جایزه کیوتو ': [321],\n",
       "             'کمون (فیلم) ': [322],\n",
       "             'شصت و ششمین جشنواره بین\\u200cالمللی فیلم برلین ': [322],\n",
       "             'فرودگاه بین\\u200cالمللی قاسم سلیمانی ': [323, 426, 427, 429],\n",
       "             'هواپیمایی ایران ایرتور ': [323, 430, 431, 432],\n",
       "             'مارک وب ': [324],\n",
       "             'با استعداد ': [324],\n",
       "             'قهرمانان گریه نمی\\u200cکنند (فیلم ۱۹۸۶) ': [325, 326],\n",
       "             'فردایی بهتر ': [325, 326],\n",
       "             'پلی\\u200cاستیشن ۴ ': [327],\n",
       "             'مایکروسافت ویندوز ': [327],\n",
       "             'آرتی شاو: زمان چیزی است که به\\u200cدست آورده\\u200cای ': [328,\n",
       "              329,\n",
       "              330,\n",
       "              440],\n",
       "             'بی\\u200cخانمانی در آمریکا ': [328, 329, 330, 441],\n",
       "             'چین\\u200cخوردگی در زمان ': [331, 332, 333],\n",
       "             'زک گالیفیناکیس ': [331, 332, 333],\n",
       "             'اکبر عبدی ': [334, 428],\n",
       "             'فرشاد پیوس ': [334],\n",
       "             'نوشاد عالمیان ': [335, 336, 337, 338, 339, 340, 341],\n",
       "             'نیما عالمیان ': [335, 336, 337, 338, 339, 340, 341],\n",
       "             'نماز جمعه در ایران ': [342],\n",
       "             'بیرجند ': [342],\n",
       "             'فریبا وفی ': [343],\n",
       "             'نویسنده ': [343],\n",
       "             'پلی\\u200cاستیشن همراه ': [344],\n",
       "             'رابیدها ': [344, 438, 439],\n",
       "             'آنتونیو دی نولی ': [345, 346],\n",
       "             'آفونسوی پنجم ': [345, 346],\n",
       "             'امپراتوری برزیل ': [347],\n",
       "             'پدرو آلوارز کابرال ': [347],\n",
       "             'هواپیمایی ماهان ': [348, 429, 430, 431, 432],\n",
       "             'فرودگاه بجنورد ': [348, 426, 427],\n",
       "             'تقاطع (مستند) ': [349, 350, 351, 352, 353],\n",
       "             'رضا فرهمند ': [349, 350, 351, 352, 353, 428],\n",
       "             'سعید بشیرتاش ': [354],\n",
       "             'تامی حامی\\u200cفر ': [354],\n",
       "             'آرایه\\u200cشناسی (زیست\\u200cشناسی) ': [355],\n",
       "             'کارل لینه ': [355],\n",
       "             'آشیانه ': [356],\n",
       "             'گونه (زیست\\u200cشناسی) ': [356],\n",
       "             'سازمان ملل متحد ': [357],\n",
       "             'کودتا ': [357],\n",
       "             'کیم یونگ-کوانگ (بازیگر) ': [358, 359, 360, 361],\n",
       "             'پینوکیو (مجموعه تلویزیونی ۲۰۱۴) ': [358, 359, 360, 361],\n",
       "             'اکسایش حرارتی ': [362, 363, 364, 365],\n",
       "             'ویفر (الکترونیک) ': [362, 363, 364, 365],\n",
       "             'علی لقمانی ': [366, 367, 368, 369],\n",
       "             'عروس آتش ': [366, 367, 368, 369],\n",
       "             'آدامانتیوس کورائیس ': [370, 371],\n",
       "             'دانته آلیگیری ': [370, 371],\n",
       "             'محمد سبزواری ': [372, 373],\n",
       "             'صادقی\\u200cبیک افشار ': [372, 373],\n",
       "             'فهرست کشورهای دارنده جنگ\\u200cافزار هسته\\u200cای ': [374, 375],\n",
       "             'آفریقای جنوبی ': [374, 375],\n",
       "             'جوکیو (دوره ادو) ': [376, 377, 378],\n",
       "             'گن\\u200cروکو ': [376, 377, 378],\n",
       "             'میشائیل شوماخر ': [379, 380],\n",
       "             'اسکودریا فراری ': [379, 380],\n",
       "             'جوایز اسکار ': [381],\n",
       "             'تهدید سه\\u200cگانه ': [382, 383],\n",
       "             'ایکو اویس ': [382, 383],\n",
       "             'آهن ': [384, 433, 434, 448, 454, 517],\n",
       "             'موتور الکتریکی ': [384],\n",
       "             'پنج عصر ': [385, 386, 387],\n",
       "             'تخته\\u200cسیاه (فیلم) ': [385, 386, 387],\n",
       "             'انقراض هولوسن ': [388, 389],\n",
       "             'شیر ایرانی ': [388, 389],\n",
       "             'ولاک ': [390],\n",
       "             'آلبانیایی\\u200cها ': [390],\n",
       "             'عصر جدید (فیلم ۱۹۳۶) ': [391, 392],\n",
       "             'چارلی چاپلین ': [391, 392],\n",
       "             'مارلو (فیلم آینده) ': [393, 394],\n",
       "             'آدواله آکینویه آگباجه ': [393, 394],\n",
       "             'شهر گمشده زی (فیلم) ': [395, 396, 397],\n",
       "             'تام هالند ': [395, 396, 397],\n",
       "             'روزی روزگاری در مکزیک ': [398],\n",
       "             'ژولیو اسکار مچوسو ': [398],\n",
       "             'سندرم زولینگر-الیسون ': [399, 400, 401],\n",
       "             'لوزالمعده ': [399, 400, 401],\n",
       "             'کم (آلبوم دیوید بویی) ': [402, 403],\n",
       "             'ایگی پاپ ': [402, 403],\n",
       "             'منتهای حد کمال ': [404, 405, 406],\n",
       "             'رودساید اترکشنز ': [404, 405, 406],\n",
       "             'برای اینکه (فیلم) ': [407, 408, 409, 410, 411],\n",
       "             'پرواز بر فراز آشیانه فاخته ': [407,\n",
       "              408,\n",
       "              409,\n",
       "              410,\n",
       "              411,\n",
       "              440,\n",
       "              441,\n",
       "              449],\n",
       "             'فرانک زاپا ': [412, 413],\n",
       "             'موسیقی راک ': [412, 413],\n",
       "             'آنتی\\u200cبیوتیک ': [414, 415],\n",
       "             'باکتری گرم-منفی ': [414, 415],\n",
       "             'آلکان ': [416, 417],\n",
       "             'روغن ': [416, 417],\n",
       "             'سایلنت هیل ۲ ': [418, 438, 439],\n",
       "             'پلی\\u200cاستیشن ۳ ': [418],\n",
       "             'فانک راک ': [419, 420],\n",
       "             'جیمز براون ': [419, 420],\n",
       "             'فینال\\u200cهای ان\\u200cبی\\u200cای ۱۹۹۴ ': [421,\n",
       "              422,\n",
       "              423,\n",
       "              424,\n",
       "              425],\n",
       "             'نیویورک نیکس ': [421, 422, 423, 424, 425],\n",
       "             'آب ': [443],\n",
       "             'محلول ': [443],\n",
       "             'امپراتوری روسیه ': [446, 447],\n",
       "             'پرستار رچد ': [449],\n",
       "             'محمد راسخ مهند ': [450],\n",
       "             'گرند ماستی ': [451, 452],\n",
       "             'مانجاری فاندیس ': [451, 452, 453],\n",
       "             'مس ': [454, 455, 456, 457, 458],\n",
       "             'لوئیجی ': [459],\n",
       "             'ماریو ': [459],\n",
       "             'لرد ولدمورت ': [460, 461, 462],\n",
       "             'جیکی رولینگ ': [460, 461, 462, 541, 542, 543, 544, 545],\n",
       "             'قوای قزاق ': [463,\n",
       "              464,\n",
       "              465,\n",
       "              466,\n",
       "              467,\n",
       "              468,\n",
       "              469,\n",
       "              470,\n",
       "              471,\n",
       "              472,\n",
       "              473],\n",
       "             'ناصرالدین\\u200cشاه ': [463,\n",
       "              464,\n",
       "              465,\n",
       "              466,\n",
       "              467,\n",
       "              468,\n",
       "              469,\n",
       "              470,\n",
       "              471,\n",
       "              472,\n",
       "              473],\n",
       "             'دیوید والاس ': [474, 475, 483, 484, 485],\n",
       "             'توبی فلندرسون ': [474, 475, 486, 487, 488],\n",
       "             'سپتیسمی ': [479, 480, 481, 482],\n",
       "             'داستان اسباب\\u200cبازی ۴ ': [489, 490],\n",
       "             'پیکسار ': [489, 490],\n",
       "             'ب\\u200cام\\u200cو ایکس۷ ': [491, 492],\n",
       "             'ب\\u200cام\\u200cو سری ۷ ': [491, 492],\n",
       "             'انجمن فیزیک ایران ': [493],\n",
       "             'محمود حسابی ': [493],\n",
       "             'قمری خانگی ': [494],\n",
       "             'آفریقای سیاه ': [494],\n",
       "             'افسون\\u200cنزده ': [495],\n",
       "             'مایا رودولف ': [495],\n",
       "             'جنکینز ': [496, 497],\n",
       "             'آپاچی سابورژن ': [496, 497],\n",
       "             'ایرتگ (ردیاب) ': [498],\n",
       "             'آیفون ۱۱ ': [498],\n",
       "             'باشگاه فوتبال منچستر سیتی ': [499],\n",
       "             'جیمز اتکینسون (خاورشناس) ': [500],\n",
       "             'کالج فورت ویلیام ': [500],\n",
       "             'علاءالدین حسین غوری ': [501],\n",
       "             'شرکت بهره\\u200cبرداری نفت و گاز مارون ': [502, 503, 504],\n",
       "             'میدان نفتی مارون ': [502, 503, 504],\n",
       "             'محسن کوهکن ': [505, 506],\n",
       "             'حوزه انتخابیه لنجان ': [505, 506],\n",
       "             'درون\\u200cکاشت مصنوعی ': [507],\n",
       "             'اسپرم ': [507],\n",
       "             'فار کرای پرایمال ': [508, 509],\n",
       "             'فار کرای ': [508, 509],\n",
       "             'آبین سور ': [510, 511],\n",
       "             'بنتونیت ': [512],\n",
       "             'طب سنتی ': [512],\n",
       "             'زنی پشت پنجره (فیلم ۲۰۲۱) ': [513],\n",
       "             'وایت راسل ': [513],\n",
       "             'اثر پروانه\\u200cای (فیلم) ': [514, 515, 516],\n",
       "             'ایمی اسمارت ': [514, 515, 516],\n",
       "             'فلز ': [517],\n",
       "             'سشات ': [518],\n",
       "             'ریاضیات ': [518],\n",
       "             'شب یلدا (فیلم) ': [519],\n",
       "             'کیومرث پوراحمد ': [519],\n",
       "             'جان اسلتری ': [520, 521],\n",
       "             'آندرداگ (فیلم ۲۰۰۷) ': [520, 521],\n",
       "             'بهترین زمان (فیلم) ': [522],\n",
       "             'روبین لایولی ': [522],\n",
       "             'دورنیه دو ۲۱۷ ': [523, 524, 525],\n",
       "             'دورنیه فلوکتسویک\\u200cورکه ': [523, 524, 525],\n",
       "             'نظریه عدالت ': [526],\n",
       "             'جان رالز ': [526],\n",
       "             'زبان اردو ': [527, 528],\n",
       "             'حمد ': [527, 528],\n",
       "             'این\\u200cاسلیو: اودیسه به سمت غرب ': [529, 530, 531],\n",
       "             'بندای نامکو انترتینمنت ': [529, 530, 531],\n",
       "             'سه نفر با یک کبریت ': [532],\n",
       "             'وارن ویلیام ': [532],\n",
       "             'پنجاه و نهمین دوره جوایز بفتا ': [533],\n",
       "             'فیلیپ سیمور هافمن ': [533],\n",
       "             'خامه ': [534],\n",
       "             'وگانیسم ': [534],\n",
       "             'نقشه\\u200cبردار موضوعی ': [535, 536, 537, 538],\n",
       "             'لندست ۴ ': [535, 536, 537, 538],\n",
       "             'گرگ هندی ': [539, 540],\n",
       "             'شبه\\u200cقاره هند ': [539, 540],\n",
       "             'هری پاتر و تالار اسرار (فیلم) ': [541, 542, 543, 544, 549],\n",
       "             'زبان ترکی استانبولی ': [546],\n",
       "             'هیوندای اصلان ': [546],\n",
       "             'کایوت در برابر اکمی ': [547, 548],\n",
       "             'برادران وارنر پیکچرز ': [547, 548, 549],\n",
       "             'مائدا ماتسو ': [550],\n",
       "             'کیوگوکو تاتسوکو ': [550],\n",
       "             'ساخت ساز سنتی در اردبیل ': [551],\n",
       "             'سه\\u200cتار ': [551]})"
      ]
     },
     "execution_count": 7,
     "metadata": {},
     "output_type": "execute_result"
    }
   ],
   "source": [
    "topic_to_samples"
   ]
  },
  {
   "cell_type": "code",
   "execution_count": 8,
   "id": "724a3174",
   "metadata": {},
   "outputs": [
    {
     "name": "stdout",
     "output_type": "stream",
     "text": [
      "Guaranteed training samples: 280\n"
     ]
    }
   ],
   "source": [
    "# one sample per topic for training (to guarantee coverage)\n",
    "guaranteed_train_indices = set()\n",
    "for topic, sample_indices in topic_to_samples.items():\n",
    "    selected_idx = np.random.choice(sample_indices)\n",
    "    guaranteed_train_indices.add(selected_idx)\n",
    "\n",
    "print(f\"Guaranteed training samples: {len(guaranteed_train_indices)}\")"
   ]
  },
  {
   "cell_type": "code",
   "execution_count": 9,
   "id": "292935f4",
   "metadata": {},
   "outputs": [
    {
     "name": "stdout",
     "output_type": "stream",
     "text": [
      "Train size: 400\n",
      "Test size: 152\n"
     ]
    }
   ],
   "source": [
    "remaining_indices = set(range(len(df))) - guaranteed_train_indices\n",
    "remaining_indices = list(remaining_indices)\n",
    "\n",
    "additional_train_needed = 400 - len(guaranteed_train_indices)\n",
    "\n",
    "additional_train_indices = np.random.choice(\n",
    "    remaining_indices, \n",
    "    size=additional_train_needed, \n",
    "    replace=False\n",
    ")\n",
    "train_indices = list(guaranteed_train_indices) + list(additional_train_indices)\n",
    "all_indices = set(range(len(df)))\n",
    "test_indices = list(all_indices - set(train_indices))\n",
    "\n",
    "# Create train and test splits\n",
    "train_df = df.iloc[train_indices].reset_index(drop=True)\n",
    "test_df = df.iloc[test_indices].reset_index(drop=True)\n",
    "\n",
    "# Remove the helper 'topics' column\n",
    "train_df = train_df.drop('topics', axis=1)\n",
    "test_df = test_df.drop('topics', axis=1)\n",
    "\n",
    "print(f\"Train size: {len(train_df)}\")\n",
    "print(f\"Test size: {len(test_df)}\")"
   ]
  },
  {
   "cell_type": "code",
   "execution_count": null,
   "id": "bf878b0e",
   "metadata": {},
   "outputs": [
    {
     "name": "stdout",
     "output_type": "stream",
     "text": [
      "Topics in training set: 388\n"
     ]
    }
   ],
   "source": [
    "# Verify topic coverage in training \n",
    "train_topics = set()\n",
    "for _, row in train_df.iterrows():\n",
    "    for context_item in row['context']:\n",
    "        if len(context_item) > 0:\n",
    "            train_topics.add(context_item[0])\n",
    "\n",
    "print(f\"Topics in training set: {len(train_topics)}\")\n",
    "\n",
    "## Save the splits\n",
    "# train_df.to_json('train_data.json', orient='records', force_ascii=False, indent=2)\n",
    "# test_df.to_json('test_data.json', orient='records', force_ascii=False, indent=2)"
   ]
  },
  {
   "cell_type": "markdown",
   "id": "c84d4776",
   "metadata": {},
   "source": [
    "# Extracting Knowledge Graph Triplets"
   ]
  },
  {
   "cell_type": "code",
   "execution_count": 1,
   "id": "53f38f97",
   "metadata": {},
   "outputs": [],
   "source": [
    "from langchain_openai import ChatOpenAI\n",
    "from langchain.prompts import ChatPromptTemplate\n",
    "from pydantic import BaseModel, Field\n",
    "from typing import List\n",
    "import dotenv\n",
    "import json\n",
    "import os"
   ]
  },
  {
   "cell_type": "code",
   "execution_count": 2,
   "id": "774d9f16",
   "metadata": {},
   "outputs": [],
   "source": [
    "dotenv.load_dotenv()\n",
    "\n",
    "MODEL_NAME = \"gpt-4o-mini\"\n",
    "\n",
    "llm = ChatOpenAI(\n",
    "    model=MODEL_NAME,\n",
    "    temperature=0,\n",
    "    api_key=os.getenv(\"METIS_API_KEY\"),\n",
    "    base_url=\"https://api.metisai.ir/openai/v1\",\n",
    ")"
   ]
  },
  {
   "cell_type": "code",
   "execution_count": null,
   "id": "32c1de47",
   "metadata": {},
   "outputs": [
    {
     "name": "stdout",
     "output_type": "stream",
     "text": [
      "First 3 contexts:\n",
      "آفریقای جنوبی با نام رسمی جمهوری آفریقای جنوبی  کشوری در جنوب آفریقا و در سواحل دو اقیانوس اطلس و هند است.\n",
      "این کشور با جمعیتی برابر ۵۹٫۶ میلیون تن چهارمین کشور پر جمعیت در آفریقای زیرصحرا می‌باشد.\n",
      "----------\n",
      "مانجاری فاندیس مدل و هنرپیشه اهل هند است.\n",
      "مانجاری در سال ۲۰۰۸ با بازی در سریال اگه بدونی یا نه شناخته شد.\n",
      "آقای تقلب فیلم دیگریست که او در آن نقش آفرینی کرده‌است.\n",
      "----------\n",
      "لوک اسکای‌واکر شخصیتی تخیلی و قهرمان داستان در سه‌گانهٔ اصلی فرنچایز جنگ ستارگان است که توسط جرج لوکاس پدید آمده‌است.\n",
      "لوک را مارک همیل به تصویر کشیده‌است و نخستین بار در جنگ ستارگان ظاهر شد و در فیلم‌های امپراتوری ضربه متقابل می‌زند و بازگشت جدای بازگشت.\n",
      "مارک همیل سه دهه بعد نقش لوک را در سه‌گانهٔ دنبالهٔ این فرنچایز متشکل از فیلم‌های نیرو برمی‌خیزد ، آخرین جدای و خیزش اسکای‌واکر ایفا کرد.\n",
      "همیل همچنین به‌صورت بدل و دیجیتالی جوان‌شده در قسمت ۱۶ مجموعهٔ مندلورین در نقش لوک حضور داشت.\n",
      "----------\n"
     ]
    }
   ],
   "source": [
    "# load all_context from json file\n",
    "with open('all_context.json', 'r', encoding='utf-8') as f:\n",
    "    all_context = json.load(f)\n",
    "\n",
    "# print 3 first contexts\n",
    "print(\"First 3 contexts:\")\n",
    "for context in all_context[:3]:\n",
    "    print(context)\n",
    "    print(\"-\" * 10)"
   ]
  },
  {
   "cell_type": "code",
   "execution_count": null,
   "id": "6c92a583",
   "metadata": {},
   "outputs": [],
   "source": [
    "class NamedEntities(BaseModel):\n",
    "    \"\"\"A structured list of named entities.\"\"\"\n",
    "    named_entities: List[str] = Field(\n",
    "        ...,\n",
    "        description=\"A list of named entities extracted from the provided passage.\"\n",
    "    )\n",
    "\n",
    "class KnowledgeTriple(BaseModel):\n",
    "    \"\"\"Represents a single Subject-Predicate-Object relationship.\"\"\"\n",
    "    subject: str = Field(..., description=\"The subject of the relationship.\")\n",
    "    predicate: str = Field(..., description=\"The predicate or verb phrase describing the relationship.\")\n",
    "    object: str = Field(..., description=\"The object of the relationship.\")\n",
    "\n",
    "class Triples(BaseModel):\n",
    "    \"\"\"A structured list of knowledge triples.\"\"\"\n",
    "    triples: List[KnowledgeTriple] = Field(\n",
    "        ...,\n",
    "        description=\"A list of knowledge triples (subject, predicate, object) extracted from the passage.\"\n",
    "    )"
   ]
  },
  {
   "cell_type": "code",
   "execution_count": 11,
   "id": "c2434544",
   "metadata": {},
   "outputs": [],
   "source": [
    "ner_system_prompt = \"\"\"\n",
    "Instruction:\n",
    "Your task is to extract named entities from the given paragraph in the user's message.\n",
    "Respond with a JSON list of entities.\n",
    "\n",
    "One-Shot Demonstration:\n",
    "If the user provides the paragraph:\n",
    "\"Radio City is India's first private FM radio station and was started on 3 July 2001. It plays Hindi, English and regional songs. Radio City recently forayed into New Media in May 2008 with the launch of a music portal - PlanetRadiocity.com that offers music related news, videos, songs, and other music-related features.\"\n",
    "\n",
    "Your output should be a JSON object with a list of the extracted entities:\n",
    "{{\"named_entities\": [\"Radio City\", \"India\", \"3 July 2001\", \"Hindi\", \"English\", \"May 2008\", \"PlanetRadiocity.com\"]}}\n",
    "\"\"\"\n",
    "\n",
    "# System Prompt for Open Information Extraction (OpenIE)\n",
    "# This example is taken from Figure 9 of the HippoRAG paper.\n",
    "openie_system_prompt = \"\"\"\n",
    "Instruction:\n",
    "Your task is to construct an RDF (Resource Description Framework) graph from the given passages and named entity lists.\n",
    "Respond with a JSON list of triples, with each triple representing a relationship in the RDF graph.\n",
    "Pay attention to the following requirements:\n",
    "- Each triple should contain at least one, but preferably two, of the named entities in the list for each passage.\n",
    "- Clearly resolve pronouns to their specific names to maintain clarity.\n",
    "\n",
    "One-Shot Demonstration:\n",
    "If the user provides the paragraph and entity list:\n",
    "Paragraph:\n",
    "\"Radio City is India's first private FM radio station and was started on 3 July 2001. It plays Hindi, English and regional songs. Radio City recently forayed into New Media in May 2008 with the launch of a music portal - PlanetRadiocity.com that offers music related news, videos, songs, and other music-related features.\"\n",
    "Named Entity List:\n",
    "[\"Radio City\", \"India\", \"3 July 2001\", \"Hindi\", \"English\", \"May 2008\", \"PlanetRadiocity.com\"]\n",
    "\n",
    "Your output should be a JSON object containing a list of the extracted triples:\n",
    "{{\"triples\": [\n",
    "    [\"Radio City\", \"located in\", \"India\"],\n",
    "    [\"Radio City\", \"is\", \"private FM radio station\"],\n",
    "    [\"Radio City\", \"started on\", \"3 July 2001\"],\n",
    "    [\"Radio City\", \"plays songs in\", \"Hindi\"],\n",
    "    [\"Radio City\", \"plays songs in\", \"English\"],\n",
    "    [\"Radio City\", \"forayed into\", \"New Media\"],\n",
    "    [\"Radio City\", \"launched\", \"PlanetRadiocity.com\"],\n",
    "    [\"PlanetRadiocity.com\", \"launched in\", \"May 2008\"],\n",
    "    [\"PlanetRadiocity.com\", \"is\", \"music portal\"],\n",
    "    [\"PlanetRadiocity.com\", \"offers\", \"news\"],\n",
    "    [\"PlanetRadiocity.com\", \"offers\", \"videos\"],\n",
    "    [\"PlanetRadiocity.com\", \"offers\", \"songs\"]\n",
    "]}}\n",
    "\"\"\""
   ]
  },
  {
   "cell_type": "code",
   "execution_count": 12,
   "id": "479be5ce",
   "metadata": {},
   "outputs": [],
   "source": [
    "ner_prompt = ChatPromptTemplate.from_messages([\n",
    "    (\"system\", ner_system_prompt),\n",
    "    (\"human\", \"{passage}\")\n",
    "])\n",
    "\n",
    "openie_prompt = ChatPromptTemplate.from_messages([\n",
    "    (\"system\", openie_system_prompt),\n",
    "    (\"human\", \"Paragraph:\\n{passage}\\n\\nNamed Entity List:\\n{entities}\")\n",
    "])"
   ]
  },
  {
   "cell_type": "code",
   "execution_count": 13,
   "id": "bb04980e",
   "metadata": {},
   "outputs": [],
   "source": [
    "structured_ner_llm = llm.with_structured_output(NamedEntities)\n",
    "structured_openie_llm = llm.with_structured_output(Triples)\n",
    "\n",
    "ner_chain = ner_prompt | structured_ner_llm\n",
    "openie_chain = openie_prompt | structured_openie_llm"
   ]
  },
  {
   "cell_type": "code",
   "execution_count": null,
   "id": "153afeeb",
   "metadata": {},
   "outputs": [],
   "source": [
    "def extract_knowledge_structured(passage: str) -> (List[str], List[dict]):\n",
    "    \"\"\"\n",
    "    Implements the two-step HippoRAG extraction process using a system/user prompt structure.\n",
    "    \"\"\"\n",
    "    try:\n",
    "        ner_response = ner_chain.invoke({\"passage\": passage})\n",
    "        entities = ner_response.named_entities\n",
    "        print(f\"  -> Extracted Entities: {entities}\")\n",
    "    except Exception as e:\n",
    "        print(f\"  -> Error during structured NER extraction: {e}\")\n",
    "        return [], []\n",
    "\n",
    "    if not entities:\n",
    "        print(\"  -> No entities found, skipping triple extraction.\")\n",
    "        return [], []\n",
    "\n",
    "    try:\n",
    "        entities_str = json.dumps(entities, ensure_ascii=False)\n",
    "        openie_response = openie_chain.invoke({\"passage\": passage, \"entities\": entities_str})\n",
    "        triples = [triple.model_dump() for triple in openie_response.triples]\n",
    "        print(f\"  -> Extracted Triples: {triples}\")\n",
    "        return entities, triples\n",
    "    except Exception as e:\n",
    "        print(f\"  -> Error during structured OpenIE extraction: {e}\")\n",
    "        return entities, []"
   ]
  },
  {
   "cell_type": "code",
   "execution_count": 23,
   "id": "268038f8",
   "metadata": {},
   "outputs": [
    {
     "name": "stdout",
     "output_type": "stream",
     "text": [
      "Starting Knowledge Graph Extraction (HippoRAG Paper Examples)\n",
      "\n",
      "context 1/5:\n",
      "'آفریقای جنوبی با نام رسمی جمهوری آفریقای جنوبی  کشوری در جنوب آفریقا و در سواحل دو اقیانوس اطلس و هند است.\n",
      "این کشور با جمعیتی برابر ۵۹٫۶ میلیون تن چهارمین کشور پر جمعیت در آفریقای زیرصحرا می‌باشد.'\n"
     ]
    },
    {
     "name": "stdout",
     "output_type": "stream",
     "text": [
      "--------------------\n",
      "\n",
      "context 2/5:\n",
      "'مانجاری فاندیس مدل و هنرپیشه اهل هند است.\n",
      "مانجاری در سال ۲۰۰۸ با بازی در سریال اگه بدونی یا نه شناخته شد.\n",
      "آقای تقلب فیلم دیگریست که او در آن نقش آفرینی کرده‌است.'\n",
      "--------------------\n",
      "\n",
      "context 3/5:\n",
      "'لوک اسکای‌واکر شخصیتی تخیلی و قهرمان داستان در سه‌گانهٔ اصلی فرنچایز جنگ ستارگان است که توسط جرج لوکاس پدید آمده‌است.\n",
      "لوک را مارک همیل به تصویر کشیده‌است و نخستین بار در جنگ ستارگان ظاهر شد و در فیلم‌های امپراتوری ضربه متقابل می‌زند و بازگشت جدای بازگشت.\n",
      "مارک همیل سه دهه بعد نقش لوک را در سه‌گانهٔ دنبالهٔ این فرنچایز متشکل از فیلم‌های نیرو برمی‌خیزد ، آخرین جدای و خیزش اسکای‌واکر ایفا کرد.\n",
      "همیل همچنین به‌صورت بدل و دیجیتالی جوان‌شده در قسمت ۱۶ مجموعهٔ مندلورین در نقش لوک حضور داشت.'\n",
      "--------------------\n",
      "\n",
      "context 4/5:\n",
      "'مارشال‌های آمریکایی فیلمی محصول سال ۱۹۹۸ آمریکا به کارگردانی استوارت برد است.\n",
      "در این فیلم بازیگرانی همچون تامی لی جونز، رابرت داونی جونیور، وسلی اسنایپس، جو پانتولیانو، ایرن ژاکوب، کیت نلیگان، دانیال روبوک، لاتانیا ریچاردسون، پاتریک مالاهید و مایکل پال چان ایفای نقش کرده‌اند.'\n",
      "--------------------\n",
      "\n",
      "context 5/5:\n",
      "'کیران دسای (Kiran Desai) (زاده ۳ سپتامبر ۱۹۷۱) نویسنده زن هندی است.\n",
      "او در هند، انگلستان و آمریکا تحصیل کرده‌است.\n",
      "دسای با رمان میراث پوچ در سال ۲۰۰۶ جایزه بوکر را برد.'\n",
      "--------------------\n"
     ]
    }
   ],
   "source": [
    "## Test 5 contexts\n",
    "contexts_to_process = all_context[:5]\n",
    "knowledge_graph_data = []\n",
    "\n",
    "print(\"Starting Knowledge Graph Extraction (HippoRAG Paper Examples)\")\n",
    "for i, context_passage in enumerate(contexts_to_process):\n",
    "    print(f\"\\ncontext {i+1}/5:\")\n",
    "    print(f\"'{context_passage}'\")\n",
    "\n",
    "    extracted_entities, extracted_triples = extract_knowledge_structured(context_passage)\n",
    "\n",
    "    if extracted_triples:\n",
    "        knowledge_graph_data.append({\n",
    "            \"id\": i,\n",
    "            \"passage\": context_passage,\n",
    "            \"entities\": extracted_entities,\n",
    "            \"triples\": extracted_triples\n",
    "        })\n",
    "    print(\"-\" * 20)"
   ]
  },
  {
   "cell_type": "code",
   "execution_count": null,
   "id": "151e895c",
   "metadata": {},
   "outputs": [
    {
     "name": "stdout",
     "output_type": "stream",
     "text": [
      "Starting Knowledge Graph Extraction (HippoRAG Paper Examples)\n"
     ]
    },
    {
     "name": "stderr",
     "output_type": "stream",
     "text": [
      "  0%|          | 1/470 [00:06<50:50,  6.51s/it]"
     ]
    },
    {
     "name": "stdout",
     "output_type": "stream",
     "text": [
      "--------------------\n"
     ]
    },
    {
     "name": "stderr",
     "output_type": "stream",
     "text": [
      "  0%|          | 2/470 [00:11<44:09,  5.66s/it]"
     ]
    },
    {
     "name": "stdout",
     "output_type": "stream",
     "text": [
      "--------------------\n"
     ]
    },
    {
     "name": "stderr",
     "output_type": "stream",
     "text": [
      "  1%|          | 3/470 [00:21<1:00:23,  7.76s/it]"
     ]
    },
    {
     "name": "stdout",
     "output_type": "stream",
     "text": [
      "--------------------\n"
     ]
    },
    {
     "name": "stderr",
     "output_type": "stream",
     "text": [
      "  1%|          | 4/470 [00:32<1:10:41,  9.10s/it]"
     ]
    },
    {
     "name": "stdout",
     "output_type": "stream",
     "text": [
      "--------------------\n"
     ]
    },
    {
     "name": "stderr",
     "output_type": "stream",
     "text": [
      "  1%|          | 5/470 [00:38<59:39,  7.70s/it]  "
     ]
    },
    {
     "name": "stdout",
     "output_type": "stream",
     "text": [
      "--------------------\n"
     ]
    },
    {
     "name": "stderr",
     "output_type": "stream",
     "text": [
      "  1%|▏         | 6/470 [00:43<53:05,  6.87s/it]"
     ]
    },
    {
     "name": "stdout",
     "output_type": "stream",
     "text": [
      "--------------------\n"
     ]
    },
    {
     "name": "stderr",
     "output_type": "stream",
     "text": [
      "  1%|▏         | 7/470 [00:49<51:05,  6.62s/it]"
     ]
    },
    {
     "name": "stdout",
     "output_type": "stream",
     "text": [
      "--------------------\n"
     ]
    },
    {
     "name": "stderr",
     "output_type": "stream",
     "text": [
      "  2%|▏         | 8/470 [01:00<1:01:11,  7.95s/it]"
     ]
    },
    {
     "name": "stdout",
     "output_type": "stream",
     "text": [
      "--------------------\n"
     ]
    },
    {
     "name": "stderr",
     "output_type": "stream",
     "text": [
      "  2%|▏         | 9/470 [01:15<1:18:42, 10.24s/it]"
     ]
    },
    {
     "name": "stdout",
     "output_type": "stream",
     "text": [
      "--------------------\n"
     ]
    },
    {
     "name": "stderr",
     "output_type": "stream",
     "text": [
      "  2%|▏         | 10/470 [01:24<1:16:09,  9.93s/it]"
     ]
    },
    {
     "name": "stdout",
     "output_type": "stream",
     "text": [
      "--------------------\n"
     ]
    },
    {
     "name": "stderr",
     "output_type": "stream",
     "text": [
      "  2%|▏         | 11/470 [01:34<1:15:47,  9.91s/it]"
     ]
    },
    {
     "name": "stdout",
     "output_type": "stream",
     "text": [
      "--------------------\n"
     ]
    },
    {
     "name": "stderr",
     "output_type": "stream",
     "text": [
      "  3%|▎         | 12/470 [01:43<1:14:02,  9.70s/it]"
     ]
    },
    {
     "name": "stdout",
     "output_type": "stream",
     "text": [
      "--------------------\n"
     ]
    },
    {
     "name": "stderr",
     "output_type": "stream",
     "text": [
      "  3%|▎         | 13/470 [01:50<1:06:04,  8.68s/it]"
     ]
    },
    {
     "name": "stdout",
     "output_type": "stream",
     "text": [
      "--------------------\n"
     ]
    },
    {
     "name": "stderr",
     "output_type": "stream",
     "text": [
      "  3%|▎         | 14/470 [01:58<1:04:33,  8.49s/it]"
     ]
    },
    {
     "name": "stdout",
     "output_type": "stream",
     "text": [
      "--------------------\n"
     ]
    },
    {
     "name": "stderr",
     "output_type": "stream",
     "text": [
      "  3%|▎         | 15/470 [02:04<58:04,  7.66s/it]  "
     ]
    },
    {
     "name": "stdout",
     "output_type": "stream",
     "text": [
      "--------------------\n"
     ]
    },
    {
     "name": "stderr",
     "output_type": "stream",
     "text": [
      "  3%|▎         | 16/470 [02:13<1:00:51,  8.04s/it]"
     ]
    },
    {
     "name": "stdout",
     "output_type": "stream",
     "text": [
      "--------------------\n"
     ]
    },
    {
     "name": "stderr",
     "output_type": "stream",
     "text": [
      "  4%|▎         | 17/470 [02:20<58:35,  7.76s/it]  "
     ]
    },
    {
     "name": "stdout",
     "output_type": "stream",
     "text": [
      "--------------------\n"
     ]
    },
    {
     "name": "stderr",
     "output_type": "stream",
     "text": [
      "  4%|▍         | 18/470 [02:26<56:15,  7.47s/it]"
     ]
    },
    {
     "name": "stdout",
     "output_type": "stream",
     "text": [
      "--------------------\n"
     ]
    },
    {
     "name": "stderr",
     "output_type": "stream",
     "text": [
      "  4%|▍         | 19/470 [02:30<47:54,  6.37s/it]"
     ]
    },
    {
     "name": "stdout",
     "output_type": "stream",
     "text": [
      "--------------------\n"
     ]
    },
    {
     "name": "stderr",
     "output_type": "stream",
     "text": [
      "  4%|▍         | 20/470 [02:42<59:58,  8.00s/it]"
     ]
    },
    {
     "name": "stdout",
     "output_type": "stream",
     "text": [
      "--------------------\n"
     ]
    },
    {
     "name": "stderr",
     "output_type": "stream",
     "text": [
      "  4%|▍         | 21/470 [02:48<56:17,  7.52s/it]"
     ]
    },
    {
     "name": "stdout",
     "output_type": "stream",
     "text": [
      "--------------------\n"
     ]
    },
    {
     "name": "stderr",
     "output_type": "stream",
     "text": [
      "  5%|▍         | 22/470 [02:55<54:56,  7.36s/it]"
     ]
    },
    {
     "name": "stdout",
     "output_type": "stream",
     "text": [
      "--------------------\n"
     ]
    },
    {
     "name": "stderr",
     "output_type": "stream",
     "text": [
      "  5%|▍         | 23/470 [03:09<1:09:23,  9.31s/it]"
     ]
    },
    {
     "name": "stdout",
     "output_type": "stream",
     "text": [
      "--------------------\n"
     ]
    },
    {
     "name": "stderr",
     "output_type": "stream",
     "text": [
      "  5%|▌         | 24/470 [03:19<1:09:47,  9.39s/it]"
     ]
    },
    {
     "name": "stdout",
     "output_type": "stream",
     "text": [
      "--------------------\n"
     ]
    },
    {
     "name": "stderr",
     "output_type": "stream",
     "text": [
      "  5%|▌         | 25/470 [03:26<1:05:47,  8.87s/it]"
     ]
    },
    {
     "name": "stdout",
     "output_type": "stream",
     "text": [
      "--------------------\n"
     ]
    },
    {
     "name": "stderr",
     "output_type": "stream",
     "text": [
      "  6%|▌         | 26/470 [03:34<1:02:14,  8.41s/it]"
     ]
    },
    {
     "name": "stdout",
     "output_type": "stream",
     "text": [
      "--------------------\n"
     ]
    },
    {
     "name": "stderr",
     "output_type": "stream",
     "text": [
      "  6%|▌         | 27/470 [03:42<1:02:05,  8.41s/it]"
     ]
    },
    {
     "name": "stdout",
     "output_type": "stream",
     "text": [
      "--------------------\n"
     ]
    },
    {
     "name": "stderr",
     "output_type": "stream",
     "text": [
      "  6%|▌         | 28/470 [03:53<1:07:23,  9.15s/it]"
     ]
    },
    {
     "name": "stdout",
     "output_type": "stream",
     "text": [
      "--------------------\n"
     ]
    },
    {
     "name": "stderr",
     "output_type": "stream",
     "text": [
      "  6%|▌         | 29/470 [04:01<1:04:22,  8.76s/it]"
     ]
    },
    {
     "name": "stdout",
     "output_type": "stream",
     "text": [
      "--------------------\n"
     ]
    },
    {
     "name": "stderr",
     "output_type": "stream",
     "text": [
      "  6%|▋         | 30/470 [04:10<1:04:16,  8.77s/it]"
     ]
    },
    {
     "name": "stdout",
     "output_type": "stream",
     "text": [
      "--------------------\n"
     ]
    },
    {
     "name": "stderr",
     "output_type": "stream",
     "text": [
      "  7%|▋         | 31/470 [04:21<1:08:42,  9.39s/it]"
     ]
    },
    {
     "name": "stdout",
     "output_type": "stream",
     "text": [
      "--------------------\n"
     ]
    },
    {
     "name": "stderr",
     "output_type": "stream",
     "text": [
      "  7%|▋         | 32/470 [04:27<1:01:29,  8.42s/it]"
     ]
    },
    {
     "name": "stdout",
     "output_type": "stream",
     "text": [
      "--------------------\n"
     ]
    },
    {
     "name": "stderr",
     "output_type": "stream",
     "text": [
      "  7%|▋         | 33/470 [04:34<58:08,  7.98s/it]  "
     ]
    },
    {
     "name": "stdout",
     "output_type": "stream",
     "text": [
      "--------------------\n"
     ]
    },
    {
     "name": "stderr",
     "output_type": "stream",
     "text": [
      "  7%|▋         | 34/470 [04:42<59:08,  8.14s/it]"
     ]
    },
    {
     "name": "stdout",
     "output_type": "stream",
     "text": [
      "--------------------\n"
     ]
    },
    {
     "name": "stderr",
     "output_type": "stream",
     "text": [
      "  7%|▋         | 35/470 [04:50<58:24,  8.06s/it]"
     ]
    },
    {
     "name": "stdout",
     "output_type": "stream",
     "text": [
      "--------------------\n"
     ]
    },
    {
     "name": "stderr",
     "output_type": "stream",
     "text": [
      "  8%|▊         | 36/470 [04:57<55:51,  7.72s/it]"
     ]
    },
    {
     "name": "stdout",
     "output_type": "stream",
     "text": [
      "--------------------\n"
     ]
    },
    {
     "name": "stderr",
     "output_type": "stream",
     "text": [
      "  8%|▊         | 37/470 [05:10<1:06:55,  9.27s/it]"
     ]
    },
    {
     "name": "stdout",
     "output_type": "stream",
     "text": [
      "--------------------\n"
     ]
    },
    {
     "name": "stderr",
     "output_type": "stream",
     "text": [
      "  8%|▊         | 38/470 [05:16<1:00:34,  8.41s/it]"
     ]
    },
    {
     "name": "stdout",
     "output_type": "stream",
     "text": [
      "--------------------\n"
     ]
    },
    {
     "name": "stderr",
     "output_type": "stream",
     "text": [
      "  8%|▊         | 39/470 [05:23<56:44,  7.90s/it]  "
     ]
    },
    {
     "name": "stdout",
     "output_type": "stream",
     "text": [
      "--------------------\n"
     ]
    },
    {
     "name": "stderr",
     "output_type": "stream",
     "text": [
      "  9%|▊         | 40/470 [05:29<53:00,  7.40s/it]"
     ]
    },
    {
     "name": "stdout",
     "output_type": "stream",
     "text": [
      "--------------------\n"
     ]
    },
    {
     "name": "stderr",
     "output_type": "stream",
     "text": [
      "  9%|▊         | 41/470 [05:36<51:25,  7.19s/it]"
     ]
    },
    {
     "name": "stdout",
     "output_type": "stream",
     "text": [
      "--------------------\n"
     ]
    },
    {
     "name": "stderr",
     "output_type": "stream",
     "text": [
      "  9%|▉         | 42/470 [05:42<48:22,  6.78s/it]"
     ]
    },
    {
     "name": "stdout",
     "output_type": "stream",
     "text": [
      "--------------------\n"
     ]
    },
    {
     "name": "stderr",
     "output_type": "stream",
     "text": [
      "  9%|▉         | 43/470 [05:49<49:21,  6.93s/it]"
     ]
    },
    {
     "name": "stdout",
     "output_type": "stream",
     "text": [
      "--------------------\n"
     ]
    },
    {
     "name": "stderr",
     "output_type": "stream",
     "text": [
      "  9%|▉         | 44/470 [05:53<41:59,  5.91s/it]"
     ]
    },
    {
     "name": "stdout",
     "output_type": "stream",
     "text": [
      "--------------------\n"
     ]
    },
    {
     "name": "stderr",
     "output_type": "stream",
     "text": [
      " 10%|▉         | 45/470 [06:10<1:06:57,  9.45s/it]"
     ]
    },
    {
     "name": "stdout",
     "output_type": "stream",
     "text": [
      "--------------------\n"
     ]
    },
    {
     "name": "stderr",
     "output_type": "stream",
     "text": [
      " 10%|▉         | 46/470 [06:21<1:09:27,  9.83s/it]"
     ]
    },
    {
     "name": "stdout",
     "output_type": "stream",
     "text": [
      "--------------------\n"
     ]
    },
    {
     "name": "stderr",
     "output_type": "stream",
     "text": [
      " 10%|█         | 47/470 [06:38<1:24:40, 12.01s/it]"
     ]
    },
    {
     "name": "stdout",
     "output_type": "stream",
     "text": [
      "--------------------\n"
     ]
    },
    {
     "name": "stderr",
     "output_type": "stream",
     "text": [
      " 10%|█         | 48/470 [06:44<1:12:16, 10.28s/it]"
     ]
    },
    {
     "name": "stdout",
     "output_type": "stream",
     "text": [
      "--------------------\n"
     ]
    },
    {
     "name": "stderr",
     "output_type": "stream",
     "text": [
      " 10%|█         | 49/470 [06:49<1:00:40,  8.65s/it]"
     ]
    },
    {
     "name": "stdout",
     "output_type": "stream",
     "text": [
      "--------------------\n"
     ]
    },
    {
     "name": "stderr",
     "output_type": "stream",
     "text": [
      " 11%|█         | 50/470 [07:04<1:13:09, 10.45s/it]"
     ]
    },
    {
     "name": "stdout",
     "output_type": "stream",
     "text": [
      "--------------------\n"
     ]
    },
    {
     "name": "stderr",
     "output_type": "stream",
     "text": [
      " 11%|█         | 51/470 [07:10<1:03:04,  9.03s/it]"
     ]
    },
    {
     "name": "stdout",
     "output_type": "stream",
     "text": [
      "--------------------\n"
     ]
    },
    {
     "name": "stderr",
     "output_type": "stream",
     "text": [
      " 11%|█         | 52/470 [07:16<56:48,  8.15s/it]  "
     ]
    },
    {
     "name": "stdout",
     "output_type": "stream",
     "text": [
      "--------------------\n"
     ]
    },
    {
     "name": "stderr",
     "output_type": "stream",
     "text": [
      " 11%|█▏        | 53/470 [07:25<58:01,  8.35s/it]"
     ]
    },
    {
     "name": "stdout",
     "output_type": "stream",
     "text": [
      "--------------------\n"
     ]
    },
    {
     "name": "stderr",
     "output_type": "stream",
     "text": [
      " 11%|█▏        | 54/470 [07:38<1:09:15,  9.99s/it]"
     ]
    },
    {
     "name": "stdout",
     "output_type": "stream",
     "text": [
      "--------------------\n"
     ]
    },
    {
     "name": "stderr",
     "output_type": "stream",
     "text": [
      " 12%|█▏        | 55/470 [07:46<1:04:50,  9.37s/it]"
     ]
    },
    {
     "name": "stdout",
     "output_type": "stream",
     "text": [
      "--------------------\n"
     ]
    },
    {
     "name": "stderr",
     "output_type": "stream",
     "text": [
      " 12%|█▏        | 56/470 [08:00<1:13:44, 10.69s/it]"
     ]
    },
    {
     "name": "stdout",
     "output_type": "stream",
     "text": [
      "--------------------\n"
     ]
    },
    {
     "name": "stderr",
     "output_type": "stream",
     "text": [
      " 12%|█▏        | 57/470 [08:09<1:10:45, 10.28s/it]"
     ]
    },
    {
     "name": "stdout",
     "output_type": "stream",
     "text": [
      "--------------------\n"
     ]
    },
    {
     "name": "stderr",
     "output_type": "stream",
     "text": [
      " 12%|█▏        | 58/470 [08:16<1:02:39,  9.13s/it]"
     ]
    },
    {
     "name": "stdout",
     "output_type": "stream",
     "text": [
      "--------------------\n"
     ]
    },
    {
     "name": "stderr",
     "output_type": "stream",
     "text": [
      " 13%|█▎        | 59/470 [08:28<1:08:15,  9.96s/it]"
     ]
    },
    {
     "name": "stdout",
     "output_type": "stream",
     "text": [
      "--------------------\n"
     ]
    },
    {
     "name": "stderr",
     "output_type": "stream",
     "text": [
      " 13%|█▎        | 60/470 [08:35<1:03:09,  9.24s/it]"
     ]
    },
    {
     "name": "stdout",
     "output_type": "stream",
     "text": [
      "--------------------\n"
     ]
    },
    {
     "name": "stderr",
     "output_type": "stream",
     "text": [
      " 13%|█▎        | 61/470 [08:46<1:06:38,  9.78s/it]"
     ]
    },
    {
     "name": "stdout",
     "output_type": "stream",
     "text": [
      "--------------------\n"
     ]
    },
    {
     "name": "stderr",
     "output_type": "stream",
     "text": [
      " 13%|█▎        | 62/470 [08:52<57:58,  8.52s/it]  "
     ]
    },
    {
     "name": "stdout",
     "output_type": "stream",
     "text": [
      "--------------------\n"
     ]
    },
    {
     "name": "stderr",
     "output_type": "stream",
     "text": [
      " 13%|█▎        | 63/470 [08:59<54:08,  7.98s/it]"
     ]
    },
    {
     "name": "stdout",
     "output_type": "stream",
     "text": [
      "--------------------\n"
     ]
    },
    {
     "name": "stderr",
     "output_type": "stream",
     "text": [
      " 14%|█▎        | 64/470 [09:11<1:03:35,  9.40s/it]"
     ]
    },
    {
     "name": "stdout",
     "output_type": "stream",
     "text": [
      "--------------------\n"
     ]
    },
    {
     "name": "stderr",
     "output_type": "stream",
     "text": [
      " 14%|█▍        | 65/470 [09:22<1:06:25,  9.84s/it]"
     ]
    },
    {
     "name": "stdout",
     "output_type": "stream",
     "text": [
      "--------------------\n"
     ]
    },
    {
     "name": "stderr",
     "output_type": "stream",
     "text": [
      " 14%|█▍        | 66/470 [09:30<1:03:07,  9.37s/it]"
     ]
    },
    {
     "name": "stdout",
     "output_type": "stream",
     "text": [
      "--------------------\n"
     ]
    },
    {
     "name": "stderr",
     "output_type": "stream",
     "text": [
      " 14%|█▍        | 67/470 [09:39<1:01:31,  9.16s/it]"
     ]
    },
    {
     "name": "stdout",
     "output_type": "stream",
     "text": [
      "--------------------\n"
     ]
    },
    {
     "name": "stderr",
     "output_type": "stream",
     "text": [
      " 14%|█▍        | 68/470 [09:51<1:06:18,  9.90s/it]"
     ]
    },
    {
     "name": "stdout",
     "output_type": "stream",
     "text": [
      "--------------------\n"
     ]
    },
    {
     "name": "stderr",
     "output_type": "stream",
     "text": [
      " 15%|█▍        | 69/470 [10:00<1:04:27,  9.64s/it]"
     ]
    },
    {
     "name": "stdout",
     "output_type": "stream",
     "text": [
      "--------------------\n"
     ]
    },
    {
     "name": "stderr",
     "output_type": "stream",
     "text": [
      " 15%|█▍        | 70/470 [10:07<58:46,  8.82s/it]  "
     ]
    },
    {
     "name": "stdout",
     "output_type": "stream",
     "text": [
      "--------------------\n"
     ]
    },
    {
     "name": "stderr",
     "output_type": "stream",
     "text": [
      " 15%|█▌        | 71/470 [10:14<55:22,  8.33s/it]"
     ]
    },
    {
     "name": "stdout",
     "output_type": "stream",
     "text": [
      "--------------------\n"
     ]
    },
    {
     "name": "stderr",
     "output_type": "stream",
     "text": [
      " 15%|█▌        | 72/470 [10:22<55:44,  8.40s/it]"
     ]
    },
    {
     "name": "stdout",
     "output_type": "stream",
     "text": [
      "--------------------\n"
     ]
    },
    {
     "name": "stderr",
     "output_type": "stream",
     "text": [
      " 16%|█▌        | 73/470 [10:30<54:45,  8.28s/it]"
     ]
    },
    {
     "name": "stdout",
     "output_type": "stream",
     "text": [
      "--------------------\n"
     ]
    },
    {
     "name": "stderr",
     "output_type": "stream",
     "text": [
      " 16%|█▌        | 74/470 [10:38<53:44,  8.14s/it]"
     ]
    },
    {
     "name": "stdout",
     "output_type": "stream",
     "text": [
      "--------------------\n"
     ]
    },
    {
     "name": "stderr",
     "output_type": "stream",
     "text": [
      " 16%|█▌        | 75/470 [10:50<1:00:32,  9.20s/it]"
     ]
    },
    {
     "name": "stdout",
     "output_type": "stream",
     "text": [
      "--------------------\n"
     ]
    },
    {
     "name": "stderr",
     "output_type": "stream",
     "text": [
      " 16%|█▌        | 76/470 [11:02<1:06:02, 10.06s/it]"
     ]
    },
    {
     "name": "stdout",
     "output_type": "stream",
     "text": [
      "--------------------\n"
     ]
    },
    {
     "name": "stderr",
     "output_type": "stream",
     "text": [
      " 16%|█▋        | 77/470 [11:08<57:14,  8.74s/it]  "
     ]
    },
    {
     "name": "stdout",
     "output_type": "stream",
     "text": [
      "--------------------\n"
     ]
    },
    {
     "name": "stderr",
     "output_type": "stream",
     "text": [
      " 17%|█▋        | 78/470 [11:16<56:56,  8.71s/it]"
     ]
    },
    {
     "name": "stdout",
     "output_type": "stream",
     "text": [
      "--------------------\n"
     ]
    },
    {
     "name": "stderr",
     "output_type": "stream",
     "text": [
      " 17%|█▋        | 79/470 [11:24<54:12,  8.32s/it]"
     ]
    },
    {
     "name": "stdout",
     "output_type": "stream",
     "text": [
      "--------------------\n"
     ]
    },
    {
     "name": "stderr",
     "output_type": "stream",
     "text": [
      " 17%|█▋        | 80/470 [11:33<56:58,  8.77s/it]"
     ]
    },
    {
     "name": "stdout",
     "output_type": "stream",
     "text": [
      "--------------------\n"
     ]
    },
    {
     "name": "stderr",
     "output_type": "stream",
     "text": [
      " 17%|█▋        | 81/470 [11:39<51:03,  7.87s/it]"
     ]
    },
    {
     "name": "stdout",
     "output_type": "stream",
     "text": [
      "--------------------\n"
     ]
    },
    {
     "name": "stderr",
     "output_type": "stream",
     "text": [
      " 17%|█▋        | 82/470 [11:48<53:03,  8.20s/it]"
     ]
    },
    {
     "name": "stdout",
     "output_type": "stream",
     "text": [
      "--------------------\n"
     ]
    },
    {
     "name": "stderr",
     "output_type": "stream",
     "text": [
      " 18%|█▊        | 83/470 [11:55<50:35,  7.84s/it]"
     ]
    },
    {
     "name": "stdout",
     "output_type": "stream",
     "text": [
      "--------------------\n"
     ]
    },
    {
     "name": "stderr",
     "output_type": "stream",
     "text": [
      " 18%|█▊        | 84/470 [12:06<55:09,  8.57s/it]"
     ]
    },
    {
     "name": "stdout",
     "output_type": "stream",
     "text": [
      "--------------------\n"
     ]
    },
    {
     "name": "stderr",
     "output_type": "stream",
     "text": [
      " 18%|█▊        | 85/470 [12:19<1:04:10, 10.00s/it]"
     ]
    },
    {
     "name": "stdout",
     "output_type": "stream",
     "text": [
      "--------------------\n"
     ]
    },
    {
     "name": "stderr",
     "output_type": "stream",
     "text": [
      " 18%|█▊        | 86/470 [12:24<55:35,  8.69s/it]  "
     ]
    },
    {
     "name": "stdout",
     "output_type": "stream",
     "text": [
      "--------------------\n"
     ]
    },
    {
     "name": "stderr",
     "output_type": "stream",
     "text": [
      " 19%|█▊        | 87/470 [12:33<55:01,  8.62s/it]"
     ]
    },
    {
     "name": "stdout",
     "output_type": "stream",
     "text": [
      "--------------------\n"
     ]
    },
    {
     "name": "stderr",
     "output_type": "stream",
     "text": [
      " 19%|█▊        | 88/470 [12:37<46:40,  7.33s/it]"
     ]
    },
    {
     "name": "stdout",
     "output_type": "stream",
     "text": [
      "--------------------\n"
     ]
    },
    {
     "name": "stderr",
     "output_type": "stream",
     "text": [
      " 19%|█▉        | 89/470 [12:44<46:15,  7.29s/it]"
     ]
    },
    {
     "name": "stdout",
     "output_type": "stream",
     "text": [
      "--------------------\n"
     ]
    },
    {
     "name": "stderr",
     "output_type": "stream",
     "text": [
      " 19%|█▉        | 90/470 [12:47<37:41,  5.95s/it]"
     ]
    },
    {
     "name": "stdout",
     "output_type": "stream",
     "text": [
      "  -> Error during structured NER extraction: 'NoneType' object is not iterable\n",
      "--------------------\n"
     ]
    },
    {
     "name": "stderr",
     "output_type": "stream",
     "text": [
      " 19%|█▉        | 91/470 [12:55<40:28,  6.41s/it]"
     ]
    },
    {
     "name": "stdout",
     "output_type": "stream",
     "text": [
      "--------------------\n"
     ]
    },
    {
     "name": "stderr",
     "output_type": "stream",
     "text": [
      " 20%|█▉        | 92/470 [13:00<38:44,  6.15s/it]"
     ]
    },
    {
     "name": "stdout",
     "output_type": "stream",
     "text": [
      "--------------------\n"
     ]
    },
    {
     "name": "stderr",
     "output_type": "stream",
     "text": [
      " 20%|█▉        | 93/470 [13:13<50:21,  8.01s/it]"
     ]
    },
    {
     "name": "stdout",
     "output_type": "stream",
     "text": [
      "--------------------\n"
     ]
    },
    {
     "name": "stderr",
     "output_type": "stream",
     "text": [
      " 20%|██        | 94/470 [13:21<50:34,  8.07s/it]"
     ]
    },
    {
     "name": "stdout",
     "output_type": "stream",
     "text": [
      "--------------------\n"
     ]
    },
    {
     "name": "stderr",
     "output_type": "stream",
     "text": [
      " 20%|██        | 95/470 [13:39<1:09:31, 11.12s/it]"
     ]
    },
    {
     "name": "stdout",
     "output_type": "stream",
     "text": [
      "--------------------\n"
     ]
    },
    {
     "name": "stderr",
     "output_type": "stream",
     "text": [
      " 20%|██        | 96/470 [13:44<58:33,  9.40s/it]  "
     ]
    },
    {
     "name": "stdout",
     "output_type": "stream",
     "text": [
      "--------------------\n"
     ]
    },
    {
     "name": "stderr",
     "output_type": "stream",
     "text": [
      " 21%|██        | 97/470 [13:51<52:20,  8.42s/it]"
     ]
    },
    {
     "name": "stdout",
     "output_type": "stream",
     "text": [
      "--------------------\n"
     ]
    },
    {
     "name": "stderr",
     "output_type": "stream",
     "text": [
      " 21%|██        | 98/470 [13:58<50:47,  8.19s/it]"
     ]
    },
    {
     "name": "stdout",
     "output_type": "stream",
     "text": [
      "--------------------\n"
     ]
    },
    {
     "name": "stderr",
     "output_type": "stream",
     "text": [
      " 21%|██        | 99/470 [15:37<3:39:14, 35.46s/it]"
     ]
    },
    {
     "name": "stdout",
     "output_type": "stream",
     "text": [
      "  -> Error during structured OpenIE extraction: 'NoneType' object is not iterable\n",
      "--------------------\n"
     ]
    },
    {
     "name": "stderr",
     "output_type": "stream",
     "text": [
      " 21%|██▏       | 100/470 [15:42<2:41:03, 26.12s/it]"
     ]
    },
    {
     "name": "stdout",
     "output_type": "stream",
     "text": [
      "--------------------\n"
     ]
    },
    {
     "name": "stderr",
     "output_type": "stream",
     "text": [
      " 21%|██▏       | 101/470 [15:51<2:10:28, 21.22s/it]"
     ]
    },
    {
     "name": "stdout",
     "output_type": "stream",
     "text": [
      "--------------------\n"
     ]
    },
    {
     "name": "stderr",
     "output_type": "stream",
     "text": [
      " 22%|██▏       | 102/470 [15:59<1:44:56, 17.11s/it]"
     ]
    },
    {
     "name": "stdout",
     "output_type": "stream",
     "text": [
      "--------------------\n"
     ]
    },
    {
     "name": "stderr",
     "output_type": "stream",
     "text": [
      " 22%|██▏       | 103/470 [16:21<1:54:12, 18.67s/it]"
     ]
    },
    {
     "name": "stdout",
     "output_type": "stream",
     "text": [
      "--------------------\n"
     ]
    },
    {
     "name": "stderr",
     "output_type": "stream",
     "text": [
      " 22%|██▏       | 104/470 [16:42<1:57:10, 19.21s/it]"
     ]
    },
    {
     "name": "stdout",
     "output_type": "stream",
     "text": [
      "--------------------\n"
     ]
    },
    {
     "name": "stderr",
     "output_type": "stream",
     "text": [
      " 22%|██▏       | 105/470 [16:54<1:43:14, 16.97s/it]"
     ]
    },
    {
     "name": "stdout",
     "output_type": "stream",
     "text": [
      "--------------------\n"
     ]
    },
    {
     "name": "stderr",
     "output_type": "stream",
     "text": [
      " 23%|██▎       | 106/470 [17:08<1:38:12, 16.19s/it]"
     ]
    },
    {
     "name": "stdout",
     "output_type": "stream",
     "text": [
      "--------------------\n"
     ]
    },
    {
     "name": "stderr",
     "output_type": "stream",
     "text": [
      " 23%|██▎       | 107/470 [17:21<1:31:42, 15.16s/it]"
     ]
    },
    {
     "name": "stdout",
     "output_type": "stream",
     "text": [
      "--------------------\n"
     ]
    },
    {
     "name": "stderr",
     "output_type": "stream",
     "text": [
      " 23%|██▎       | 108/470 [17:29<1:19:09, 13.12s/it]"
     ]
    },
    {
     "name": "stdout",
     "output_type": "stream",
     "text": [
      "--------------------\n"
     ]
    },
    {
     "name": "stderr",
     "output_type": "stream",
     "text": [
      " 23%|██▎       | 109/470 [17:40<1:15:47, 12.60s/it]"
     ]
    },
    {
     "name": "stdout",
     "output_type": "stream",
     "text": [
      "--------------------\n"
     ]
    },
    {
     "name": "stderr",
     "output_type": "stream",
     "text": [
      " 23%|██▎       | 110/470 [17:56<1:21:30, 13.58s/it]"
     ]
    },
    {
     "name": "stdout",
     "output_type": "stream",
     "text": [
      "--------------------\n"
     ]
    },
    {
     "name": "stderr",
     "output_type": "stream",
     "text": [
      " 24%|██▎       | 111/470 [18:00<1:02:58, 10.53s/it]"
     ]
    },
    {
     "name": "stdout",
     "output_type": "stream",
     "text": [
      "--------------------\n"
     ]
    },
    {
     "name": "stderr",
     "output_type": "stream",
     "text": [
      " 24%|██▍       | 112/470 [18:17<1:15:36, 12.67s/it]"
     ]
    },
    {
     "name": "stdout",
     "output_type": "stream",
     "text": [
      "--------------------\n"
     ]
    },
    {
     "name": "stderr",
     "output_type": "stream",
     "text": [
      " 24%|██▍       | 113/470 [18:28<1:11:34, 12.03s/it]"
     ]
    },
    {
     "name": "stdout",
     "output_type": "stream",
     "text": [
      "--------------------\n"
     ]
    },
    {
     "name": "stderr",
     "output_type": "stream",
     "text": [
      " 24%|██▍       | 114/470 [18:35<1:02:25, 10.52s/it]"
     ]
    },
    {
     "name": "stdout",
     "output_type": "stream",
     "text": [
      "--------------------\n"
     ]
    },
    {
     "name": "stderr",
     "output_type": "stream",
     "text": [
      " 24%|██▍       | 115/470 [18:41<54:20,  9.18s/it]  "
     ]
    },
    {
     "name": "stdout",
     "output_type": "stream",
     "text": [
      "--------------------\n"
     ]
    },
    {
     "name": "stderr",
     "output_type": "stream",
     "text": [
      " 25%|██▍       | 116/470 [18:48<50:41,  8.59s/it]"
     ]
    },
    {
     "name": "stdout",
     "output_type": "stream",
     "text": [
      "--------------------\n"
     ]
    },
    {
     "name": "stderr",
     "output_type": "stream",
     "text": [
      " 25%|██▍       | 117/470 [18:55<47:57,  8.15s/it]"
     ]
    },
    {
     "name": "stdout",
     "output_type": "stream",
     "text": [
      "--------------------\n"
     ]
    },
    {
     "name": "stderr",
     "output_type": "stream",
     "text": [
      " 25%|██▌       | 118/470 [19:00<41:50,  7.13s/it]"
     ]
    },
    {
     "name": "stdout",
     "output_type": "stream",
     "text": [
      "--------------------\n"
     ]
    },
    {
     "name": "stderr",
     "output_type": "stream",
     "text": [
      " 25%|██▌       | 119/470 [19:09<45:34,  7.79s/it]"
     ]
    },
    {
     "name": "stdout",
     "output_type": "stream",
     "text": [
      "--------------------\n"
     ]
    },
    {
     "name": "stderr",
     "output_type": "stream",
     "text": [
      " 26%|██▌       | 120/470 [19:15<41:40,  7.14s/it]"
     ]
    },
    {
     "name": "stdout",
     "output_type": "stream",
     "text": [
      "--------------------\n"
     ]
    },
    {
     "name": "stderr",
     "output_type": "stream",
     "text": [
      " 26%|██▌       | 121/470 [19:22<41:59,  7.22s/it]"
     ]
    },
    {
     "name": "stdout",
     "output_type": "stream",
     "text": [
      "--------------------\n"
     ]
    },
    {
     "name": "stderr",
     "output_type": "stream",
     "text": [
      " 26%|██▌       | 122/470 [19:34<49:06,  8.47s/it]"
     ]
    },
    {
     "name": "stdout",
     "output_type": "stream",
     "text": [
      "--------------------\n"
     ]
    },
    {
     "name": "stderr",
     "output_type": "stream",
     "text": [
      " 26%|██▌       | 123/470 [19:46<54:53,  9.49s/it]"
     ]
    },
    {
     "name": "stdout",
     "output_type": "stream",
     "text": [
      "--------------------\n"
     ]
    },
    {
     "name": "stderr",
     "output_type": "stream",
     "text": [
      " 26%|██▋       | 124/470 [19:59<1:01:36, 10.68s/it]"
     ]
    },
    {
     "name": "stdout",
     "output_type": "stream",
     "text": [
      "--------------------\n"
     ]
    },
    {
     "name": "stderr",
     "output_type": "stream",
     "text": [
      " 27%|██▋       | 125/470 [20:07<56:54,  9.90s/it]  "
     ]
    },
    {
     "name": "stdout",
     "output_type": "stream",
     "text": [
      "--------------------\n"
     ]
    },
    {
     "name": "stderr",
     "output_type": "stream",
     "text": [
      " 27%|██▋       | 126/470 [20:18<58:18, 10.17s/it]"
     ]
    },
    {
     "name": "stdout",
     "output_type": "stream",
     "text": [
      "--------------------\n"
     ]
    },
    {
     "name": "stderr",
     "output_type": "stream",
     "text": [
      " 27%|██▋       | 127/470 [20:26<55:03,  9.63s/it]"
     ]
    },
    {
     "name": "stdout",
     "output_type": "stream",
     "text": [
      "--------------------\n"
     ]
    },
    {
     "name": "stderr",
     "output_type": "stream",
     "text": [
      " 27%|██▋       | 128/470 [20:39<59:29, 10.44s/it]"
     ]
    },
    {
     "name": "stdout",
     "output_type": "stream",
     "text": [
      "--------------------\n"
     ]
    },
    {
     "name": "stderr",
     "output_type": "stream",
     "text": [
      " 27%|██▋       | 129/470 [20:44<50:11,  8.83s/it]"
     ]
    },
    {
     "name": "stdout",
     "output_type": "stream",
     "text": [
      "--------------------\n"
     ]
    },
    {
     "name": "stderr",
     "output_type": "stream",
     "text": [
      " 28%|██▊       | 130/470 [20:54<52:25,  9.25s/it]"
     ]
    },
    {
     "name": "stdout",
     "output_type": "stream",
     "text": [
      "--------------------\n"
     ]
    },
    {
     "name": "stderr",
     "output_type": "stream",
     "text": [
      " 28%|██▊       | 131/470 [21:03<51:38,  9.14s/it]"
     ]
    },
    {
     "name": "stdout",
     "output_type": "stream",
     "text": [
      "--------------------\n"
     ]
    },
    {
     "name": "stderr",
     "output_type": "stream",
     "text": [
      " 28%|██▊       | 132/470 [21:14<54:47,  9.73s/it]"
     ]
    },
    {
     "name": "stdout",
     "output_type": "stream",
     "text": [
      "--------------------\n"
     ]
    },
    {
     "name": "stderr",
     "output_type": "stream",
     "text": [
      " 28%|██▊       | 133/470 [21:23<53:38,  9.55s/it]"
     ]
    },
    {
     "name": "stdout",
     "output_type": "stream",
     "text": [
      "--------------------\n"
     ]
    },
    {
     "name": "stderr",
     "output_type": "stream",
     "text": [
      " 29%|██▊       | 134/470 [21:32<52:20,  9.35s/it]"
     ]
    },
    {
     "name": "stdout",
     "output_type": "stream",
     "text": [
      "--------------------\n"
     ]
    },
    {
     "name": "stderr",
     "output_type": "stream",
     "text": [
      " 29%|██▊       | 135/470 [21:40<49:18,  8.83s/it]"
     ]
    },
    {
     "name": "stdout",
     "output_type": "stream",
     "text": [
      "--------------------\n"
     ]
    },
    {
     "name": "stderr",
     "output_type": "stream",
     "text": [
      " 29%|██▉       | 136/470 [21:47<46:37,  8.38s/it]"
     ]
    },
    {
     "name": "stdout",
     "output_type": "stream",
     "text": [
      "--------------------\n"
     ]
    },
    {
     "name": "stderr",
     "output_type": "stream",
     "text": [
      " 29%|██▉       | 137/470 [21:54<44:28,  8.01s/it]"
     ]
    },
    {
     "name": "stdout",
     "output_type": "stream",
     "text": [
      "--------------------\n"
     ]
    },
    {
     "name": "stderr",
     "output_type": "stream",
     "text": [
      " 29%|██▉       | 138/470 [22:08<54:04,  9.77s/it]"
     ]
    },
    {
     "name": "stdout",
     "output_type": "stream",
     "text": [
      "--------------------\n"
     ]
    },
    {
     "name": "stderr",
     "output_type": "stream",
     "text": [
      " 30%|██▉       | 139/470 [22:13<45:50,  8.31s/it]"
     ]
    },
    {
     "name": "stdout",
     "output_type": "stream",
     "text": [
      "--------------------\n"
     ]
    },
    {
     "name": "stderr",
     "output_type": "stream",
     "text": [
      " 30%|██▉       | 140/470 [22:19<42:30,  7.73s/it]"
     ]
    },
    {
     "name": "stdout",
     "output_type": "stream",
     "text": [
      "--------------------\n"
     ]
    },
    {
     "name": "stderr",
     "output_type": "stream",
     "text": [
      " 30%|███       | 141/470 [22:25<39:10,  7.14s/it]"
     ]
    },
    {
     "name": "stdout",
     "output_type": "stream",
     "text": [
      "--------------------\n"
     ]
    },
    {
     "name": "stderr",
     "output_type": "stream",
     "text": [
      " 30%|███       | 142/470 [22:31<37:17,  6.82s/it]"
     ]
    },
    {
     "name": "stdout",
     "output_type": "stream",
     "text": [
      "--------------------\n"
     ]
    },
    {
     "name": "stderr",
     "output_type": "stream",
     "text": [
      " 30%|███       | 143/470 [22:39<39:38,  7.27s/it]"
     ]
    },
    {
     "name": "stdout",
     "output_type": "stream",
     "text": [
      "--------------------\n"
     ]
    },
    {
     "name": "stderr",
     "output_type": "stream",
     "text": [
      " 31%|███       | 144/470 [22:51<45:58,  8.46s/it]"
     ]
    },
    {
     "name": "stdout",
     "output_type": "stream",
     "text": [
      "--------------------\n"
     ]
    },
    {
     "name": "stderr",
     "output_type": "stream",
     "text": [
      " 31%|███       | 145/470 [23:05<55:09, 10.18s/it]"
     ]
    },
    {
     "name": "stdout",
     "output_type": "stream",
     "text": [
      "--------------------\n"
     ]
    },
    {
     "name": "stderr",
     "output_type": "stream",
     "text": [
      " 31%|███       | 146/470 [23:14<54:07, 10.02s/it]"
     ]
    },
    {
     "name": "stdout",
     "output_type": "stream",
     "text": [
      "--------------------\n"
     ]
    },
    {
     "name": "stderr",
     "output_type": "stream",
     "text": [
      " 31%|███▏      | 147/470 [23:21<48:47,  9.06s/it]"
     ]
    },
    {
     "name": "stdout",
     "output_type": "stream",
     "text": [
      "--------------------\n"
     ]
    },
    {
     "name": "stderr",
     "output_type": "stream",
     "text": [
      " 31%|███▏      | 148/470 [23:30<48:24,  9.02s/it]"
     ]
    },
    {
     "name": "stdout",
     "output_type": "stream",
     "text": [
      "--------------------\n"
     ]
    },
    {
     "name": "stderr",
     "output_type": "stream",
     "text": [
      " 32%|███▏      | 149/470 [23:43<54:25, 10.17s/it]"
     ]
    },
    {
     "name": "stdout",
     "output_type": "stream",
     "text": [
      "--------------------\n"
     ]
    },
    {
     "name": "stderr",
     "output_type": "stream",
     "text": [
      " 32%|███▏      | 150/470 [23:55<56:47, 10.65s/it]"
     ]
    },
    {
     "name": "stdout",
     "output_type": "stream",
     "text": [
      "--------------------\n"
     ]
    },
    {
     "name": "stderr",
     "output_type": "stream",
     "text": [
      " 32%|███▏      | 151/470 [24:05<55:02, 10.35s/it]"
     ]
    },
    {
     "name": "stdout",
     "output_type": "stream",
     "text": [
      "--------------------\n"
     ]
    },
    {
     "name": "stderr",
     "output_type": "stream",
     "text": [
      " 32%|███▏      | 152/470 [24:14<53:06, 10.02s/it]"
     ]
    },
    {
     "name": "stdout",
     "output_type": "stream",
     "text": [
      "--------------------\n"
     ]
    },
    {
     "name": "stderr",
     "output_type": "stream",
     "text": [
      " 33%|███▎      | 153/470 [24:26<57:01, 10.79s/it]"
     ]
    },
    {
     "name": "stdout",
     "output_type": "stream",
     "text": [
      "--------------------\n"
     ]
    },
    {
     "name": "stderr",
     "output_type": "stream",
     "text": [
      " 33%|███▎      | 154/470 [24:35<52:43, 10.01s/it]"
     ]
    },
    {
     "name": "stdout",
     "output_type": "stream",
     "text": [
      "--------------------\n"
     ]
    },
    {
     "name": "stderr",
     "output_type": "stream",
     "text": [
      " 33%|███▎      | 155/470 [24:44<52:17,  9.96s/it]"
     ]
    },
    {
     "name": "stdout",
     "output_type": "stream",
     "text": [
      "--------------------\n"
     ]
    },
    {
     "name": "stderr",
     "output_type": "stream",
     "text": [
      " 33%|███▎      | 156/470 [24:49<42:57,  8.21s/it]"
     ]
    },
    {
     "name": "stdout",
     "output_type": "stream",
     "text": [
      "--------------------\n"
     ]
    },
    {
     "name": "stderr",
     "output_type": "stream",
     "text": [
      " 33%|███▎      | 157/470 [24:54<38:48,  7.44s/it]"
     ]
    },
    {
     "name": "stdout",
     "output_type": "stream",
     "text": [
      "--------------------\n"
     ]
    },
    {
     "name": "stderr",
     "output_type": "stream",
     "text": [
      " 34%|███▎      | 158/470 [25:03<40:52,  7.86s/it]"
     ]
    },
    {
     "name": "stdout",
     "output_type": "stream",
     "text": [
      "--------------------\n"
     ]
    },
    {
     "name": "stderr",
     "output_type": "stream",
     "text": [
      " 34%|███▍      | 159/470 [25:08<36:41,  7.08s/it]"
     ]
    },
    {
     "name": "stdout",
     "output_type": "stream",
     "text": [
      "--------------------\n"
     ]
    },
    {
     "name": "stderr",
     "output_type": "stream",
     "text": [
      " 34%|███▍      | 160/470 [25:15<36:13,  7.01s/it]"
     ]
    },
    {
     "name": "stdout",
     "output_type": "stream",
     "text": [
      "--------------------\n"
     ]
    },
    {
     "name": "stderr",
     "output_type": "stream",
     "text": [
      " 34%|███▍      | 161/470 [25:30<48:00,  9.32s/it]"
     ]
    },
    {
     "name": "stdout",
     "output_type": "stream",
     "text": [
      "--------------------\n"
     ]
    },
    {
     "name": "stderr",
     "output_type": "stream",
     "text": [
      " 34%|███▍      | 162/470 [25:38<45:49,  8.93s/it]"
     ]
    },
    {
     "name": "stdout",
     "output_type": "stream",
     "text": [
      "--------------------\n"
     ]
    },
    {
     "name": "stderr",
     "output_type": "stream",
     "text": [
      " 35%|███▍      | 163/470 [25:57<1:01:57, 12.11s/it]"
     ]
    },
    {
     "name": "stdout",
     "output_type": "stream",
     "text": [
      "--------------------\n"
     ]
    },
    {
     "name": "stderr",
     "output_type": "stream",
     "text": [
      " 35%|███▍      | 164/470 [26:03<51:47, 10.15s/it]  "
     ]
    },
    {
     "name": "stdout",
     "output_type": "stream",
     "text": [
      "--------------------\n"
     ]
    },
    {
     "name": "stderr",
     "output_type": "stream",
     "text": [
      " 35%|███▌      | 165/470 [26:08<43:40,  8.59s/it]"
     ]
    },
    {
     "name": "stdout",
     "output_type": "stream",
     "text": [
      "--------------------\n"
     ]
    },
    {
     "name": "stderr",
     "output_type": "stream",
     "text": [
      " 35%|███▌      | 166/470 [26:22<52:22, 10.34s/it]"
     ]
    },
    {
     "name": "stdout",
     "output_type": "stream",
     "text": [
      "--------------------\n"
     ]
    },
    {
     "name": "stderr",
     "output_type": "stream",
     "text": [
      " 36%|███▌      | 167/470 [26:37<58:45, 11.63s/it]"
     ]
    },
    {
     "name": "stdout",
     "output_type": "stream",
     "text": [
      "--------------------\n"
     ]
    },
    {
     "name": "stderr",
     "output_type": "stream",
     "text": [
      " 36%|███▌      | 168/470 [26:55<1:08:07, 13.53s/it]"
     ]
    },
    {
     "name": "stdout",
     "output_type": "stream",
     "text": [
      "--------------------\n"
     ]
    },
    {
     "name": "stderr",
     "output_type": "stream",
     "text": [
      " 36%|███▌      | 169/470 [27:05<1:02:36, 12.48s/it]"
     ]
    },
    {
     "name": "stdout",
     "output_type": "stream",
     "text": [
      "--------------------\n"
     ]
    },
    {
     "name": "stderr",
     "output_type": "stream",
     "text": [
      " 36%|███▌      | 170/470 [27:13<55:07, 11.02s/it]  "
     ]
    },
    {
     "name": "stdout",
     "output_type": "stream",
     "text": [
      "--------------------\n"
     ]
    },
    {
     "name": "stderr",
     "output_type": "stream",
     "text": [
      " 36%|███▋      | 171/470 [27:27<59:33, 11.95s/it]"
     ]
    },
    {
     "name": "stdout",
     "output_type": "stream",
     "text": [
      "--------------------\n"
     ]
    },
    {
     "name": "stderr",
     "output_type": "stream",
     "text": [
      " 37%|███▋      | 172/470 [27:33<50:38, 10.20s/it]"
     ]
    },
    {
     "name": "stdout",
     "output_type": "stream",
     "text": [
      "--------------------\n"
     ]
    },
    {
     "name": "stderr",
     "output_type": "stream",
     "text": [
      " 37%|███▋      | 173/470 [27:43<51:05, 10.32s/it]"
     ]
    },
    {
     "name": "stdout",
     "output_type": "stream",
     "text": [
      "--------------------\n"
     ]
    },
    {
     "name": "stderr",
     "output_type": "stream",
     "text": [
      " 37%|███▋      | 174/470 [27:52<48:04,  9.75s/it]"
     ]
    },
    {
     "name": "stdout",
     "output_type": "stream",
     "text": [
      "--------------------\n"
     ]
    },
    {
     "name": "stderr",
     "output_type": "stream",
     "text": [
      " 37%|███▋      | 175/470 [28:00<45:01,  9.16s/it]"
     ]
    },
    {
     "name": "stdout",
     "output_type": "stream",
     "text": [
      "--------------------\n"
     ]
    },
    {
     "name": "stderr",
     "output_type": "stream",
     "text": [
      " 37%|███▋      | 176/470 [28:11<48:03,  9.81s/it]"
     ]
    },
    {
     "name": "stdout",
     "output_type": "stream",
     "text": [
      "--------------------\n"
     ]
    },
    {
     "name": "stderr",
     "output_type": "stream",
     "text": [
      " 38%|███▊      | 177/470 [28:18<44:24,  9.09s/it]"
     ]
    },
    {
     "name": "stdout",
     "output_type": "stream",
     "text": [
      "--------------------\n"
     ]
    },
    {
     "name": "stderr",
     "output_type": "stream",
     "text": [
      " 38%|███▊      | 178/470 [28:25<41:15,  8.48s/it]"
     ]
    },
    {
     "name": "stdout",
     "output_type": "stream",
     "text": [
      "--------------------\n"
     ]
    },
    {
     "name": "stderr",
     "output_type": "stream",
     "text": [
      " 38%|███▊      | 179/470 [28:38<46:58,  9.69s/it]"
     ]
    },
    {
     "name": "stdout",
     "output_type": "stream",
     "text": [
      "--------------------\n"
     ]
    },
    {
     "name": "stderr",
     "output_type": "stream",
     "text": [
      " 38%|███▊      | 180/470 [28:46<44:53,  9.29s/it]"
     ]
    },
    {
     "name": "stdout",
     "output_type": "stream",
     "text": [
      "--------------------\n"
     ]
    },
    {
     "name": "stderr",
     "output_type": "stream",
     "text": [
      " 39%|███▊      | 181/470 [28:53<41:22,  8.59s/it]"
     ]
    },
    {
     "name": "stdout",
     "output_type": "stream",
     "text": [
      "--------------------\n"
     ]
    },
    {
     "name": "stderr",
     "output_type": "stream",
     "text": [
      " 39%|███▊      | 182/470 [29:01<39:23,  8.21s/it]"
     ]
    },
    {
     "name": "stdout",
     "output_type": "stream",
     "text": [
      "--------------------\n"
     ]
    },
    {
     "name": "stderr",
     "output_type": "stream",
     "text": [
      " 39%|███▉      | 183/470 [29:10<41:08,  8.60s/it]"
     ]
    },
    {
     "name": "stdout",
     "output_type": "stream",
     "text": [
      "--------------------\n"
     ]
    },
    {
     "name": "stderr",
     "output_type": "stream",
     "text": [
      " 39%|███▉      | 184/470 [29:26<51:02, 10.71s/it]"
     ]
    },
    {
     "name": "stdout",
     "output_type": "stream",
     "text": [
      "--------------------\n"
     ]
    },
    {
     "name": "stderr",
     "output_type": "stream",
     "text": [
      " 39%|███▉      | 185/470 [29:30<41:57,  8.84s/it]"
     ]
    },
    {
     "name": "stdout",
     "output_type": "stream",
     "text": [
      "--------------------\n"
     ]
    },
    {
     "name": "stderr",
     "output_type": "stream",
     "text": [
      " 40%|███▉      | 186/470 [29:42<46:18,  9.78s/it]"
     ]
    },
    {
     "name": "stdout",
     "output_type": "stream",
     "text": [
      "--------------------\n"
     ]
    },
    {
     "name": "stderr",
     "output_type": "stream",
     "text": [
      " 40%|███▉      | 187/470 [29:48<41:05,  8.71s/it]"
     ]
    },
    {
     "name": "stdout",
     "output_type": "stream",
     "text": [
      "--------------------\n"
     ]
    },
    {
     "name": "stderr",
     "output_type": "stream",
     "text": [
      " 40%|████      | 188/470 [30:07<55:16, 11.76s/it]"
     ]
    },
    {
     "name": "stdout",
     "output_type": "stream",
     "text": [
      "--------------------\n"
     ]
    },
    {
     "name": "stderr",
     "output_type": "stream",
     "text": [
      " 40%|████      | 189/470 [30:13<46:50, 10.00s/it]"
     ]
    },
    {
     "name": "stdout",
     "output_type": "stream",
     "text": [
      "--------------------\n"
     ]
    },
    {
     "name": "stderr",
     "output_type": "stream",
     "text": [
      " 40%|████      | 190/470 [30:18<39:43,  8.51s/it]"
     ]
    },
    {
     "name": "stdout",
     "output_type": "stream",
     "text": [
      "--------------------\n"
     ]
    },
    {
     "name": "stderr",
     "output_type": "stream",
     "text": [
      " 41%|████      | 191/470 [30:28<41:23,  8.90s/it]"
     ]
    },
    {
     "name": "stdout",
     "output_type": "stream",
     "text": [
      "--------------------\n"
     ]
    },
    {
     "name": "stderr",
     "output_type": "stream",
     "text": [
      " 41%|████      | 192/470 [30:35<37:58,  8.20s/it]"
     ]
    },
    {
     "name": "stdout",
     "output_type": "stream",
     "text": [
      "--------------------\n"
     ]
    },
    {
     "name": "stderr",
     "output_type": "stream",
     "text": [
      " 41%|████      | 193/470 [30:41<36:05,  7.82s/it]"
     ]
    },
    {
     "name": "stdout",
     "output_type": "stream",
     "text": [
      "--------------------\n"
     ]
    },
    {
     "name": "stderr",
     "output_type": "stream",
     "text": [
      " 41%|████▏     | 194/470 [30:48<33:43,  7.33s/it]"
     ]
    },
    {
     "name": "stdout",
     "output_type": "stream",
     "text": [
      "--------------------\n"
     ]
    },
    {
     "name": "stderr",
     "output_type": "stream",
     "text": [
      " 41%|████▏     | 195/470 [30:54<32:02,  6.99s/it]"
     ]
    },
    {
     "name": "stdout",
     "output_type": "stream",
     "text": [
      "--------------------\n"
     ]
    },
    {
     "name": "stderr",
     "output_type": "stream",
     "text": [
      " 42%|████▏     | 196/470 [31:04<36:52,  8.07s/it]"
     ]
    },
    {
     "name": "stdout",
     "output_type": "stream",
     "text": [
      "--------------------\n"
     ]
    },
    {
     "name": "stderr",
     "output_type": "stream",
     "text": [
      " 42%|████▏     | 197/470 [31:11<34:51,  7.66s/it]"
     ]
    },
    {
     "name": "stdout",
     "output_type": "stream",
     "text": [
      "--------------------\n"
     ]
    },
    {
     "name": "stderr",
     "output_type": "stream",
     "text": [
      " 42%|████▏     | 198/470 [31:19<34:51,  7.69s/it]"
     ]
    },
    {
     "name": "stdout",
     "output_type": "stream",
     "text": [
      "--------------------\n"
     ]
    },
    {
     "name": "stderr",
     "output_type": "stream",
     "text": [
      " 42%|████▏     | 199/470 [31:26<33:54,  7.51s/it]"
     ]
    },
    {
     "name": "stdout",
     "output_type": "stream",
     "text": [
      "--------------------\n"
     ]
    },
    {
     "name": "stderr",
     "output_type": "stream",
     "text": [
      " 43%|████▎     | 200/470 [31:35<35:12,  7.82s/it]"
     ]
    },
    {
     "name": "stdout",
     "output_type": "stream",
     "text": [
      "--------------------\n"
     ]
    },
    {
     "name": "stderr",
     "output_type": "stream",
     "text": [
      " 43%|████▎     | 201/470 [31:43<35:24,  7.90s/it]"
     ]
    },
    {
     "name": "stdout",
     "output_type": "stream",
     "text": [
      "--------------------\n"
     ]
    },
    {
     "name": "stderr",
     "output_type": "stream",
     "text": [
      " 43%|████▎     | 202/470 [31:47<30:40,  6.87s/it]"
     ]
    },
    {
     "name": "stdout",
     "output_type": "stream",
     "text": [
      "--------------------\n"
     ]
    },
    {
     "name": "stderr",
     "output_type": "stream",
     "text": [
      " 43%|████▎     | 203/470 [32:01<40:31,  9.11s/it]"
     ]
    },
    {
     "name": "stdout",
     "output_type": "stream",
     "text": [
      "--------------------\n"
     ]
    },
    {
     "name": "stderr",
     "output_type": "stream",
     "text": [
      " 43%|████▎     | 204/470 [32:09<38:27,  8.68s/it]"
     ]
    },
    {
     "name": "stdout",
     "output_type": "stream",
     "text": [
      "--------------------\n"
     ]
    },
    {
     "name": "stderr",
     "output_type": "stream",
     "text": [
      " 44%|████▎     | 205/470 [32:18<38:34,  8.73s/it]"
     ]
    },
    {
     "name": "stdout",
     "output_type": "stream",
     "text": [
      "--------------------\n"
     ]
    },
    {
     "name": "stderr",
     "output_type": "stream",
     "text": [
      " 44%|████▍     | 206/470 [32:33<46:16, 10.52s/it]"
     ]
    },
    {
     "name": "stdout",
     "output_type": "stream",
     "text": [
      "--------------------\n"
     ]
    },
    {
     "name": "stderr",
     "output_type": "stream",
     "text": [
      " 44%|████▍     | 207/470 [32:38<39:10,  8.94s/it]"
     ]
    },
    {
     "name": "stdout",
     "output_type": "stream",
     "text": [
      "--------------------\n"
     ]
    },
    {
     "name": "stderr",
     "output_type": "stream",
     "text": [
      " 44%|████▍     | 208/470 [32:45<36:07,  8.27s/it]"
     ]
    },
    {
     "name": "stdout",
     "output_type": "stream",
     "text": [
      "--------------------\n"
     ]
    },
    {
     "name": "stderr",
     "output_type": "stream",
     "text": [
      " 44%|████▍     | 209/470 [32:50<32:17,  7.43s/it]"
     ]
    },
    {
     "name": "stdout",
     "output_type": "stream",
     "text": [
      "--------------------\n"
     ]
    },
    {
     "name": "stderr",
     "output_type": "stream",
     "text": [
      " 45%|████▍     | 210/470 [32:54<27:31,  6.35s/it]"
     ]
    },
    {
     "name": "stdout",
     "output_type": "stream",
     "text": [
      "--------------------\n"
     ]
    },
    {
     "name": "stderr",
     "output_type": "stream",
     "text": [
      " 45%|████▍     | 211/470 [32:58<24:19,  5.63s/it]"
     ]
    },
    {
     "name": "stdout",
     "output_type": "stream",
     "text": [
      "--------------------\n"
     ]
    },
    {
     "name": "stderr",
     "output_type": "stream",
     "text": [
      " 45%|████▌     | 212/470 [33:04<24:45,  5.76s/it]"
     ]
    },
    {
     "name": "stdout",
     "output_type": "stream",
     "text": [
      "--------------------\n"
     ]
    },
    {
     "name": "stderr",
     "output_type": "stream",
     "text": [
      " 45%|████▌     | 213/470 [33:09<23:57,  5.59s/it]"
     ]
    },
    {
     "name": "stdout",
     "output_type": "stream",
     "text": [
      "--------------------\n"
     ]
    },
    {
     "name": "stderr",
     "output_type": "stream",
     "text": [
      " 46%|████▌     | 214/470 [33:19<28:59,  6.79s/it]"
     ]
    },
    {
     "name": "stdout",
     "output_type": "stream",
     "text": [
      "--------------------\n"
     ]
    },
    {
     "name": "stderr",
     "output_type": "stream",
     "text": [
      " 46%|████▌     | 215/470 [33:31<36:03,  8.49s/it]"
     ]
    },
    {
     "name": "stdout",
     "output_type": "stream",
     "text": [
      "--------------------\n"
     ]
    },
    {
     "name": "stderr",
     "output_type": "stream",
     "text": [
      " 46%|████▌     | 216/470 [33:38<34:28,  8.15s/it]"
     ]
    },
    {
     "name": "stdout",
     "output_type": "stream",
     "text": [
      "--------------------\n"
     ]
    },
    {
     "name": "stderr",
     "output_type": "stream",
     "text": [
      " 46%|████▌     | 217/470 [33:47<34:22,  8.15s/it]"
     ]
    },
    {
     "name": "stdout",
     "output_type": "stream",
     "text": [
      "--------------------\n"
     ]
    },
    {
     "name": "stderr",
     "output_type": "stream",
     "text": [
      " 46%|████▋     | 218/470 [33:57<37:11,  8.85s/it]"
     ]
    },
    {
     "name": "stdout",
     "output_type": "stream",
     "text": [
      "--------------------\n"
     ]
    },
    {
     "name": "stderr",
     "output_type": "stream",
     "text": [
      " 47%|████▋     | 219/470 [34:07<37:49,  9.04s/it]"
     ]
    },
    {
     "name": "stdout",
     "output_type": "stream",
     "text": [
      "--------------------\n"
     ]
    },
    {
     "name": "stderr",
     "output_type": "stream",
     "text": [
      " 47%|████▋     | 220/470 [34:15<36:50,  8.84s/it]"
     ]
    },
    {
     "name": "stdout",
     "output_type": "stream",
     "text": [
      "--------------------\n"
     ]
    },
    {
     "name": "stderr",
     "output_type": "stream",
     "text": [
      " 47%|████▋     | 221/470 [34:18<29:20,  7.07s/it]"
     ]
    },
    {
     "name": "stdout",
     "output_type": "stream",
     "text": [
      "--------------------\n"
     ]
    },
    {
     "name": "stderr",
     "output_type": "stream",
     "text": [
      " 47%|████▋     | 222/470 [34:28<32:57,  7.97s/it]"
     ]
    },
    {
     "name": "stdout",
     "output_type": "stream",
     "text": [
      "--------------------\n"
     ]
    },
    {
     "name": "stderr",
     "output_type": "stream",
     "text": [
      " 47%|████▋     | 223/470 [34:35<31:25,  7.63s/it]"
     ]
    },
    {
     "name": "stdout",
     "output_type": "stream",
     "text": [
      "--------------------\n"
     ]
    },
    {
     "name": "stderr",
     "output_type": "stream",
     "text": [
      " 48%|████▊     | 224/470 [34:48<37:34,  9.17s/it]"
     ]
    },
    {
     "name": "stdout",
     "output_type": "stream",
     "text": [
      "--------------------\n"
     ]
    },
    {
     "name": "stderr",
     "output_type": "stream",
     "text": [
      " 48%|████▊     | 225/470 [35:00<41:17, 10.11s/it]"
     ]
    },
    {
     "name": "stdout",
     "output_type": "stream",
     "text": [
      "--------------------\n"
     ]
    },
    {
     "name": "stderr",
     "output_type": "stream",
     "text": [
      " 48%|████▊     | 226/470 [35:08<38:54,  9.57s/it]"
     ]
    },
    {
     "name": "stdout",
     "output_type": "stream",
     "text": [
      "--------------------\n"
     ]
    },
    {
     "name": "stderr",
     "output_type": "stream",
     "text": [
      " 48%|████▊     | 227/470 [35:15<35:10,  8.69s/it]"
     ]
    },
    {
     "name": "stdout",
     "output_type": "stream",
     "text": [
      "--------------------\n"
     ]
    },
    {
     "name": "stderr",
     "output_type": "stream",
     "text": [
      " 49%|████▊     | 228/470 [35:27<38:51,  9.64s/it]"
     ]
    },
    {
     "name": "stdout",
     "output_type": "stream",
     "text": [
      "--------------------\n"
     ]
    },
    {
     "name": "stderr",
     "output_type": "stream",
     "text": [
      " 49%|████▊     | 229/470 [35:33<34:59,  8.71s/it]"
     ]
    },
    {
     "name": "stdout",
     "output_type": "stream",
     "text": [
      "--------------------\n"
     ]
    },
    {
     "name": "stderr",
     "output_type": "stream",
     "text": [
      " 49%|████▉     | 230/470 [35:43<36:27,  9.12s/it]"
     ]
    },
    {
     "name": "stdout",
     "output_type": "stream",
     "text": [
      "--------------------\n"
     ]
    },
    {
     "name": "stderr",
     "output_type": "stream",
     "text": [
      " 49%|████▉     | 231/470 [35:48<31:20,  7.87s/it]"
     ]
    },
    {
     "name": "stdout",
     "output_type": "stream",
     "text": [
      "--------------------\n"
     ]
    },
    {
     "name": "stderr",
     "output_type": "stream",
     "text": [
      " 49%|████▉     | 232/470 [35:58<33:45,  8.51s/it]"
     ]
    },
    {
     "name": "stdout",
     "output_type": "stream",
     "text": [
      "--------------------\n"
     ]
    },
    {
     "name": "stderr",
     "output_type": "stream",
     "text": [
      " 50%|████▉     | 233/470 [36:05<31:17,  7.92s/it]"
     ]
    },
    {
     "name": "stdout",
     "output_type": "stream",
     "text": [
      "--------------------\n"
     ]
    },
    {
     "name": "stderr",
     "output_type": "stream",
     "text": [
      " 50%|████▉     | 234/470 [36:11<28:45,  7.31s/it]"
     ]
    },
    {
     "name": "stdout",
     "output_type": "stream",
     "text": [
      "--------------------\n"
     ]
    },
    {
     "name": "stderr",
     "output_type": "stream",
     "text": [
      " 50%|█████     | 235/470 [36:14<24:10,  6.17s/it]"
     ]
    },
    {
     "name": "stdout",
     "output_type": "stream",
     "text": [
      "--------------------\n"
     ]
    },
    {
     "name": "stderr",
     "output_type": "stream",
     "text": [
      " 50%|█████     | 236/470 [36:18<20:50,  5.35s/it]"
     ]
    },
    {
     "name": "stdout",
     "output_type": "stream",
     "text": [
      "--------------------\n"
     ]
    },
    {
     "name": "stderr",
     "output_type": "stream",
     "text": [
      " 50%|█████     | 237/470 [36:24<22:20,  5.76s/it]"
     ]
    },
    {
     "name": "stdout",
     "output_type": "stream",
     "text": [
      "--------------------\n"
     ]
    },
    {
     "name": "stderr",
     "output_type": "stream",
     "text": [
      " 51%|█████     | 238/470 [36:35<28:15,  7.31s/it]"
     ]
    },
    {
     "name": "stdout",
     "output_type": "stream",
     "text": [
      "--------------------\n"
     ]
    },
    {
     "name": "stderr",
     "output_type": "stream",
     "text": [
      " 51%|█████     | 239/470 [36:44<30:14,  7.86s/it]"
     ]
    },
    {
     "name": "stdout",
     "output_type": "stream",
     "text": [
      "--------------------\n"
     ]
    },
    {
     "name": "stderr",
     "output_type": "stream",
     "text": [
      " 51%|█████     | 240/470 [36:50<27:28,  7.17s/it]"
     ]
    },
    {
     "name": "stdout",
     "output_type": "stream",
     "text": [
      "--------------------\n"
     ]
    },
    {
     "name": "stderr",
     "output_type": "stream",
     "text": [
      " 51%|█████▏    | 241/470 [36:59<29:19,  7.69s/it]"
     ]
    },
    {
     "name": "stdout",
     "output_type": "stream",
     "text": [
      "--------------------\n"
     ]
    },
    {
     "name": "stderr",
     "output_type": "stream",
     "text": [
      " 51%|█████▏    | 242/470 [37:07<29:11,  7.68s/it]"
     ]
    },
    {
     "name": "stdout",
     "output_type": "stream",
     "text": [
      "--------------------\n"
     ]
    },
    {
     "name": "stderr",
     "output_type": "stream",
     "text": [
      " 52%|█████▏    | 243/470 [37:11<24:58,  6.60s/it]"
     ]
    },
    {
     "name": "stdout",
     "output_type": "stream",
     "text": [
      "--------------------\n"
     ]
    },
    {
     "name": "stderr",
     "output_type": "stream",
     "text": [
      " 52%|█████▏    | 244/470 [37:19<26:23,  7.00s/it]"
     ]
    },
    {
     "name": "stdout",
     "output_type": "stream",
     "text": [
      "--------------------\n"
     ]
    },
    {
     "name": "stderr",
     "output_type": "stream",
     "text": [
      " 52%|█████▏    | 245/470 [37:31<32:06,  8.56s/it]"
     ]
    },
    {
     "name": "stdout",
     "output_type": "stream",
     "text": [
      "--------------------\n"
     ]
    },
    {
     "name": "stderr",
     "output_type": "stream",
     "text": [
      " 52%|█████▏    | 246/470 [37:36<28:15,  7.57s/it]"
     ]
    },
    {
     "name": "stdout",
     "output_type": "stream",
     "text": [
      "--------------------\n"
     ]
    },
    {
     "name": "stderr",
     "output_type": "stream",
     "text": [
      " 53%|█████▎    | 247/470 [37:45<29:55,  8.05s/it]"
     ]
    },
    {
     "name": "stdout",
     "output_type": "stream",
     "text": [
      "--------------------\n"
     ]
    },
    {
     "name": "stderr",
     "output_type": "stream",
     "text": [
      " 53%|█████▎    | 248/470 [37:50<26:17,  7.11s/it]"
     ]
    },
    {
     "name": "stdout",
     "output_type": "stream",
     "text": [
      "--------------------\n"
     ]
    },
    {
     "name": "stderr",
     "output_type": "stream",
     "text": [
      " 53%|█████▎    | 249/470 [37:59<27:49,  7.55s/it]"
     ]
    },
    {
     "name": "stdout",
     "output_type": "stream",
     "text": [
      "--------------------\n"
     ]
    },
    {
     "name": "stderr",
     "output_type": "stream",
     "text": [
      " 53%|█████▎    | 250/470 [38:11<33:11,  9.05s/it]"
     ]
    },
    {
     "name": "stdout",
     "output_type": "stream",
     "text": [
      "--------------------\n"
     ]
    },
    {
     "name": "stderr",
     "output_type": "stream",
     "text": [
      " 53%|█████▎    | 251/470 [38:18<30:16,  8.30s/it]"
     ]
    },
    {
     "name": "stdout",
     "output_type": "stream",
     "text": [
      "--------------------\n"
     ]
    },
    {
     "name": "stderr",
     "output_type": "stream",
     "text": [
      " 54%|█████▎    | 252/470 [38:29<33:21,  9.18s/it]"
     ]
    },
    {
     "name": "stdout",
     "output_type": "stream",
     "text": [
      "--------------------\n"
     ]
    },
    {
     "name": "stderr",
     "output_type": "stream",
     "text": [
      " 54%|█████▍    | 253/470 [38:37<31:49,  8.80s/it]"
     ]
    },
    {
     "name": "stdout",
     "output_type": "stream",
     "text": [
      "--------------------\n"
     ]
    },
    {
     "name": "stderr",
     "output_type": "stream",
     "text": [
      " 54%|█████▍    | 254/470 [38:47<33:27,  9.30s/it]"
     ]
    },
    {
     "name": "stdout",
     "output_type": "stream",
     "text": [
      "--------------------\n"
     ]
    },
    {
     "name": "stderr",
     "output_type": "stream",
     "text": [
      " 54%|█████▍    | 255/470 [38:54<30:21,  8.47s/it]"
     ]
    },
    {
     "name": "stdout",
     "output_type": "stream",
     "text": [
      "--------------------\n"
     ]
    },
    {
     "name": "stderr",
     "output_type": "stream",
     "text": [
      " 54%|█████▍    | 256/470 [39:01<28:29,  7.99s/it]"
     ]
    },
    {
     "name": "stdout",
     "output_type": "stream",
     "text": [
      "--------------------\n"
     ]
    },
    {
     "name": "stderr",
     "output_type": "stream",
     "text": [
      " 55%|█████▍    | 257/470 [39:15<34:45,  9.79s/it]"
     ]
    },
    {
     "name": "stdout",
     "output_type": "stream",
     "text": [
      "--------------------\n"
     ]
    },
    {
     "name": "stderr",
     "output_type": "stream",
     "text": [
      " 55%|█████▍    | 258/470 [39:23<32:22,  9.16s/it]"
     ]
    },
    {
     "name": "stdout",
     "output_type": "stream",
     "text": [
      "--------------------\n"
     ]
    },
    {
     "name": "stderr",
     "output_type": "stream",
     "text": [
      " 55%|█████▌    | 259/470 [39:35<35:33, 10.11s/it]"
     ]
    },
    {
     "name": "stdout",
     "output_type": "stream",
     "text": [
      "--------------------\n"
     ]
    },
    {
     "name": "stderr",
     "output_type": "stream",
     "text": [
      " 55%|█████▌    | 260/470 [39:41<30:50,  8.81s/it]"
     ]
    },
    {
     "name": "stdout",
     "output_type": "stream",
     "text": [
      "--------------------\n"
     ]
    },
    {
     "name": "stderr",
     "output_type": "stream",
     "text": [
      " 56%|█████▌    | 261/470 [39:49<29:53,  8.58s/it]"
     ]
    },
    {
     "name": "stdout",
     "output_type": "stream",
     "text": [
      "--------------------\n"
     ]
    },
    {
     "name": "stderr",
     "output_type": "stream",
     "text": [
      " 56%|█████▌    | 262/470 [39:58<30:42,  8.86s/it]"
     ]
    },
    {
     "name": "stdout",
     "output_type": "stream",
     "text": [
      "--------------------\n"
     ]
    },
    {
     "name": "stderr",
     "output_type": "stream",
     "text": [
      " 56%|█████▌    | 263/470 [40:11<34:33, 10.02s/it]"
     ]
    },
    {
     "name": "stdout",
     "output_type": "stream",
     "text": [
      "--------------------\n"
     ]
    },
    {
     "name": "stderr",
     "output_type": "stream",
     "text": [
      " 56%|█████▌    | 264/470 [40:16<29:11,  8.50s/it]"
     ]
    },
    {
     "name": "stdout",
     "output_type": "stream",
     "text": [
      "--------------------\n"
     ]
    },
    {
     "name": "stderr",
     "output_type": "stream",
     "text": [
      " 56%|█████▋    | 265/470 [40:27<31:57,  9.35s/it]"
     ]
    },
    {
     "name": "stdout",
     "output_type": "stream",
     "text": [
      "--------------------\n"
     ]
    },
    {
     "name": "stderr",
     "output_type": "stream",
     "text": [
      " 57%|█████▋    | 266/470 [40:35<30:39,  9.02s/it]"
     ]
    },
    {
     "name": "stdout",
     "output_type": "stream",
     "text": [
      "--------------------\n"
     ]
    },
    {
     "name": "stderr",
     "output_type": "stream",
     "text": [
      " 57%|█████▋    | 267/470 [40:41<26:41,  7.89s/it]"
     ]
    },
    {
     "name": "stdout",
     "output_type": "stream",
     "text": [
      "--------------------\n"
     ]
    },
    {
     "name": "stderr",
     "output_type": "stream",
     "text": [
      " 57%|█████▋    | 268/470 [40:49<27:29,  8.17s/it]"
     ]
    },
    {
     "name": "stdout",
     "output_type": "stream",
     "text": [
      "--------------------\n"
     ]
    },
    {
     "name": "stderr",
     "output_type": "stream",
     "text": [
      " 57%|█████▋    | 269/470 [40:59<29:08,  8.70s/it]"
     ]
    },
    {
     "name": "stdout",
     "output_type": "stream",
     "text": [
      "--------------------\n"
     ]
    },
    {
     "name": "stderr",
     "output_type": "stream",
     "text": [
      " 57%|█████▋    | 270/470 [41:07<27:57,  8.39s/it]"
     ]
    },
    {
     "name": "stdout",
     "output_type": "stream",
     "text": [
      "--------------------\n"
     ]
    },
    {
     "name": "stderr",
     "output_type": "stream",
     "text": [
      " 58%|█████▊    | 271/470 [41:14<25:52,  7.80s/it]"
     ]
    },
    {
     "name": "stdout",
     "output_type": "stream",
     "text": [
      "--------------------\n"
     ]
    },
    {
     "name": "stderr",
     "output_type": "stream",
     "text": [
      " 58%|█████▊    | 272/470 [41:22<25:55,  7.86s/it]"
     ]
    },
    {
     "name": "stdout",
     "output_type": "stream",
     "text": [
      "--------------------\n"
     ]
    },
    {
     "name": "stderr",
     "output_type": "stream",
     "text": [
      " 58%|█████▊    | 273/470 [41:27<23:10,  7.06s/it]"
     ]
    },
    {
     "name": "stdout",
     "output_type": "stream",
     "text": [
      "--------------------\n"
     ]
    },
    {
     "name": "stderr",
     "output_type": "stream",
     "text": [
      " 58%|█████▊    | 274/470 [41:33<22:05,  6.76s/it]"
     ]
    },
    {
     "name": "stdout",
     "output_type": "stream",
     "text": [
      "--------------------\n"
     ]
    },
    {
     "name": "stderr",
     "output_type": "stream",
     "text": [
      " 59%|█████▊    | 275/470 [41:48<30:06,  9.27s/it]"
     ]
    },
    {
     "name": "stdout",
     "output_type": "stream",
     "text": [
      "--------------------\n"
     ]
    },
    {
     "name": "stderr",
     "output_type": "stream",
     "text": [
      " 59%|█████▊    | 276/470 [41:56<29:10,  9.02s/it]"
     ]
    },
    {
     "name": "stdout",
     "output_type": "stream",
     "text": [
      "--------------------\n"
     ]
    },
    {
     "name": "stderr",
     "output_type": "stream",
     "text": [
      " 59%|█████▉    | 277/470 [42:03<27:02,  8.41s/it]"
     ]
    },
    {
     "name": "stdout",
     "output_type": "stream",
     "text": [
      "--------------------\n"
     ]
    },
    {
     "name": "stderr",
     "output_type": "stream",
     "text": [
      " 59%|█████▉    | 278/470 [42:11<26:02,  8.14s/it]"
     ]
    },
    {
     "name": "stdout",
     "output_type": "stream",
     "text": [
      "--------------------\n"
     ]
    },
    {
     "name": "stderr",
     "output_type": "stream",
     "text": [
      " 59%|█████▉    | 279/470 [42:20<27:05,  8.51s/it]"
     ]
    },
    {
     "name": "stdout",
     "output_type": "stream",
     "text": [
      "--------------------\n"
     ]
    },
    {
     "name": "stderr",
     "output_type": "stream",
     "text": [
      " 60%|█████▉    | 280/470 [42:28<26:22,  8.33s/it]"
     ]
    },
    {
     "name": "stdout",
     "output_type": "stream",
     "text": [
      "--------------------\n"
     ]
    },
    {
     "name": "stderr",
     "output_type": "stream",
     "text": [
      " 60%|█████▉    | 281/470 [42:39<28:47,  9.14s/it]"
     ]
    },
    {
     "name": "stdout",
     "output_type": "stream",
     "text": [
      "--------------------\n"
     ]
    },
    {
     "name": "stderr",
     "output_type": "stream",
     "text": [
      " 60%|██████    | 282/470 [42:49<29:30,  9.42s/it]"
     ]
    },
    {
     "name": "stdout",
     "output_type": "stream",
     "text": [
      "--------------------\n"
     ]
    },
    {
     "name": "stderr",
     "output_type": "stream",
     "text": [
      " 60%|██████    | 283/470 [43:00<31:03,  9.97s/it]"
     ]
    },
    {
     "name": "stdout",
     "output_type": "stream",
     "text": [
      "--------------------\n"
     ]
    },
    {
     "name": "stderr",
     "output_type": "stream",
     "text": [
      " 60%|██████    | 284/470 [43:23<42:16, 13.64s/it]"
     ]
    },
    {
     "name": "stdout",
     "output_type": "stream",
     "text": [
      "--------------------\n"
     ]
    },
    {
     "name": "stderr",
     "output_type": "stream",
     "text": [
      " 61%|██████    | 285/470 [43:32<37:40, 12.22s/it]"
     ]
    },
    {
     "name": "stdout",
     "output_type": "stream",
     "text": [
      "--------------------\n"
     ]
    },
    {
     "name": "stderr",
     "output_type": "stream",
     "text": [
      " 61%|██████    | 286/470 [43:41<35:16, 11.50s/it]"
     ]
    },
    {
     "name": "stdout",
     "output_type": "stream",
     "text": [
      "--------------------\n"
     ]
    },
    {
     "name": "stderr",
     "output_type": "stream",
     "text": [
      " 61%|██████    | 287/470 [43:48<30:46, 10.09s/it]"
     ]
    },
    {
     "name": "stdout",
     "output_type": "stream",
     "text": [
      "--------------------\n"
     ]
    },
    {
     "name": "stderr",
     "output_type": "stream",
     "text": [
      " 61%|██████▏   | 288/470 [43:54<26:17,  8.67s/it]"
     ]
    },
    {
     "name": "stdout",
     "output_type": "stream",
     "text": [
      "--------------------\n"
     ]
    },
    {
     "name": "stderr",
     "output_type": "stream",
     "text": [
      " 61%|██████▏   | 289/470 [44:03<26:43,  8.86s/it]"
     ]
    },
    {
     "name": "stdout",
     "output_type": "stream",
     "text": [
      "--------------------\n"
     ]
    },
    {
     "name": "stderr",
     "output_type": "stream",
     "text": [
      " 62%|██████▏   | 290/470 [44:08<23:08,  7.72s/it]"
     ]
    },
    {
     "name": "stdout",
     "output_type": "stream",
     "text": [
      "--------------------\n"
     ]
    },
    {
     "name": "stderr",
     "output_type": "stream",
     "text": [
      " 62%|██████▏   | 291/470 [44:15<22:12,  7.45s/it]"
     ]
    },
    {
     "name": "stdout",
     "output_type": "stream",
     "text": [
      "--------------------\n"
     ]
    },
    {
     "name": "stderr",
     "output_type": "stream",
     "text": [
      " 62%|██████▏   | 292/470 [44:21<21:26,  7.23s/it]"
     ]
    },
    {
     "name": "stdout",
     "output_type": "stream",
     "text": [
      "--------------------\n"
     ]
    },
    {
     "name": "stderr",
     "output_type": "stream",
     "text": [
      " 62%|██████▏   | 293/470 [44:30<22:33,  7.65s/it]"
     ]
    },
    {
     "name": "stdout",
     "output_type": "stream",
     "text": [
      "--------------------\n"
     ]
    },
    {
     "name": "stderr",
     "output_type": "stream",
     "text": [
      " 63%|██████▎   | 294/470 [44:37<21:27,  7.31s/it]"
     ]
    },
    {
     "name": "stdout",
     "output_type": "stream",
     "text": [
      "--------------------\n"
     ]
    },
    {
     "name": "stderr",
     "output_type": "stream",
     "text": [
      " 63%|██████▎   | 295/470 [44:44<21:28,  7.36s/it]"
     ]
    },
    {
     "name": "stdout",
     "output_type": "stream",
     "text": [
      "--------------------\n"
     ]
    },
    {
     "name": "stderr",
     "output_type": "stream",
     "text": [
      " 63%|██████▎   | 296/470 [44:58<27:15,  9.40s/it]"
     ]
    },
    {
     "name": "stdout",
     "output_type": "stream",
     "text": [
      "--------------------\n"
     ]
    },
    {
     "name": "stderr",
     "output_type": "stream",
     "text": [
      " 63%|██████▎   | 297/470 [45:10<29:04, 10.08s/it]"
     ]
    },
    {
     "name": "stdout",
     "output_type": "stream",
     "text": [
      "--------------------\n"
     ]
    },
    {
     "name": "stderr",
     "output_type": "stream",
     "text": [
      " 63%|██████▎   | 298/470 [45:28<35:45, 12.47s/it]"
     ]
    },
    {
     "name": "stdout",
     "output_type": "stream",
     "text": [
      "--------------------\n"
     ]
    },
    {
     "name": "stderr",
     "output_type": "stream",
     "text": [
      " 64%|██████▎   | 299/470 [45:33<29:37, 10.39s/it]"
     ]
    },
    {
     "name": "stdout",
     "output_type": "stream",
     "text": [
      "--------------------\n"
     ]
    },
    {
     "name": "stderr",
     "output_type": "stream",
     "text": [
      " 64%|██████▍   | 300/470 [45:47<31:58, 11.29s/it]"
     ]
    },
    {
     "name": "stdout",
     "output_type": "stream",
     "text": [
      "--------------------\n"
     ]
    },
    {
     "name": "stderr",
     "output_type": "stream",
     "text": [
      " 64%|██████▍   | 301/470 [45:56<30:03, 10.67s/it]"
     ]
    },
    {
     "name": "stdout",
     "output_type": "stream",
     "text": [
      "--------------------\n"
     ]
    },
    {
     "name": "stderr",
     "output_type": "stream",
     "text": [
      " 64%|██████▍   | 302/470 [46:04<27:25,  9.79s/it]"
     ]
    },
    {
     "name": "stdout",
     "output_type": "stream",
     "text": [
      "--------------------\n"
     ]
    },
    {
     "name": "stderr",
     "output_type": "stream",
     "text": [
      " 64%|██████▍   | 303/470 [46:15<28:22, 10.20s/it]"
     ]
    },
    {
     "name": "stdout",
     "output_type": "stream",
     "text": [
      "--------------------\n"
     ]
    },
    {
     "name": "stderr",
     "output_type": "stream",
     "text": [
      " 65%|██████▍   | 304/470 [46:22<25:22,  9.17s/it]"
     ]
    },
    {
     "name": "stdout",
     "output_type": "stream",
     "text": [
      "--------------------\n"
     ]
    },
    {
     "name": "stderr",
     "output_type": "stream",
     "text": [
      " 65%|██████▍   | 305/470 [46:25<20:13,  7.36s/it]"
     ]
    },
    {
     "name": "stdout",
     "output_type": "stream",
     "text": [
      "--------------------\n"
     ]
    },
    {
     "name": "stderr",
     "output_type": "stream",
     "text": [
      " 65%|██████▌   | 306/470 [46:32<19:55,  7.29s/it]"
     ]
    },
    {
     "name": "stdout",
     "output_type": "stream",
     "text": [
      "--------------------\n"
     ]
    },
    {
     "name": "stderr",
     "output_type": "stream",
     "text": [
      " 65%|██████▌   | 307/470 [46:37<17:46,  6.54s/it]"
     ]
    },
    {
     "name": "stdout",
     "output_type": "stream",
     "text": [
      "--------------------\n"
     ]
    },
    {
     "name": "stderr",
     "output_type": "stream",
     "text": [
      " 66%|██████▌   | 308/470 [46:44<18:29,  6.85s/it]"
     ]
    },
    {
     "name": "stdout",
     "output_type": "stream",
     "text": [
      "--------------------\n"
     ]
    },
    {
     "name": "stderr",
     "output_type": "stream",
     "text": [
      " 66%|██████▌   | 309/470 [46:52<18:37,  6.94s/it]"
     ]
    },
    {
     "name": "stdout",
     "output_type": "stream",
     "text": [
      "--------------------\n"
     ]
    },
    {
     "name": "stderr",
     "output_type": "stream",
     "text": [
      " 66%|██████▌   | 310/470 [46:59<18:57,  7.11s/it]"
     ]
    },
    {
     "name": "stdout",
     "output_type": "stream",
     "text": [
      "--------------------\n"
     ]
    },
    {
     "name": "stderr",
     "output_type": "stream",
     "text": [
      " 66%|██████▌   | 311/470 [47:03<16:25,  6.20s/it]"
     ]
    },
    {
     "name": "stdout",
     "output_type": "stream",
     "text": [
      "--------------------\n"
     ]
    },
    {
     "name": "stderr",
     "output_type": "stream",
     "text": [
      " 66%|██████▋   | 312/470 [47:10<16:29,  6.26s/it]"
     ]
    },
    {
     "name": "stdout",
     "output_type": "stream",
     "text": [
      "--------------------\n"
     ]
    },
    {
     "name": "stderr",
     "output_type": "stream",
     "text": [
      " 67%|██████▋   | 313/470 [47:21<20:24,  7.80s/it]"
     ]
    },
    {
     "name": "stdout",
     "output_type": "stream",
     "text": [
      "--------------------\n"
     ]
    },
    {
     "name": "stderr",
     "output_type": "stream",
     "text": [
      " 67%|██████▋   | 314/470 [47:37<26:52, 10.34s/it]"
     ]
    },
    {
     "name": "stdout",
     "output_type": "stream",
     "text": [
      "--------------------\n"
     ]
    },
    {
     "name": "stderr",
     "output_type": "stream",
     "text": [
      " 67%|██████▋   | 315/470 [47:43<23:28,  9.08s/it]"
     ]
    },
    {
     "name": "stdout",
     "output_type": "stream",
     "text": [
      "--------------------\n"
     ]
    },
    {
     "name": "stderr",
     "output_type": "stream",
     "text": [
      " 67%|██████▋   | 316/470 [47:52<22:39,  8.83s/it]"
     ]
    },
    {
     "name": "stdout",
     "output_type": "stream",
     "text": [
      "--------------------\n"
     ]
    },
    {
     "name": "stderr",
     "output_type": "stream",
     "text": [
      " 67%|██████▋   | 317/470 [47:58<20:54,  8.20s/it]"
     ]
    },
    {
     "name": "stdout",
     "output_type": "stream",
     "text": [
      "--------------------\n"
     ]
    },
    {
     "name": "stderr",
     "output_type": "stream",
     "text": [
      " 68%|██████▊   | 318/470 [48:05<19:47,  7.82s/it]"
     ]
    },
    {
     "name": "stdout",
     "output_type": "stream",
     "text": [
      "--------------------\n"
     ]
    },
    {
     "name": "stderr",
     "output_type": "stream",
     "text": [
      " 68%|██████▊   | 319/470 [48:14<20:39,  8.21s/it]"
     ]
    },
    {
     "name": "stdout",
     "output_type": "stream",
     "text": [
      "--------------------\n"
     ]
    },
    {
     "name": "stderr",
     "output_type": "stream",
     "text": [
      " 68%|██████▊   | 320/470 [48:33<28:05, 11.24s/it]"
     ]
    },
    {
     "name": "stdout",
     "output_type": "stream",
     "text": [
      "--------------------\n"
     ]
    },
    {
     "name": "stderr",
     "output_type": "stream",
     "text": [
      " 68%|██████▊   | 321/470 [48:48<31:08, 12.54s/it]"
     ]
    },
    {
     "name": "stdout",
     "output_type": "stream",
     "text": [
      "--------------------\n"
     ]
    },
    {
     "name": "stderr",
     "output_type": "stream",
     "text": [
      " 69%|██████▊   | 322/470 [48:57<27:47, 11.26s/it]"
     ]
    },
    {
     "name": "stdout",
     "output_type": "stream",
     "text": [
      "--------------------\n"
     ]
    },
    {
     "name": "stderr",
     "output_type": "stream",
     "text": [
      " 69%|██████▊   | 323/470 [49:04<24:56, 10.18s/it]"
     ]
    },
    {
     "name": "stdout",
     "output_type": "stream",
     "text": [
      "--------------------\n"
     ]
    },
    {
     "name": "stderr",
     "output_type": "stream",
     "text": [
      " 69%|██████▉   | 324/470 [49:10<21:38,  8.90s/it]"
     ]
    },
    {
     "name": "stdout",
     "output_type": "stream",
     "text": [
      "--------------------\n"
     ]
    },
    {
     "name": "stderr",
     "output_type": "stream",
     "text": [
      " 69%|██████▉   | 325/470 [49:16<19:34,  8.10s/it]"
     ]
    },
    {
     "name": "stdout",
     "output_type": "stream",
     "text": [
      "--------------------\n"
     ]
    },
    {
     "name": "stderr",
     "output_type": "stream",
     "text": [
      " 69%|██████▉   | 326/470 [49:26<20:27,  8.52s/it]"
     ]
    },
    {
     "name": "stdout",
     "output_type": "stream",
     "text": [
      "--------------------\n"
     ]
    },
    {
     "name": "stderr",
     "output_type": "stream",
     "text": [
      " 70%|██████▉   | 327/470 [49:35<20:36,  8.65s/it]"
     ]
    },
    {
     "name": "stdout",
     "output_type": "stream",
     "text": [
      "--------------------\n"
     ]
    },
    {
     "name": "stderr",
     "output_type": "stream",
     "text": [
      " 70%|██████▉   | 328/470 [49:39<17:17,  7.31s/it]"
     ]
    },
    {
     "name": "stdout",
     "output_type": "stream",
     "text": [
      "--------------------\n"
     ]
    },
    {
     "name": "stderr",
     "output_type": "stream",
     "text": [
      " 70%|███████   | 329/470 [49:47<17:36,  7.49s/it]"
     ]
    },
    {
     "name": "stdout",
     "output_type": "stream",
     "text": [
      "--------------------\n"
     ]
    },
    {
     "name": "stderr",
     "output_type": "stream",
     "text": [
      " 70%|███████   | 330/470 [49:55<17:43,  7.59s/it]"
     ]
    },
    {
     "name": "stdout",
     "output_type": "stream",
     "text": [
      "--------------------\n"
     ]
    },
    {
     "name": "stderr",
     "output_type": "stream",
     "text": [
      " 70%|███████   | 331/470 [50:03<18:19,  7.91s/it]"
     ]
    },
    {
     "name": "stdout",
     "output_type": "stream",
     "text": [
      "--------------------\n"
     ]
    },
    {
     "name": "stderr",
     "output_type": "stream",
     "text": [
      " 71%|███████   | 332/470 [50:18<22:54,  9.96s/it]"
     ]
    },
    {
     "name": "stdout",
     "output_type": "stream",
     "text": [
      "--------------------\n"
     ]
    },
    {
     "name": "stderr",
     "output_type": "stream",
     "text": [
      " 71%|███████   | 333/470 [50:24<20:00,  8.76s/it]"
     ]
    },
    {
     "name": "stdout",
     "output_type": "stream",
     "text": [
      "--------------------\n"
     ]
    },
    {
     "name": "stderr",
     "output_type": "stream",
     "text": [
      " 71%|███████   | 334/470 [50:37<22:37,  9.98s/it]"
     ]
    },
    {
     "name": "stdout",
     "output_type": "stream",
     "text": [
      "--------------------\n"
     ]
    },
    {
     "name": "stderr",
     "output_type": "stream",
     "text": [
      " 71%|███████▏  | 335/470 [50:46<22:07,  9.84s/it]"
     ]
    },
    {
     "name": "stdout",
     "output_type": "stream",
     "text": [
      "--------------------\n"
     ]
    },
    {
     "name": "stderr",
     "output_type": "stream",
     "text": [
      " 71%|███████▏  | 336/470 [50:54<20:21,  9.12s/it]"
     ]
    },
    {
     "name": "stdout",
     "output_type": "stream",
     "text": [
      "--------------------\n"
     ]
    },
    {
     "name": "stderr",
     "output_type": "stream",
     "text": [
      " 72%|███████▏  | 337/470 [51:05<21:24,  9.66s/it]"
     ]
    },
    {
     "name": "stdout",
     "output_type": "stream",
     "text": [
      "--------------------\n"
     ]
    },
    {
     "name": "stderr",
     "output_type": "stream",
     "text": [
      " 72%|███████▏  | 338/470 [51:26<28:36, 13.01s/it]"
     ]
    },
    {
     "name": "stdout",
     "output_type": "stream",
     "text": [
      "--------------------\n"
     ]
    },
    {
     "name": "stderr",
     "output_type": "stream",
     "text": [
      " 72%|███████▏  | 339/470 [51:32<23:55, 10.96s/it]"
     ]
    },
    {
     "name": "stdout",
     "output_type": "stream",
     "text": [
      "--------------------\n"
     ]
    },
    {
     "name": "stderr",
     "output_type": "stream",
     "text": [
      " 72%|███████▏  | 340/470 [51:39<21:22,  9.87s/it]"
     ]
    },
    {
     "name": "stdout",
     "output_type": "stream",
     "text": [
      "--------------------\n"
     ]
    },
    {
     "name": "stderr",
     "output_type": "stream",
     "text": [
      " 73%|███████▎  | 341/470 [51:45<18:25,  8.57s/it]"
     ]
    },
    {
     "name": "stdout",
     "output_type": "stream",
     "text": [
      "--------------------\n"
     ]
    },
    {
     "name": "stderr",
     "output_type": "stream",
     "text": [
      " 73%|███████▎  | 342/470 [51:51<17:07,  8.03s/it]"
     ]
    },
    {
     "name": "stdout",
     "output_type": "stream",
     "text": [
      "--------------------\n"
     ]
    },
    {
     "name": "stderr",
     "output_type": "stream",
     "text": [
      " 73%|███████▎  | 343/470 [51:57<15:12,  7.18s/it]"
     ]
    },
    {
     "name": "stdout",
     "output_type": "stream",
     "text": [
      "--------------------\n"
     ]
    },
    {
     "name": "stderr",
     "output_type": "stream",
     "text": [
      " 73%|███████▎  | 344/470 [52:08<18:01,  8.59s/it]"
     ]
    },
    {
     "name": "stdout",
     "output_type": "stream",
     "text": [
      "--------------------\n"
     ]
    },
    {
     "name": "stderr",
     "output_type": "stream",
     "text": [
      " 73%|███████▎  | 345/470 [52:16<17:03,  8.18s/it]"
     ]
    },
    {
     "name": "stdout",
     "output_type": "stream",
     "text": [
      "--------------------\n"
     ]
    },
    {
     "name": "stderr",
     "output_type": "stream",
     "text": [
      " 74%|███████▎  | 346/470 [52:24<16:45,  8.11s/it]"
     ]
    },
    {
     "name": "stdout",
     "output_type": "stream",
     "text": [
      "--------------------\n"
     ]
    },
    {
     "name": "stderr",
     "output_type": "stream",
     "text": [
      " 74%|███████▍  | 347/470 [52:29<14:54,  7.27s/it]"
     ]
    },
    {
     "name": "stdout",
     "output_type": "stream",
     "text": [
      "--------------------\n"
     ]
    },
    {
     "name": "stderr",
     "output_type": "stream",
     "text": [
      " 74%|███████▍  | 348/470 [52:39<16:34,  8.15s/it]"
     ]
    },
    {
     "name": "stdout",
     "output_type": "stream",
     "text": [
      "--------------------\n"
     ]
    },
    {
     "name": "stderr",
     "output_type": "stream",
     "text": [
      " 74%|███████▍  | 349/470 [52:45<15:19,  7.60s/it]"
     ]
    },
    {
     "name": "stdout",
     "output_type": "stream",
     "text": [
      "--------------------\n"
     ]
    },
    {
     "name": "stderr",
     "output_type": "stream",
     "text": [
      " 74%|███████▍  | 350/470 [52:58<17:54,  8.95s/it]"
     ]
    },
    {
     "name": "stdout",
     "output_type": "stream",
     "text": [
      "--------------------\n"
     ]
    },
    {
     "name": "stderr",
     "output_type": "stream",
     "text": [
      " 75%|███████▍  | 351/470 [53:03<15:53,  8.01s/it]"
     ]
    },
    {
     "name": "stdout",
     "output_type": "stream",
     "text": [
      "--------------------\n"
     ]
    },
    {
     "name": "stderr",
     "output_type": "stream",
     "text": [
      " 75%|███████▍  | 352/470 [53:09<14:38,  7.44s/it]"
     ]
    },
    {
     "name": "stdout",
     "output_type": "stream",
     "text": [
      "--------------------\n"
     ]
    },
    {
     "name": "stderr",
     "output_type": "stream",
     "text": [
      " 75%|███████▌  | 353/470 [53:16<14:10,  7.27s/it]"
     ]
    },
    {
     "name": "stdout",
     "output_type": "stream",
     "text": [
      "--------------------\n"
     ]
    },
    {
     "name": "stderr",
     "output_type": "stream",
     "text": [
      " 75%|███████▌  | 354/470 [53:22<13:05,  6.77s/it]"
     ]
    },
    {
     "name": "stdout",
     "output_type": "stream",
     "text": [
      "--------------------\n"
     ]
    },
    {
     "name": "stderr",
     "output_type": "stream",
     "text": [
      " 76%|███████▌  | 355/470 [53:33<15:34,  8.13s/it]"
     ]
    },
    {
     "name": "stdout",
     "output_type": "stream",
     "text": [
      "--------------------\n"
     ]
    },
    {
     "name": "stderr",
     "output_type": "stream",
     "text": [
      " 76%|███████▌  | 356/470 [53:41<15:20,  8.08s/it]"
     ]
    },
    {
     "name": "stdout",
     "output_type": "stream",
     "text": [
      "--------------------\n"
     ]
    },
    {
     "name": "stderr",
     "output_type": "stream",
     "text": [
      " 76%|███████▌  | 357/470 [53:49<14:56,  7.94s/it]"
     ]
    },
    {
     "name": "stdout",
     "output_type": "stream",
     "text": [
      "--------------------\n"
     ]
    },
    {
     "name": "stderr",
     "output_type": "stream",
     "text": [
      " 76%|███████▌  | 358/470 [53:55<13:49,  7.40s/it]"
     ]
    },
    {
     "name": "stdout",
     "output_type": "stream",
     "text": [
      "--------------------\n"
     ]
    },
    {
     "name": "stderr",
     "output_type": "stream",
     "text": [
      " 76%|███████▋  | 359/470 [54:03<13:54,  7.52s/it]"
     ]
    },
    {
     "name": "stdout",
     "output_type": "stream",
     "text": [
      "--------------------\n"
     ]
    },
    {
     "name": "stderr",
     "output_type": "stream",
     "text": [
      " 77%|███████▋  | 360/470 [54:09<13:06,  7.15s/it]"
     ]
    },
    {
     "name": "stdout",
     "output_type": "stream",
     "text": [
      "--------------------\n"
     ]
    },
    {
     "name": "stderr",
     "output_type": "stream",
     "text": [
      " 77%|███████▋  | 361/470 [54:18<13:53,  7.65s/it]"
     ]
    },
    {
     "name": "stdout",
     "output_type": "stream",
     "text": [
      "--------------------\n"
     ]
    },
    {
     "name": "stderr",
     "output_type": "stream",
     "text": [
      " 77%|███████▋  | 362/470 [54:28<15:15,  8.48s/it]"
     ]
    },
    {
     "name": "stdout",
     "output_type": "stream",
     "text": [
      "--------------------\n"
     ]
    },
    {
     "name": "stderr",
     "output_type": "stream",
     "text": [
      " 77%|███████▋  | 363/470 [54:39<16:25,  9.21s/it]"
     ]
    },
    {
     "name": "stdout",
     "output_type": "stream",
     "text": [
      "--------------------\n"
     ]
    },
    {
     "name": "stderr",
     "output_type": "stream",
     "text": [
      " 77%|███████▋  | 364/470 [54:48<15:54,  9.01s/it]"
     ]
    },
    {
     "name": "stdout",
     "output_type": "stream",
     "text": [
      "--------------------\n"
     ]
    },
    {
     "name": "stderr",
     "output_type": "stream",
     "text": [
      " 78%|███████▊  | 365/470 [54:58<16:21,  9.34s/it]"
     ]
    },
    {
     "name": "stdout",
     "output_type": "stream",
     "text": [
      "--------------------\n"
     ]
    },
    {
     "name": "stderr",
     "output_type": "stream",
     "text": [
      " 78%|███████▊  | 366/470 [55:09<16:59,  9.80s/it]"
     ]
    },
    {
     "name": "stdout",
     "output_type": "stream",
     "text": [
      "--------------------\n"
     ]
    },
    {
     "name": "stderr",
     "output_type": "stream",
     "text": [
      " 78%|███████▊  | 367/470 [55:14<14:36,  8.51s/it]"
     ]
    },
    {
     "name": "stdout",
     "output_type": "stream",
     "text": [
      "--------------------\n"
     ]
    },
    {
     "name": "stderr",
     "output_type": "stream",
     "text": [
      " 78%|███████▊  | 368/470 [55:21<13:32,  7.97s/it]"
     ]
    },
    {
     "name": "stdout",
     "output_type": "stream",
     "text": [
      "--------------------\n"
     ]
    },
    {
     "name": "stderr",
     "output_type": "stream",
     "text": [
      " 79%|███████▊  | 369/470 [55:25<11:34,  6.88s/it]"
     ]
    },
    {
     "name": "stdout",
     "output_type": "stream",
     "text": [
      "--------------------\n"
     ]
    },
    {
     "name": "stderr",
     "output_type": "stream",
     "text": [
      " 79%|███████▊  | 370/470 [55:35<12:58,  7.79s/it]"
     ]
    },
    {
     "name": "stdout",
     "output_type": "stream",
     "text": [
      "--------------------\n"
     ]
    },
    {
     "name": "stderr",
     "output_type": "stream",
     "text": [
      " 79%|███████▊  | 370/470 [55:37<15:02,  9.02s/it]\n"
     ]
    },
    {
     "ename": "KeyboardInterrupt",
     "evalue": "",
     "output_type": "error",
     "traceback": [
      "\u001b[0;31m---------------------------------------------------------------------------\u001b[0m",
      "\u001b[0;31mKeyboardInterrupt\u001b[0m                         Traceback (most recent call last)",
      "Cell \u001b[0;32mIn[25], line 38\u001b[0m\n\u001b[1;32m     36\u001b[0m i \u001b[38;5;241m=\u001b[39m \u001b[38;5;241m0\u001b[39m\n\u001b[1;32m     37\u001b[0m \u001b[38;5;28;01mfor\u001b[39;00m context_passage \u001b[38;5;129;01min\u001b[39;00m tqdm(all_context):\n\u001b[0;32m---> 38\u001b[0m     extracted_entities, extracted_triples \u001b[38;5;241m=\u001b[39m \u001b[43mextract_knowledge_structured\u001b[49m\u001b[43m(\u001b[49m\u001b[43mcontext_passage\u001b[49m\u001b[43m)\u001b[49m\n\u001b[1;32m     40\u001b[0m     \u001b[38;5;28;01mif\u001b[39;00m extracted_triples:\n\u001b[1;32m     41\u001b[0m         knowledge_graph_data\u001b[38;5;241m.\u001b[39mappend({\n\u001b[1;32m     42\u001b[0m             \u001b[38;5;124m\"\u001b[39m\u001b[38;5;124mid\u001b[39m\u001b[38;5;124m\"\u001b[39m: i,\n\u001b[1;32m     43\u001b[0m             \u001b[38;5;124m\"\u001b[39m\u001b[38;5;124mpassage\u001b[39m\u001b[38;5;124m\"\u001b[39m: context_passage,\n\u001b[1;32m     44\u001b[0m             \u001b[38;5;124m\"\u001b[39m\u001b[38;5;124mentities\u001b[39m\u001b[38;5;124m\"\u001b[39m: extracted_entities,\n\u001b[1;32m     45\u001b[0m             \u001b[38;5;124m\"\u001b[39m\u001b[38;5;124mtriples\u001b[39m\u001b[38;5;124m\"\u001b[39m: extracted_triples\n\u001b[1;32m     46\u001b[0m         })\n",
      "Cell \u001b[0;32mIn[25], line 9\u001b[0m, in \u001b[0;36mextract_knowledge_structured\u001b[0;34m(passage)\u001b[0m\n\u001b[1;32m      5\u001b[0m \u001b[38;5;250m\u001b[39m\u001b[38;5;124;03m\"\"\"\u001b[39;00m\n\u001b[1;32m      6\u001b[0m \u001b[38;5;124;03mImplements the two-step HippoRAG extraction process using a system/user prompt structure.\u001b[39;00m\n\u001b[1;32m      7\u001b[0m \u001b[38;5;124;03m\"\"\"\u001b[39;00m\n\u001b[1;32m      8\u001b[0m \u001b[38;5;28;01mtry\u001b[39;00m:\n\u001b[0;32m----> 9\u001b[0m     ner_response \u001b[38;5;241m=\u001b[39m \u001b[43mner_chain\u001b[49m\u001b[38;5;241;43m.\u001b[39;49m\u001b[43minvoke\u001b[49m\u001b[43m(\u001b[49m\u001b[43m{\u001b[49m\u001b[38;5;124;43m\"\u001b[39;49m\u001b[38;5;124;43mpassage\u001b[39;49m\u001b[38;5;124;43m\"\u001b[39;49m\u001b[43m:\u001b[49m\u001b[43m \u001b[49m\u001b[43mpassage\u001b[49m\u001b[43m}\u001b[49m\u001b[43m)\u001b[49m\n\u001b[1;32m     10\u001b[0m     entities \u001b[38;5;241m=\u001b[39m ner_response\u001b[38;5;241m.\u001b[39mnamed_entities\n\u001b[1;32m     11\u001b[0m     \u001b[38;5;66;03m# print(f\"  -> Extracted Entities: {entities}\")\u001b[39;00m\n",
      "File \u001b[0;32m/opt/conda/envs/llm_course/lib/python3.12/site-packages/langchain_core/runnables/base.py:3047\u001b[0m, in \u001b[0;36mRunnableSequence.invoke\u001b[0;34m(self, input, config, **kwargs)\u001b[0m\n\u001b[1;32m   3045\u001b[0m                 input_ \u001b[38;5;241m=\u001b[39m context\u001b[38;5;241m.\u001b[39mrun(step\u001b[38;5;241m.\u001b[39minvoke, input_, config, \u001b[38;5;241m*\u001b[39m\u001b[38;5;241m*\u001b[39mkwargs)\n\u001b[1;32m   3046\u001b[0m             \u001b[38;5;28;01melse\u001b[39;00m:\n\u001b[0;32m-> 3047\u001b[0m                 input_ \u001b[38;5;241m=\u001b[39m \u001b[43mcontext\u001b[49m\u001b[38;5;241;43m.\u001b[39;49m\u001b[43mrun\u001b[49m\u001b[43m(\u001b[49m\u001b[43mstep\u001b[49m\u001b[38;5;241;43m.\u001b[39;49m\u001b[43minvoke\u001b[49m\u001b[43m,\u001b[49m\u001b[43m \u001b[49m\u001b[43minput_\u001b[49m\u001b[43m,\u001b[49m\u001b[43m \u001b[49m\u001b[43mconfig\u001b[49m\u001b[43m)\u001b[49m\n\u001b[1;32m   3048\u001b[0m \u001b[38;5;66;03m# finish the root run\u001b[39;00m\n\u001b[1;32m   3049\u001b[0m \u001b[38;5;28;01mexcept\u001b[39;00m \u001b[38;5;167;01mBaseException\u001b[39;00m \u001b[38;5;28;01mas\u001b[39;00m e:\n",
      "File \u001b[0;32m/opt/conda/envs/llm_course/lib/python3.12/site-packages/langchain_core/runnables/base.py:5431\u001b[0m, in \u001b[0;36mRunnableBindingBase.invoke\u001b[0;34m(self, input, config, **kwargs)\u001b[0m\n\u001b[1;32m   5424\u001b[0m \u001b[38;5;129m@override\u001b[39m\n\u001b[1;32m   5425\u001b[0m \u001b[38;5;28;01mdef\u001b[39;00m \u001b[38;5;21minvoke\u001b[39m(\n\u001b[1;32m   5426\u001b[0m     \u001b[38;5;28mself\u001b[39m,\n\u001b[0;32m   (...)\u001b[0m\n\u001b[1;32m   5429\u001b[0m     \u001b[38;5;241m*\u001b[39m\u001b[38;5;241m*\u001b[39mkwargs: Optional[Any],\n\u001b[1;32m   5430\u001b[0m ) \u001b[38;5;241m-\u001b[39m\u001b[38;5;241m>\u001b[39m Output:\n\u001b[0;32m-> 5431\u001b[0m     \u001b[38;5;28;01mreturn\u001b[39;00m \u001b[38;5;28;43mself\u001b[39;49m\u001b[38;5;241;43m.\u001b[39;49m\u001b[43mbound\u001b[49m\u001b[38;5;241;43m.\u001b[39;49m\u001b[43minvoke\u001b[49m\u001b[43m(\u001b[49m\n\u001b[1;32m   5432\u001b[0m \u001b[43m        \u001b[49m\u001b[38;5;28;43minput\u001b[39;49m\u001b[43m,\u001b[49m\n\u001b[1;32m   5433\u001b[0m \u001b[43m        \u001b[49m\u001b[38;5;28;43mself\u001b[39;49m\u001b[38;5;241;43m.\u001b[39;49m\u001b[43m_merge_configs\u001b[49m\u001b[43m(\u001b[49m\u001b[43mconfig\u001b[49m\u001b[43m)\u001b[49m\u001b[43m,\u001b[49m\n\u001b[1;32m   5434\u001b[0m \u001b[43m        \u001b[49m\u001b[38;5;241;43m*\u001b[39;49m\u001b[38;5;241;43m*\u001b[39;49m\u001b[43m{\u001b[49m\u001b[38;5;241;43m*\u001b[39;49m\u001b[38;5;241;43m*\u001b[39;49m\u001b[38;5;28;43mself\u001b[39;49m\u001b[38;5;241;43m.\u001b[39;49m\u001b[43mkwargs\u001b[49m\u001b[43m,\u001b[49m\u001b[43m \u001b[49m\u001b[38;5;241;43m*\u001b[39;49m\u001b[38;5;241;43m*\u001b[39;49m\u001b[43mkwargs\u001b[49m\u001b[43m}\u001b[49m\u001b[43m,\u001b[49m\n\u001b[1;32m   5435\u001b[0m \u001b[43m    \u001b[49m\u001b[43m)\u001b[49m\n",
      "File \u001b[0;32m/opt/conda/envs/llm_course/lib/python3.12/site-packages/langchain_core/language_models/chat_models.py:372\u001b[0m, in \u001b[0;36mBaseChatModel.invoke\u001b[0;34m(self, input, config, stop, **kwargs)\u001b[0m\n\u001b[1;32m    360\u001b[0m \u001b[38;5;129m@override\u001b[39m\n\u001b[1;32m    361\u001b[0m \u001b[38;5;28;01mdef\u001b[39;00m \u001b[38;5;21minvoke\u001b[39m(\n\u001b[1;32m    362\u001b[0m     \u001b[38;5;28mself\u001b[39m,\n\u001b[0;32m   (...)\u001b[0m\n\u001b[1;32m    367\u001b[0m     \u001b[38;5;241m*\u001b[39m\u001b[38;5;241m*\u001b[39mkwargs: Any,\n\u001b[1;32m    368\u001b[0m ) \u001b[38;5;241m-\u001b[39m\u001b[38;5;241m>\u001b[39m BaseMessage:\n\u001b[1;32m    369\u001b[0m     config \u001b[38;5;241m=\u001b[39m ensure_config(config)\n\u001b[1;32m    370\u001b[0m     \u001b[38;5;28;01mreturn\u001b[39;00m cast(\n\u001b[1;32m    371\u001b[0m         \u001b[38;5;124m\"\u001b[39m\u001b[38;5;124mChatGeneration\u001b[39m\u001b[38;5;124m\"\u001b[39m,\n\u001b[0;32m--> 372\u001b[0m         \u001b[38;5;28;43mself\u001b[39;49m\u001b[38;5;241;43m.\u001b[39;49m\u001b[43mgenerate_prompt\u001b[49m\u001b[43m(\u001b[49m\n\u001b[1;32m    373\u001b[0m \u001b[43m            \u001b[49m\u001b[43m[\u001b[49m\u001b[38;5;28;43mself\u001b[39;49m\u001b[38;5;241;43m.\u001b[39;49m\u001b[43m_convert_input\u001b[49m\u001b[43m(\u001b[49m\u001b[38;5;28;43minput\u001b[39;49m\u001b[43m)\u001b[49m\u001b[43m]\u001b[49m\u001b[43m,\u001b[49m\n\u001b[1;32m    374\u001b[0m \u001b[43m            \u001b[49m\u001b[43mstop\u001b[49m\u001b[38;5;241;43m=\u001b[39;49m\u001b[43mstop\u001b[49m\u001b[43m,\u001b[49m\n\u001b[1;32m    375\u001b[0m \u001b[43m            \u001b[49m\u001b[43mcallbacks\u001b[49m\u001b[38;5;241;43m=\u001b[39;49m\u001b[43mconfig\u001b[49m\u001b[38;5;241;43m.\u001b[39;49m\u001b[43mget\u001b[49m\u001b[43m(\u001b[49m\u001b[38;5;124;43m\"\u001b[39;49m\u001b[38;5;124;43mcallbacks\u001b[39;49m\u001b[38;5;124;43m\"\u001b[39;49m\u001b[43m)\u001b[49m\u001b[43m,\u001b[49m\n\u001b[1;32m    376\u001b[0m \u001b[43m            \u001b[49m\u001b[43mtags\u001b[49m\u001b[38;5;241;43m=\u001b[39;49m\u001b[43mconfig\u001b[49m\u001b[38;5;241;43m.\u001b[39;49m\u001b[43mget\u001b[49m\u001b[43m(\u001b[49m\u001b[38;5;124;43m\"\u001b[39;49m\u001b[38;5;124;43mtags\u001b[39;49m\u001b[38;5;124;43m\"\u001b[39;49m\u001b[43m)\u001b[49m\u001b[43m,\u001b[49m\n\u001b[1;32m    377\u001b[0m \u001b[43m            \u001b[49m\u001b[43mmetadata\u001b[49m\u001b[38;5;241;43m=\u001b[39;49m\u001b[43mconfig\u001b[49m\u001b[38;5;241;43m.\u001b[39;49m\u001b[43mget\u001b[49m\u001b[43m(\u001b[49m\u001b[38;5;124;43m\"\u001b[39;49m\u001b[38;5;124;43mmetadata\u001b[39;49m\u001b[38;5;124;43m\"\u001b[39;49m\u001b[43m)\u001b[49m\u001b[43m,\u001b[49m\n\u001b[1;32m    378\u001b[0m \u001b[43m            \u001b[49m\u001b[43mrun_name\u001b[49m\u001b[38;5;241;43m=\u001b[39;49m\u001b[43mconfig\u001b[49m\u001b[38;5;241;43m.\u001b[39;49m\u001b[43mget\u001b[49m\u001b[43m(\u001b[49m\u001b[38;5;124;43m\"\u001b[39;49m\u001b[38;5;124;43mrun_name\u001b[39;49m\u001b[38;5;124;43m\"\u001b[39;49m\u001b[43m)\u001b[49m\u001b[43m,\u001b[49m\n\u001b[1;32m    379\u001b[0m \u001b[43m            \u001b[49m\u001b[43mrun_id\u001b[49m\u001b[38;5;241;43m=\u001b[39;49m\u001b[43mconfig\u001b[49m\u001b[38;5;241;43m.\u001b[39;49m\u001b[43mpop\u001b[49m\u001b[43m(\u001b[49m\u001b[38;5;124;43m\"\u001b[39;49m\u001b[38;5;124;43mrun_id\u001b[39;49m\u001b[38;5;124;43m\"\u001b[39;49m\u001b[43m,\u001b[49m\u001b[43m \u001b[49m\u001b[38;5;28;43;01mNone\u001b[39;49;00m\u001b[43m)\u001b[49m\u001b[43m,\u001b[49m\n\u001b[1;32m    380\u001b[0m \u001b[43m            \u001b[49m\u001b[38;5;241;43m*\u001b[39;49m\u001b[38;5;241;43m*\u001b[39;49m\u001b[43mkwargs\u001b[49m\u001b[43m,\u001b[49m\n\u001b[1;32m    381\u001b[0m \u001b[43m        \u001b[49m\u001b[43m)\u001b[49m\u001b[38;5;241m.\u001b[39mgenerations[\u001b[38;5;241m0\u001b[39m][\u001b[38;5;241m0\u001b[39m],\n\u001b[1;32m    382\u001b[0m     )\u001b[38;5;241m.\u001b[39mmessage\n",
      "File \u001b[0;32m/opt/conda/envs/llm_course/lib/python3.12/site-packages/langchain_core/language_models/chat_models.py:957\u001b[0m, in \u001b[0;36mBaseChatModel.generate_prompt\u001b[0;34m(self, prompts, stop, callbacks, **kwargs)\u001b[0m\n\u001b[1;32m    948\u001b[0m \u001b[38;5;129m@override\u001b[39m\n\u001b[1;32m    949\u001b[0m \u001b[38;5;28;01mdef\u001b[39;00m \u001b[38;5;21mgenerate_prompt\u001b[39m(\n\u001b[1;32m    950\u001b[0m     \u001b[38;5;28mself\u001b[39m,\n\u001b[0;32m   (...)\u001b[0m\n\u001b[1;32m    954\u001b[0m     \u001b[38;5;241m*\u001b[39m\u001b[38;5;241m*\u001b[39mkwargs: Any,\n\u001b[1;32m    955\u001b[0m ) \u001b[38;5;241m-\u001b[39m\u001b[38;5;241m>\u001b[39m LLMResult:\n\u001b[1;32m    956\u001b[0m     prompt_messages \u001b[38;5;241m=\u001b[39m [p\u001b[38;5;241m.\u001b[39mto_messages() \u001b[38;5;28;01mfor\u001b[39;00m p \u001b[38;5;129;01min\u001b[39;00m prompts]\n\u001b[0;32m--> 957\u001b[0m     \u001b[38;5;28;01mreturn\u001b[39;00m \u001b[38;5;28;43mself\u001b[39;49m\u001b[38;5;241;43m.\u001b[39;49m\u001b[43mgenerate\u001b[49m\u001b[43m(\u001b[49m\u001b[43mprompt_messages\u001b[49m\u001b[43m,\u001b[49m\u001b[43m \u001b[49m\u001b[43mstop\u001b[49m\u001b[38;5;241;43m=\u001b[39;49m\u001b[43mstop\u001b[49m\u001b[43m,\u001b[49m\u001b[43m \u001b[49m\u001b[43mcallbacks\u001b[49m\u001b[38;5;241;43m=\u001b[39;49m\u001b[43mcallbacks\u001b[49m\u001b[43m,\u001b[49m\u001b[43m \u001b[49m\u001b[38;5;241;43m*\u001b[39;49m\u001b[38;5;241;43m*\u001b[39;49m\u001b[43mkwargs\u001b[49m\u001b[43m)\u001b[49m\n",
      "File \u001b[0;32m/opt/conda/envs/llm_course/lib/python3.12/site-packages/langchain_core/language_models/chat_models.py:776\u001b[0m, in \u001b[0;36mBaseChatModel.generate\u001b[0;34m(self, messages, stop, callbacks, tags, metadata, run_name, run_id, **kwargs)\u001b[0m\n\u001b[1;32m    773\u001b[0m \u001b[38;5;28;01mfor\u001b[39;00m i, m \u001b[38;5;129;01min\u001b[39;00m \u001b[38;5;28menumerate\u001b[39m(input_messages):\n\u001b[1;32m    774\u001b[0m     \u001b[38;5;28;01mtry\u001b[39;00m:\n\u001b[1;32m    775\u001b[0m         results\u001b[38;5;241m.\u001b[39mappend(\n\u001b[0;32m--> 776\u001b[0m             \u001b[38;5;28;43mself\u001b[39;49m\u001b[38;5;241;43m.\u001b[39;49m\u001b[43m_generate_with_cache\u001b[49m\u001b[43m(\u001b[49m\n\u001b[1;32m    777\u001b[0m \u001b[43m                \u001b[49m\u001b[43mm\u001b[49m\u001b[43m,\u001b[49m\n\u001b[1;32m    778\u001b[0m \u001b[43m                \u001b[49m\u001b[43mstop\u001b[49m\u001b[38;5;241;43m=\u001b[39;49m\u001b[43mstop\u001b[49m\u001b[43m,\u001b[49m\n\u001b[1;32m    779\u001b[0m \u001b[43m                \u001b[49m\u001b[43mrun_manager\u001b[49m\u001b[38;5;241;43m=\u001b[39;49m\u001b[43mrun_managers\u001b[49m\u001b[43m[\u001b[49m\u001b[43mi\u001b[49m\u001b[43m]\u001b[49m\u001b[43m \u001b[49m\u001b[38;5;28;43;01mif\u001b[39;49;00m\u001b[43m \u001b[49m\u001b[43mrun_managers\u001b[49m\u001b[43m \u001b[49m\u001b[38;5;28;43;01melse\u001b[39;49;00m\u001b[43m \u001b[49m\u001b[38;5;28;43;01mNone\u001b[39;49;00m\u001b[43m,\u001b[49m\n\u001b[1;32m    780\u001b[0m \u001b[43m                \u001b[49m\u001b[38;5;241;43m*\u001b[39;49m\u001b[38;5;241;43m*\u001b[39;49m\u001b[43mkwargs\u001b[49m\u001b[43m,\u001b[49m\n\u001b[1;32m    781\u001b[0m \u001b[43m            \u001b[49m\u001b[43m)\u001b[49m\n\u001b[1;32m    782\u001b[0m         )\n\u001b[1;32m    783\u001b[0m     \u001b[38;5;28;01mexcept\u001b[39;00m \u001b[38;5;167;01mBaseException\u001b[39;00m \u001b[38;5;28;01mas\u001b[39;00m e:\n\u001b[1;32m    784\u001b[0m         \u001b[38;5;28;01mif\u001b[39;00m run_managers:\n",
      "File \u001b[0;32m/opt/conda/envs/llm_course/lib/python3.12/site-packages/langchain_core/language_models/chat_models.py:1022\u001b[0m, in \u001b[0;36mBaseChatModel._generate_with_cache\u001b[0;34m(self, messages, stop, run_manager, **kwargs)\u001b[0m\n\u001b[1;32m   1020\u001b[0m     result \u001b[38;5;241m=\u001b[39m generate_from_stream(\u001b[38;5;28miter\u001b[39m(chunks))\n\u001b[1;32m   1021\u001b[0m \u001b[38;5;28;01melif\u001b[39;00m inspect\u001b[38;5;241m.\u001b[39msignature(\u001b[38;5;28mself\u001b[39m\u001b[38;5;241m.\u001b[39m_generate)\u001b[38;5;241m.\u001b[39mparameters\u001b[38;5;241m.\u001b[39mget(\u001b[38;5;124m\"\u001b[39m\u001b[38;5;124mrun_manager\u001b[39m\u001b[38;5;124m\"\u001b[39m):\n\u001b[0;32m-> 1022\u001b[0m     result \u001b[38;5;241m=\u001b[39m \u001b[38;5;28;43mself\u001b[39;49m\u001b[38;5;241;43m.\u001b[39;49m\u001b[43m_generate\u001b[49m\u001b[43m(\u001b[49m\n\u001b[1;32m   1023\u001b[0m \u001b[43m        \u001b[49m\u001b[43mmessages\u001b[49m\u001b[43m,\u001b[49m\u001b[43m \u001b[49m\u001b[43mstop\u001b[49m\u001b[38;5;241;43m=\u001b[39;49m\u001b[43mstop\u001b[49m\u001b[43m,\u001b[49m\u001b[43m \u001b[49m\u001b[43mrun_manager\u001b[49m\u001b[38;5;241;43m=\u001b[39;49m\u001b[43mrun_manager\u001b[49m\u001b[43m,\u001b[49m\u001b[43m \u001b[49m\u001b[38;5;241;43m*\u001b[39;49m\u001b[38;5;241;43m*\u001b[39;49m\u001b[43mkwargs\u001b[49m\n\u001b[1;32m   1024\u001b[0m \u001b[43m    \u001b[49m\u001b[43m)\u001b[49m\n\u001b[1;32m   1025\u001b[0m \u001b[38;5;28;01melse\u001b[39;00m:\n\u001b[1;32m   1026\u001b[0m     result \u001b[38;5;241m=\u001b[39m \u001b[38;5;28mself\u001b[39m\u001b[38;5;241m.\u001b[39m_generate(messages, stop\u001b[38;5;241m=\u001b[39mstop, \u001b[38;5;241m*\u001b[39m\u001b[38;5;241m*\u001b[39mkwargs)\n",
      "File \u001b[0;32m/opt/conda/envs/llm_course/lib/python3.12/site-packages/langchain_openai/chat_models/base.py:971\u001b[0m, in \u001b[0;36mBaseChatOpenAI._generate\u001b[0;34m(self, messages, stop, run_manager, **kwargs)\u001b[0m\n\u001b[1;32m    969\u001b[0m payload\u001b[38;5;241m.\u001b[39mpop(\u001b[38;5;124m\"\u001b[39m\u001b[38;5;124mstream\u001b[39m\u001b[38;5;124m\"\u001b[39m)\n\u001b[1;32m    970\u001b[0m \u001b[38;5;28;01mtry\u001b[39;00m:\n\u001b[0;32m--> 971\u001b[0m     response \u001b[38;5;241m=\u001b[39m \u001b[38;5;28;43mself\u001b[39;49m\u001b[38;5;241;43m.\u001b[39;49m\u001b[43mroot_client\u001b[49m\u001b[38;5;241;43m.\u001b[39;49m\u001b[43mbeta\u001b[49m\u001b[38;5;241;43m.\u001b[39;49m\u001b[43mchat\u001b[49m\u001b[38;5;241;43m.\u001b[39;49m\u001b[43mcompletions\u001b[49m\u001b[38;5;241;43m.\u001b[39;49m\u001b[43mparse\u001b[49m\u001b[43m(\u001b[49m\u001b[38;5;241;43m*\u001b[39;49m\u001b[38;5;241;43m*\u001b[39;49m\u001b[43mpayload\u001b[49m\u001b[43m)\u001b[49m\n\u001b[1;32m    972\u001b[0m \u001b[38;5;28;01mexcept\u001b[39;00m openai\u001b[38;5;241m.\u001b[39mBadRequestError \u001b[38;5;28;01mas\u001b[39;00m e:\n\u001b[1;32m    973\u001b[0m     _handle_openai_bad_request(e)\n",
      "File \u001b[0;32m/opt/conda/envs/llm_course/lib/python3.12/site-packages/openai/resources/beta/chat/completions.py:158\u001b[0m, in \u001b[0;36mCompletions.parse\u001b[0;34m(self, messages, model, audio, response_format, frequency_penalty, function_call, functions, logit_bias, logprobs, max_completion_tokens, max_tokens, metadata, modalities, n, parallel_tool_calls, prediction, presence_penalty, reasoning_effort, seed, service_tier, stop, store, stream_options, temperature, tool_choice, tools, top_logprobs, top_p, user, web_search_options, extra_headers, extra_query, extra_body, timeout)\u001b[0m\n\u001b[1;32m    151\u001b[0m \u001b[38;5;28;01mdef\u001b[39;00m \u001b[38;5;21mparser\u001b[39m(raw_completion: ChatCompletion) \u001b[38;5;241m-\u001b[39m\u001b[38;5;241m>\u001b[39m ParsedChatCompletion[ResponseFormatT]:\n\u001b[1;32m    152\u001b[0m     \u001b[38;5;28;01mreturn\u001b[39;00m _parse_chat_completion(\n\u001b[1;32m    153\u001b[0m         response_format\u001b[38;5;241m=\u001b[39mresponse_format,\n\u001b[1;32m    154\u001b[0m         chat_completion\u001b[38;5;241m=\u001b[39mraw_completion,\n\u001b[1;32m    155\u001b[0m         input_tools\u001b[38;5;241m=\u001b[39mtools,\n\u001b[1;32m    156\u001b[0m     )\n\u001b[0;32m--> 158\u001b[0m \u001b[38;5;28;01mreturn\u001b[39;00m \u001b[38;5;28;43mself\u001b[39;49m\u001b[38;5;241;43m.\u001b[39;49m\u001b[43m_post\u001b[49m\u001b[43m(\u001b[49m\n\u001b[1;32m    159\u001b[0m \u001b[43m    \u001b[49m\u001b[38;5;124;43m\"\u001b[39;49m\u001b[38;5;124;43m/chat/completions\u001b[39;49m\u001b[38;5;124;43m\"\u001b[39;49m\u001b[43m,\u001b[49m\n\u001b[1;32m    160\u001b[0m \u001b[43m    \u001b[49m\u001b[43mbody\u001b[49m\u001b[38;5;241;43m=\u001b[39;49m\u001b[43mmaybe_transform\u001b[49m\u001b[43m(\u001b[49m\n\u001b[1;32m    161\u001b[0m \u001b[43m        \u001b[49m\u001b[43m{\u001b[49m\n\u001b[1;32m    162\u001b[0m \u001b[43m            \u001b[49m\u001b[38;5;124;43m\"\u001b[39;49m\u001b[38;5;124;43mmessages\u001b[39;49m\u001b[38;5;124;43m\"\u001b[39;49m\u001b[43m:\u001b[49m\u001b[43m \u001b[49m\u001b[43mmessages\u001b[49m\u001b[43m,\u001b[49m\n\u001b[1;32m    163\u001b[0m \u001b[43m            \u001b[49m\u001b[38;5;124;43m\"\u001b[39;49m\u001b[38;5;124;43mmodel\u001b[39;49m\u001b[38;5;124;43m\"\u001b[39;49m\u001b[43m:\u001b[49m\u001b[43m \u001b[49m\u001b[43mmodel\u001b[49m\u001b[43m,\u001b[49m\n\u001b[1;32m    164\u001b[0m \u001b[43m            \u001b[49m\u001b[38;5;124;43m\"\u001b[39;49m\u001b[38;5;124;43maudio\u001b[39;49m\u001b[38;5;124;43m\"\u001b[39;49m\u001b[43m:\u001b[49m\u001b[43m \u001b[49m\u001b[43maudio\u001b[49m\u001b[43m,\u001b[49m\n\u001b[1;32m    165\u001b[0m \u001b[43m            \u001b[49m\u001b[38;5;124;43m\"\u001b[39;49m\u001b[38;5;124;43mfrequency_penalty\u001b[39;49m\u001b[38;5;124;43m\"\u001b[39;49m\u001b[43m:\u001b[49m\u001b[43m \u001b[49m\u001b[43mfrequency_penalty\u001b[49m\u001b[43m,\u001b[49m\n\u001b[1;32m    166\u001b[0m \u001b[43m            \u001b[49m\u001b[38;5;124;43m\"\u001b[39;49m\u001b[38;5;124;43mfunction_call\u001b[39;49m\u001b[38;5;124;43m\"\u001b[39;49m\u001b[43m:\u001b[49m\u001b[43m \u001b[49m\u001b[43mfunction_call\u001b[49m\u001b[43m,\u001b[49m\n\u001b[1;32m    167\u001b[0m \u001b[43m            \u001b[49m\u001b[38;5;124;43m\"\u001b[39;49m\u001b[38;5;124;43mfunctions\u001b[39;49m\u001b[38;5;124;43m\"\u001b[39;49m\u001b[43m:\u001b[49m\u001b[43m \u001b[49m\u001b[43mfunctions\u001b[49m\u001b[43m,\u001b[49m\n\u001b[1;32m    168\u001b[0m \u001b[43m            \u001b[49m\u001b[38;5;124;43m\"\u001b[39;49m\u001b[38;5;124;43mlogit_bias\u001b[39;49m\u001b[38;5;124;43m\"\u001b[39;49m\u001b[43m:\u001b[49m\u001b[43m \u001b[49m\u001b[43mlogit_bias\u001b[49m\u001b[43m,\u001b[49m\n\u001b[1;32m    169\u001b[0m \u001b[43m            \u001b[49m\u001b[38;5;124;43m\"\u001b[39;49m\u001b[38;5;124;43mlogprobs\u001b[39;49m\u001b[38;5;124;43m\"\u001b[39;49m\u001b[43m:\u001b[49m\u001b[43m \u001b[49m\u001b[43mlogprobs\u001b[49m\u001b[43m,\u001b[49m\n\u001b[1;32m    170\u001b[0m \u001b[43m            \u001b[49m\u001b[38;5;124;43m\"\u001b[39;49m\u001b[38;5;124;43mmax_completion_tokens\u001b[39;49m\u001b[38;5;124;43m\"\u001b[39;49m\u001b[43m:\u001b[49m\u001b[43m \u001b[49m\u001b[43mmax_completion_tokens\u001b[49m\u001b[43m,\u001b[49m\n\u001b[1;32m    171\u001b[0m \u001b[43m            \u001b[49m\u001b[38;5;124;43m\"\u001b[39;49m\u001b[38;5;124;43mmax_tokens\u001b[39;49m\u001b[38;5;124;43m\"\u001b[39;49m\u001b[43m:\u001b[49m\u001b[43m \u001b[49m\u001b[43mmax_tokens\u001b[49m\u001b[43m,\u001b[49m\n\u001b[1;32m    172\u001b[0m \u001b[43m            \u001b[49m\u001b[38;5;124;43m\"\u001b[39;49m\u001b[38;5;124;43mmetadata\u001b[39;49m\u001b[38;5;124;43m\"\u001b[39;49m\u001b[43m:\u001b[49m\u001b[43m \u001b[49m\u001b[43mmetadata\u001b[49m\u001b[43m,\u001b[49m\n\u001b[1;32m    173\u001b[0m \u001b[43m            \u001b[49m\u001b[38;5;124;43m\"\u001b[39;49m\u001b[38;5;124;43mmodalities\u001b[39;49m\u001b[38;5;124;43m\"\u001b[39;49m\u001b[43m:\u001b[49m\u001b[43m \u001b[49m\u001b[43mmodalities\u001b[49m\u001b[43m,\u001b[49m\n\u001b[1;32m    174\u001b[0m \u001b[43m            \u001b[49m\u001b[38;5;124;43m\"\u001b[39;49m\u001b[38;5;124;43mn\u001b[39;49m\u001b[38;5;124;43m\"\u001b[39;49m\u001b[43m:\u001b[49m\u001b[43m \u001b[49m\u001b[43mn\u001b[49m\u001b[43m,\u001b[49m\n\u001b[1;32m    175\u001b[0m \u001b[43m            \u001b[49m\u001b[38;5;124;43m\"\u001b[39;49m\u001b[38;5;124;43mparallel_tool_calls\u001b[39;49m\u001b[38;5;124;43m\"\u001b[39;49m\u001b[43m:\u001b[49m\u001b[43m \u001b[49m\u001b[43mparallel_tool_calls\u001b[49m\u001b[43m,\u001b[49m\n\u001b[1;32m    176\u001b[0m \u001b[43m            \u001b[49m\u001b[38;5;124;43m\"\u001b[39;49m\u001b[38;5;124;43mprediction\u001b[39;49m\u001b[38;5;124;43m\"\u001b[39;49m\u001b[43m:\u001b[49m\u001b[43m \u001b[49m\u001b[43mprediction\u001b[49m\u001b[43m,\u001b[49m\n\u001b[1;32m    177\u001b[0m \u001b[43m            \u001b[49m\u001b[38;5;124;43m\"\u001b[39;49m\u001b[38;5;124;43mpresence_penalty\u001b[39;49m\u001b[38;5;124;43m\"\u001b[39;49m\u001b[43m:\u001b[49m\u001b[43m \u001b[49m\u001b[43mpresence_penalty\u001b[49m\u001b[43m,\u001b[49m\n\u001b[1;32m    178\u001b[0m \u001b[43m            \u001b[49m\u001b[38;5;124;43m\"\u001b[39;49m\u001b[38;5;124;43mreasoning_effort\u001b[39;49m\u001b[38;5;124;43m\"\u001b[39;49m\u001b[43m:\u001b[49m\u001b[43m \u001b[49m\u001b[43mreasoning_effort\u001b[49m\u001b[43m,\u001b[49m\n\u001b[1;32m    179\u001b[0m \u001b[43m            \u001b[49m\u001b[38;5;124;43m\"\u001b[39;49m\u001b[38;5;124;43mresponse_format\u001b[39;49m\u001b[38;5;124;43m\"\u001b[39;49m\u001b[43m:\u001b[49m\u001b[43m \u001b[49m\u001b[43m_type_to_response_format\u001b[49m\u001b[43m(\u001b[49m\u001b[43mresponse_format\u001b[49m\u001b[43m)\u001b[49m\u001b[43m,\u001b[49m\n\u001b[1;32m    180\u001b[0m \u001b[43m            \u001b[49m\u001b[38;5;124;43m\"\u001b[39;49m\u001b[38;5;124;43mseed\u001b[39;49m\u001b[38;5;124;43m\"\u001b[39;49m\u001b[43m:\u001b[49m\u001b[43m \u001b[49m\u001b[43mseed\u001b[49m\u001b[43m,\u001b[49m\n\u001b[1;32m    181\u001b[0m \u001b[43m            \u001b[49m\u001b[38;5;124;43m\"\u001b[39;49m\u001b[38;5;124;43mservice_tier\u001b[39;49m\u001b[38;5;124;43m\"\u001b[39;49m\u001b[43m:\u001b[49m\u001b[43m \u001b[49m\u001b[43mservice_tier\u001b[49m\u001b[43m,\u001b[49m\n\u001b[1;32m    182\u001b[0m \u001b[43m            \u001b[49m\u001b[38;5;124;43m\"\u001b[39;49m\u001b[38;5;124;43mstop\u001b[39;49m\u001b[38;5;124;43m\"\u001b[39;49m\u001b[43m:\u001b[49m\u001b[43m \u001b[49m\u001b[43mstop\u001b[49m\u001b[43m,\u001b[49m\n\u001b[1;32m    183\u001b[0m \u001b[43m            \u001b[49m\u001b[38;5;124;43m\"\u001b[39;49m\u001b[38;5;124;43mstore\u001b[39;49m\u001b[38;5;124;43m\"\u001b[39;49m\u001b[43m:\u001b[49m\u001b[43m \u001b[49m\u001b[43mstore\u001b[49m\u001b[43m,\u001b[49m\n\u001b[1;32m    184\u001b[0m \u001b[43m            \u001b[49m\u001b[38;5;124;43m\"\u001b[39;49m\u001b[38;5;124;43mstream\u001b[39;49m\u001b[38;5;124;43m\"\u001b[39;49m\u001b[43m:\u001b[49m\u001b[43m \u001b[49m\u001b[38;5;28;43;01mFalse\u001b[39;49;00m\u001b[43m,\u001b[49m\n\u001b[1;32m    185\u001b[0m \u001b[43m            \u001b[49m\u001b[38;5;124;43m\"\u001b[39;49m\u001b[38;5;124;43mstream_options\u001b[39;49m\u001b[38;5;124;43m\"\u001b[39;49m\u001b[43m:\u001b[49m\u001b[43m \u001b[49m\u001b[43mstream_options\u001b[49m\u001b[43m,\u001b[49m\n\u001b[1;32m    186\u001b[0m \u001b[43m            \u001b[49m\u001b[38;5;124;43m\"\u001b[39;49m\u001b[38;5;124;43mtemperature\u001b[39;49m\u001b[38;5;124;43m\"\u001b[39;49m\u001b[43m:\u001b[49m\u001b[43m \u001b[49m\u001b[43mtemperature\u001b[49m\u001b[43m,\u001b[49m\n\u001b[1;32m    187\u001b[0m \u001b[43m            \u001b[49m\u001b[38;5;124;43m\"\u001b[39;49m\u001b[38;5;124;43mtool_choice\u001b[39;49m\u001b[38;5;124;43m\"\u001b[39;49m\u001b[43m:\u001b[49m\u001b[43m \u001b[49m\u001b[43mtool_choice\u001b[49m\u001b[43m,\u001b[49m\n\u001b[1;32m    188\u001b[0m \u001b[43m            \u001b[49m\u001b[38;5;124;43m\"\u001b[39;49m\u001b[38;5;124;43mtools\u001b[39;49m\u001b[38;5;124;43m\"\u001b[39;49m\u001b[43m:\u001b[49m\u001b[43m \u001b[49m\u001b[43mtools\u001b[49m\u001b[43m,\u001b[49m\n\u001b[1;32m    189\u001b[0m \u001b[43m            \u001b[49m\u001b[38;5;124;43m\"\u001b[39;49m\u001b[38;5;124;43mtop_logprobs\u001b[39;49m\u001b[38;5;124;43m\"\u001b[39;49m\u001b[43m:\u001b[49m\u001b[43m \u001b[49m\u001b[43mtop_logprobs\u001b[49m\u001b[43m,\u001b[49m\n\u001b[1;32m    190\u001b[0m \u001b[43m            \u001b[49m\u001b[38;5;124;43m\"\u001b[39;49m\u001b[38;5;124;43mtop_p\u001b[39;49m\u001b[38;5;124;43m\"\u001b[39;49m\u001b[43m:\u001b[49m\u001b[43m \u001b[49m\u001b[43mtop_p\u001b[49m\u001b[43m,\u001b[49m\n\u001b[1;32m    191\u001b[0m \u001b[43m            \u001b[49m\u001b[38;5;124;43m\"\u001b[39;49m\u001b[38;5;124;43muser\u001b[39;49m\u001b[38;5;124;43m\"\u001b[39;49m\u001b[43m:\u001b[49m\u001b[43m \u001b[49m\u001b[43muser\u001b[49m\u001b[43m,\u001b[49m\n\u001b[1;32m    192\u001b[0m \u001b[43m            \u001b[49m\u001b[38;5;124;43m\"\u001b[39;49m\u001b[38;5;124;43mweb_search_options\u001b[39;49m\u001b[38;5;124;43m\"\u001b[39;49m\u001b[43m:\u001b[49m\u001b[43m \u001b[49m\u001b[43mweb_search_options\u001b[49m\u001b[43m,\u001b[49m\n\u001b[1;32m    193\u001b[0m \u001b[43m        \u001b[49m\u001b[43m}\u001b[49m\u001b[43m,\u001b[49m\n\u001b[1;32m    194\u001b[0m \u001b[43m        \u001b[49m\u001b[43mcompletion_create_params\u001b[49m\u001b[38;5;241;43m.\u001b[39;49m\u001b[43mCompletionCreateParams\u001b[49m\u001b[43m,\u001b[49m\n\u001b[1;32m    195\u001b[0m \u001b[43m    \u001b[49m\u001b[43m)\u001b[49m\u001b[43m,\u001b[49m\n\u001b[1;32m    196\u001b[0m \u001b[43m    \u001b[49m\u001b[43moptions\u001b[49m\u001b[38;5;241;43m=\u001b[39;49m\u001b[43mmake_request_options\u001b[49m\u001b[43m(\u001b[49m\n\u001b[1;32m    197\u001b[0m \u001b[43m        \u001b[49m\u001b[43mextra_headers\u001b[49m\u001b[38;5;241;43m=\u001b[39;49m\u001b[43mextra_headers\u001b[49m\u001b[43m,\u001b[49m\n\u001b[1;32m    198\u001b[0m \u001b[43m        \u001b[49m\u001b[43mextra_query\u001b[49m\u001b[38;5;241;43m=\u001b[39;49m\u001b[43mextra_query\u001b[49m\u001b[43m,\u001b[49m\n\u001b[1;32m    199\u001b[0m \u001b[43m        \u001b[49m\u001b[43mextra_body\u001b[49m\u001b[38;5;241;43m=\u001b[39;49m\u001b[43mextra_body\u001b[49m\u001b[43m,\u001b[49m\n\u001b[1;32m    200\u001b[0m \u001b[43m        \u001b[49m\u001b[43mtimeout\u001b[49m\u001b[38;5;241;43m=\u001b[39;49m\u001b[43mtimeout\u001b[49m\u001b[43m,\u001b[49m\n\u001b[1;32m    201\u001b[0m \u001b[43m        \u001b[49m\u001b[43mpost_parser\u001b[49m\u001b[38;5;241;43m=\u001b[39;49m\u001b[43mparser\u001b[49m\u001b[43m,\u001b[49m\n\u001b[1;32m    202\u001b[0m \u001b[43m    \u001b[49m\u001b[43m)\u001b[49m\u001b[43m,\u001b[49m\n\u001b[1;32m    203\u001b[0m \u001b[43m    \u001b[49m\u001b[38;5;66;43;03m# we turn the `ChatCompletion` instance into a `ParsedChatCompletion`\u001b[39;49;00m\n\u001b[1;32m    204\u001b[0m \u001b[43m    \u001b[49m\u001b[38;5;66;43;03m# in the `parser` function above\u001b[39;49;00m\n\u001b[1;32m    205\u001b[0m \u001b[43m    \u001b[49m\u001b[43mcast_to\u001b[49m\u001b[38;5;241;43m=\u001b[39;49m\u001b[43mcast\u001b[49m\u001b[43m(\u001b[49m\u001b[43mType\u001b[49m\u001b[43m[\u001b[49m\u001b[43mParsedChatCompletion\u001b[49m\u001b[43m[\u001b[49m\u001b[43mResponseFormatT\u001b[49m\u001b[43m]\u001b[49m\u001b[43m]\u001b[49m\u001b[43m,\u001b[49m\u001b[43m \u001b[49m\u001b[43mChatCompletion\u001b[49m\u001b[43m)\u001b[49m\u001b[43m,\u001b[49m\n\u001b[1;32m    206\u001b[0m \u001b[43m    \u001b[49m\u001b[43mstream\u001b[49m\u001b[38;5;241;43m=\u001b[39;49m\u001b[38;5;28;43;01mFalse\u001b[39;49;00m\u001b[43m,\u001b[49m\n\u001b[1;32m    207\u001b[0m \u001b[43m\u001b[49m\u001b[43m)\u001b[49m\n",
      "File \u001b[0;32m/opt/conda/envs/llm_course/lib/python3.12/site-packages/openai/_base_client.py:1242\u001b[0m, in \u001b[0;36mSyncAPIClient.post\u001b[0;34m(self, path, cast_to, body, options, files, stream, stream_cls)\u001b[0m\n\u001b[1;32m   1228\u001b[0m \u001b[38;5;28;01mdef\u001b[39;00m \u001b[38;5;21mpost\u001b[39m(\n\u001b[1;32m   1229\u001b[0m     \u001b[38;5;28mself\u001b[39m,\n\u001b[1;32m   1230\u001b[0m     path: \u001b[38;5;28mstr\u001b[39m,\n\u001b[0;32m   (...)\u001b[0m\n\u001b[1;32m   1237\u001b[0m     stream_cls: \u001b[38;5;28mtype\u001b[39m[_StreamT] \u001b[38;5;241m|\u001b[39m \u001b[38;5;28;01mNone\u001b[39;00m \u001b[38;5;241m=\u001b[39m \u001b[38;5;28;01mNone\u001b[39;00m,\n\u001b[1;32m   1238\u001b[0m ) \u001b[38;5;241m-\u001b[39m\u001b[38;5;241m>\u001b[39m ResponseT \u001b[38;5;241m|\u001b[39m _StreamT:\n\u001b[1;32m   1239\u001b[0m     opts \u001b[38;5;241m=\u001b[39m FinalRequestOptions\u001b[38;5;241m.\u001b[39mconstruct(\n\u001b[1;32m   1240\u001b[0m         method\u001b[38;5;241m=\u001b[39m\u001b[38;5;124m\"\u001b[39m\u001b[38;5;124mpost\u001b[39m\u001b[38;5;124m\"\u001b[39m, url\u001b[38;5;241m=\u001b[39mpath, json_data\u001b[38;5;241m=\u001b[39mbody, files\u001b[38;5;241m=\u001b[39mto_httpx_files(files), \u001b[38;5;241m*\u001b[39m\u001b[38;5;241m*\u001b[39moptions\n\u001b[1;32m   1241\u001b[0m     )\n\u001b[0;32m-> 1242\u001b[0m     \u001b[38;5;28;01mreturn\u001b[39;00m cast(ResponseT, \u001b[38;5;28;43mself\u001b[39;49m\u001b[38;5;241;43m.\u001b[39;49m\u001b[43mrequest\u001b[49m\u001b[43m(\u001b[49m\u001b[43mcast_to\u001b[49m\u001b[43m,\u001b[49m\u001b[43m \u001b[49m\u001b[43mopts\u001b[49m\u001b[43m,\u001b[49m\u001b[43m \u001b[49m\u001b[43mstream\u001b[49m\u001b[38;5;241;43m=\u001b[39;49m\u001b[43mstream\u001b[49m\u001b[43m,\u001b[49m\u001b[43m \u001b[49m\u001b[43mstream_cls\u001b[49m\u001b[38;5;241;43m=\u001b[39;49m\u001b[43mstream_cls\u001b[49m\u001b[43m)\u001b[49m)\n",
      "File \u001b[0;32m/opt/conda/envs/llm_course/lib/python3.12/site-packages/openai/_base_client.py:972\u001b[0m, in \u001b[0;36mSyncAPIClient.request\u001b[0;34m(self, cast_to, options, stream, stream_cls)\u001b[0m\n\u001b[1;32m    970\u001b[0m response \u001b[38;5;241m=\u001b[39m \u001b[38;5;28;01mNone\u001b[39;00m\n\u001b[1;32m    971\u001b[0m \u001b[38;5;28;01mtry\u001b[39;00m:\n\u001b[0;32m--> 972\u001b[0m     response \u001b[38;5;241m=\u001b[39m \u001b[38;5;28;43mself\u001b[39;49m\u001b[38;5;241;43m.\u001b[39;49m\u001b[43m_client\u001b[49m\u001b[38;5;241;43m.\u001b[39;49m\u001b[43msend\u001b[49m\u001b[43m(\u001b[49m\n\u001b[1;32m    973\u001b[0m \u001b[43m        \u001b[49m\u001b[43mrequest\u001b[49m\u001b[43m,\u001b[49m\n\u001b[1;32m    974\u001b[0m \u001b[43m        \u001b[49m\u001b[43mstream\u001b[49m\u001b[38;5;241;43m=\u001b[39;49m\u001b[43mstream\u001b[49m\u001b[43m \u001b[49m\u001b[38;5;129;43;01mor\u001b[39;49;00m\u001b[43m \u001b[49m\u001b[38;5;28;43mself\u001b[39;49m\u001b[38;5;241;43m.\u001b[39;49m\u001b[43m_should_stream_response_body\u001b[49m\u001b[43m(\u001b[49m\u001b[43mrequest\u001b[49m\u001b[38;5;241;43m=\u001b[39;49m\u001b[43mrequest\u001b[49m\u001b[43m)\u001b[49m\u001b[43m,\u001b[49m\n\u001b[1;32m    975\u001b[0m \u001b[43m        \u001b[49m\u001b[38;5;241;43m*\u001b[39;49m\u001b[38;5;241;43m*\u001b[39;49m\u001b[43mkwargs\u001b[49m\u001b[43m,\u001b[49m\n\u001b[1;32m    976\u001b[0m \u001b[43m    \u001b[49m\u001b[43m)\u001b[49m\n\u001b[1;32m    977\u001b[0m \u001b[38;5;28;01mexcept\u001b[39;00m httpx\u001b[38;5;241m.\u001b[39mTimeoutException \u001b[38;5;28;01mas\u001b[39;00m err:\n\u001b[1;32m    978\u001b[0m     log\u001b[38;5;241m.\u001b[39mdebug(\u001b[38;5;124m\"\u001b[39m\u001b[38;5;124mEncountered httpx.TimeoutException\u001b[39m\u001b[38;5;124m\"\u001b[39m, exc_info\u001b[38;5;241m=\u001b[39m\u001b[38;5;28;01mTrue\u001b[39;00m)\n",
      "File \u001b[0;32m~/.local/lib/python3.12/site-packages/httpx/_client.py:914\u001b[0m, in \u001b[0;36mClient.send\u001b[0;34m(self, request, stream, auth, follow_redirects)\u001b[0m\n\u001b[1;32m    910\u001b[0m \u001b[38;5;28mself\u001b[39m\u001b[38;5;241m.\u001b[39m_set_timeout(request)\n\u001b[1;32m    912\u001b[0m auth \u001b[38;5;241m=\u001b[39m \u001b[38;5;28mself\u001b[39m\u001b[38;5;241m.\u001b[39m_build_request_auth(request, auth)\n\u001b[0;32m--> 914\u001b[0m response \u001b[38;5;241m=\u001b[39m \u001b[38;5;28;43mself\u001b[39;49m\u001b[38;5;241;43m.\u001b[39;49m\u001b[43m_send_handling_auth\u001b[49m\u001b[43m(\u001b[49m\n\u001b[1;32m    915\u001b[0m \u001b[43m    \u001b[49m\u001b[43mrequest\u001b[49m\u001b[43m,\u001b[49m\n\u001b[1;32m    916\u001b[0m \u001b[43m    \u001b[49m\u001b[43mauth\u001b[49m\u001b[38;5;241;43m=\u001b[39;49m\u001b[43mauth\u001b[49m\u001b[43m,\u001b[49m\n\u001b[1;32m    917\u001b[0m \u001b[43m    \u001b[49m\u001b[43mfollow_redirects\u001b[49m\u001b[38;5;241;43m=\u001b[39;49m\u001b[43mfollow_redirects\u001b[49m\u001b[43m,\u001b[49m\n\u001b[1;32m    918\u001b[0m \u001b[43m    \u001b[49m\u001b[43mhistory\u001b[49m\u001b[38;5;241;43m=\u001b[39;49m\u001b[43m[\u001b[49m\u001b[43m]\u001b[49m\u001b[43m,\u001b[49m\n\u001b[1;32m    919\u001b[0m \u001b[43m\u001b[49m\u001b[43m)\u001b[49m\n\u001b[1;32m    920\u001b[0m \u001b[38;5;28;01mtry\u001b[39;00m:\n\u001b[1;32m    921\u001b[0m     \u001b[38;5;28;01mif\u001b[39;00m \u001b[38;5;129;01mnot\u001b[39;00m stream:\n",
      "File \u001b[0;32m~/.local/lib/python3.12/site-packages/httpx/_client.py:942\u001b[0m, in \u001b[0;36mClient._send_handling_auth\u001b[0;34m(self, request, auth, follow_redirects, history)\u001b[0m\n\u001b[1;32m    939\u001b[0m request \u001b[38;5;241m=\u001b[39m \u001b[38;5;28mnext\u001b[39m(auth_flow)\n\u001b[1;32m    941\u001b[0m \u001b[38;5;28;01mwhile\u001b[39;00m \u001b[38;5;28;01mTrue\u001b[39;00m:\n\u001b[0;32m--> 942\u001b[0m     response \u001b[38;5;241m=\u001b[39m \u001b[38;5;28;43mself\u001b[39;49m\u001b[38;5;241;43m.\u001b[39;49m\u001b[43m_send_handling_redirects\u001b[49m\u001b[43m(\u001b[49m\n\u001b[1;32m    943\u001b[0m \u001b[43m        \u001b[49m\u001b[43mrequest\u001b[49m\u001b[43m,\u001b[49m\n\u001b[1;32m    944\u001b[0m \u001b[43m        \u001b[49m\u001b[43mfollow_redirects\u001b[49m\u001b[38;5;241;43m=\u001b[39;49m\u001b[43mfollow_redirects\u001b[49m\u001b[43m,\u001b[49m\n\u001b[1;32m    945\u001b[0m \u001b[43m        \u001b[49m\u001b[43mhistory\u001b[49m\u001b[38;5;241;43m=\u001b[39;49m\u001b[43mhistory\u001b[49m\u001b[43m,\u001b[49m\n\u001b[1;32m    946\u001b[0m \u001b[43m    \u001b[49m\u001b[43m)\u001b[49m\n\u001b[1;32m    947\u001b[0m     \u001b[38;5;28;01mtry\u001b[39;00m:\n\u001b[1;32m    948\u001b[0m         \u001b[38;5;28;01mtry\u001b[39;00m:\n",
      "File \u001b[0;32m~/.local/lib/python3.12/site-packages/httpx/_client.py:979\u001b[0m, in \u001b[0;36mClient._send_handling_redirects\u001b[0;34m(self, request, follow_redirects, history)\u001b[0m\n\u001b[1;32m    976\u001b[0m \u001b[38;5;28;01mfor\u001b[39;00m hook \u001b[38;5;129;01min\u001b[39;00m \u001b[38;5;28mself\u001b[39m\u001b[38;5;241m.\u001b[39m_event_hooks[\u001b[38;5;124m\"\u001b[39m\u001b[38;5;124mrequest\u001b[39m\u001b[38;5;124m\"\u001b[39m]:\n\u001b[1;32m    977\u001b[0m     hook(request)\n\u001b[0;32m--> 979\u001b[0m response \u001b[38;5;241m=\u001b[39m \u001b[38;5;28;43mself\u001b[39;49m\u001b[38;5;241;43m.\u001b[39;49m\u001b[43m_send_single_request\u001b[49m\u001b[43m(\u001b[49m\u001b[43mrequest\u001b[49m\u001b[43m)\u001b[49m\n\u001b[1;32m    980\u001b[0m \u001b[38;5;28;01mtry\u001b[39;00m:\n\u001b[1;32m    981\u001b[0m     \u001b[38;5;28;01mfor\u001b[39;00m hook \u001b[38;5;129;01min\u001b[39;00m \u001b[38;5;28mself\u001b[39m\u001b[38;5;241m.\u001b[39m_event_hooks[\u001b[38;5;124m\"\u001b[39m\u001b[38;5;124mresponse\u001b[39m\u001b[38;5;124m\"\u001b[39m]:\n",
      "File \u001b[0;32m~/.local/lib/python3.12/site-packages/httpx/_client.py:1014\u001b[0m, in \u001b[0;36mClient._send_single_request\u001b[0;34m(self, request)\u001b[0m\n\u001b[1;32m   1009\u001b[0m     \u001b[38;5;28;01mraise\u001b[39;00m \u001b[38;5;167;01mRuntimeError\u001b[39;00m(\n\u001b[1;32m   1010\u001b[0m         \u001b[38;5;124m\"\u001b[39m\u001b[38;5;124mAttempted to send an async request with a sync Client instance.\u001b[39m\u001b[38;5;124m\"\u001b[39m\n\u001b[1;32m   1011\u001b[0m     )\n\u001b[1;32m   1013\u001b[0m \u001b[38;5;28;01mwith\u001b[39;00m request_context(request\u001b[38;5;241m=\u001b[39mrequest):\n\u001b[0;32m-> 1014\u001b[0m     response \u001b[38;5;241m=\u001b[39m \u001b[43mtransport\u001b[49m\u001b[38;5;241;43m.\u001b[39;49m\u001b[43mhandle_request\u001b[49m\u001b[43m(\u001b[49m\u001b[43mrequest\u001b[49m\u001b[43m)\u001b[49m\n\u001b[1;32m   1016\u001b[0m \u001b[38;5;28;01massert\u001b[39;00m \u001b[38;5;28misinstance\u001b[39m(response\u001b[38;5;241m.\u001b[39mstream, SyncByteStream)\n\u001b[1;32m   1018\u001b[0m response\u001b[38;5;241m.\u001b[39mrequest \u001b[38;5;241m=\u001b[39m request\n",
      "File \u001b[0;32m~/.local/lib/python3.12/site-packages/httpx/_transports/default.py:250\u001b[0m, in \u001b[0;36mHTTPTransport.handle_request\u001b[0;34m(self, request)\u001b[0m\n\u001b[1;32m    237\u001b[0m req \u001b[38;5;241m=\u001b[39m httpcore\u001b[38;5;241m.\u001b[39mRequest(\n\u001b[1;32m    238\u001b[0m     method\u001b[38;5;241m=\u001b[39mrequest\u001b[38;5;241m.\u001b[39mmethod,\n\u001b[1;32m    239\u001b[0m     url\u001b[38;5;241m=\u001b[39mhttpcore\u001b[38;5;241m.\u001b[39mURL(\n\u001b[0;32m   (...)\u001b[0m\n\u001b[1;32m    247\u001b[0m     extensions\u001b[38;5;241m=\u001b[39mrequest\u001b[38;5;241m.\u001b[39mextensions,\n\u001b[1;32m    248\u001b[0m )\n\u001b[1;32m    249\u001b[0m \u001b[38;5;28;01mwith\u001b[39;00m map_httpcore_exceptions():\n\u001b[0;32m--> 250\u001b[0m     resp \u001b[38;5;241m=\u001b[39m \u001b[38;5;28;43mself\u001b[39;49m\u001b[38;5;241;43m.\u001b[39;49m\u001b[43m_pool\u001b[49m\u001b[38;5;241;43m.\u001b[39;49m\u001b[43mhandle_request\u001b[49m\u001b[43m(\u001b[49m\u001b[43mreq\u001b[49m\u001b[43m)\u001b[49m\n\u001b[1;32m    252\u001b[0m \u001b[38;5;28;01massert\u001b[39;00m \u001b[38;5;28misinstance\u001b[39m(resp\u001b[38;5;241m.\u001b[39mstream, typing\u001b[38;5;241m.\u001b[39mIterable)\n\u001b[1;32m    254\u001b[0m \u001b[38;5;28;01mreturn\u001b[39;00m Response(\n\u001b[1;32m    255\u001b[0m     status_code\u001b[38;5;241m=\u001b[39mresp\u001b[38;5;241m.\u001b[39mstatus,\n\u001b[1;32m    256\u001b[0m     headers\u001b[38;5;241m=\u001b[39mresp\u001b[38;5;241m.\u001b[39mheaders,\n\u001b[1;32m    257\u001b[0m     stream\u001b[38;5;241m=\u001b[39mResponseStream(resp\u001b[38;5;241m.\u001b[39mstream),\n\u001b[1;32m    258\u001b[0m     extensions\u001b[38;5;241m=\u001b[39mresp\u001b[38;5;241m.\u001b[39mextensions,\n\u001b[1;32m    259\u001b[0m )\n",
      "File \u001b[0;32m~/.local/lib/python3.12/site-packages/httpcore/_sync/connection_pool.py:256\u001b[0m, in \u001b[0;36mConnectionPool.handle_request\u001b[0;34m(self, request)\u001b[0m\n\u001b[1;32m    253\u001b[0m         closing \u001b[38;5;241m=\u001b[39m \u001b[38;5;28mself\u001b[39m\u001b[38;5;241m.\u001b[39m_assign_requests_to_connections()\n\u001b[1;32m    255\u001b[0m     \u001b[38;5;28mself\u001b[39m\u001b[38;5;241m.\u001b[39m_close_connections(closing)\n\u001b[0;32m--> 256\u001b[0m     \u001b[38;5;28;01mraise\u001b[39;00m exc \u001b[38;5;28;01mfrom\u001b[39;00m \u001b[38;5;28;01mNone\u001b[39;00m\n\u001b[1;32m    258\u001b[0m \u001b[38;5;66;03m# Return the response. Note that in this case we still have to manage\u001b[39;00m\n\u001b[1;32m    259\u001b[0m \u001b[38;5;66;03m# the point at which the response is closed.\u001b[39;00m\n\u001b[1;32m    260\u001b[0m \u001b[38;5;28;01massert\u001b[39;00m \u001b[38;5;28misinstance\u001b[39m(response\u001b[38;5;241m.\u001b[39mstream, typing\u001b[38;5;241m.\u001b[39mIterable)\n",
      "File \u001b[0;32m~/.local/lib/python3.12/site-packages/httpcore/_sync/connection_pool.py:236\u001b[0m, in \u001b[0;36mConnectionPool.handle_request\u001b[0;34m(self, request)\u001b[0m\n\u001b[1;32m    232\u001b[0m connection \u001b[38;5;241m=\u001b[39m pool_request\u001b[38;5;241m.\u001b[39mwait_for_connection(timeout\u001b[38;5;241m=\u001b[39mtimeout)\n\u001b[1;32m    234\u001b[0m \u001b[38;5;28;01mtry\u001b[39;00m:\n\u001b[1;32m    235\u001b[0m     \u001b[38;5;66;03m# Send the request on the assigned connection.\u001b[39;00m\n\u001b[0;32m--> 236\u001b[0m     response \u001b[38;5;241m=\u001b[39m \u001b[43mconnection\u001b[49m\u001b[38;5;241;43m.\u001b[39;49m\u001b[43mhandle_request\u001b[49m\u001b[43m(\u001b[49m\n\u001b[1;32m    237\u001b[0m \u001b[43m        \u001b[49m\u001b[43mpool_request\u001b[49m\u001b[38;5;241;43m.\u001b[39;49m\u001b[43mrequest\u001b[49m\n\u001b[1;32m    238\u001b[0m \u001b[43m    \u001b[49m\u001b[43m)\u001b[49m\n\u001b[1;32m    239\u001b[0m \u001b[38;5;28;01mexcept\u001b[39;00m ConnectionNotAvailable:\n\u001b[1;32m    240\u001b[0m     \u001b[38;5;66;03m# In some cases a connection may initially be available to\u001b[39;00m\n\u001b[1;32m    241\u001b[0m     \u001b[38;5;66;03m# handle a request, but then become unavailable.\u001b[39;00m\n\u001b[1;32m    242\u001b[0m     \u001b[38;5;66;03m#\u001b[39;00m\n\u001b[1;32m    243\u001b[0m     \u001b[38;5;66;03m# In this case we clear the connection and try again.\u001b[39;00m\n\u001b[1;32m    244\u001b[0m     pool_request\u001b[38;5;241m.\u001b[39mclear_connection()\n",
      "File \u001b[0;32m~/.local/lib/python3.12/site-packages/httpcore/_sync/connection.py:103\u001b[0m, in \u001b[0;36mHTTPConnection.handle_request\u001b[0;34m(self, request)\u001b[0m\n\u001b[1;32m    100\u001b[0m     \u001b[38;5;28mself\u001b[39m\u001b[38;5;241m.\u001b[39m_connect_failed \u001b[38;5;241m=\u001b[39m \u001b[38;5;28;01mTrue\u001b[39;00m\n\u001b[1;32m    101\u001b[0m     \u001b[38;5;28;01mraise\u001b[39;00m exc\n\u001b[0;32m--> 103\u001b[0m \u001b[38;5;28;01mreturn\u001b[39;00m \u001b[38;5;28;43mself\u001b[39;49m\u001b[38;5;241;43m.\u001b[39;49m\u001b[43m_connection\u001b[49m\u001b[38;5;241;43m.\u001b[39;49m\u001b[43mhandle_request\u001b[49m\u001b[43m(\u001b[49m\u001b[43mrequest\u001b[49m\u001b[43m)\u001b[49m\n",
      "File \u001b[0;32m~/.local/lib/python3.12/site-packages/httpcore/_sync/http11.py:136\u001b[0m, in \u001b[0;36mHTTP11Connection.handle_request\u001b[0;34m(self, request)\u001b[0m\n\u001b[1;32m    134\u001b[0m     \u001b[38;5;28;01mwith\u001b[39;00m Trace(\u001b[38;5;124m\"\u001b[39m\u001b[38;5;124mresponse_closed\u001b[39m\u001b[38;5;124m\"\u001b[39m, logger, request) \u001b[38;5;28;01mas\u001b[39;00m trace:\n\u001b[1;32m    135\u001b[0m         \u001b[38;5;28mself\u001b[39m\u001b[38;5;241m.\u001b[39m_response_closed()\n\u001b[0;32m--> 136\u001b[0m \u001b[38;5;28;01mraise\u001b[39;00m exc\n",
      "File \u001b[0;32m~/.local/lib/python3.12/site-packages/httpcore/_sync/http11.py:106\u001b[0m, in \u001b[0;36mHTTP11Connection.handle_request\u001b[0;34m(self, request)\u001b[0m\n\u001b[1;32m     95\u001b[0m     \u001b[38;5;28;01mpass\u001b[39;00m\n\u001b[1;32m     97\u001b[0m \u001b[38;5;28;01mwith\u001b[39;00m Trace(\n\u001b[1;32m     98\u001b[0m     \u001b[38;5;124m\"\u001b[39m\u001b[38;5;124mreceive_response_headers\u001b[39m\u001b[38;5;124m\"\u001b[39m, logger, request, kwargs\n\u001b[1;32m     99\u001b[0m ) \u001b[38;5;28;01mas\u001b[39;00m trace:\n\u001b[1;32m    100\u001b[0m     (\n\u001b[1;32m    101\u001b[0m         http_version,\n\u001b[1;32m    102\u001b[0m         status,\n\u001b[1;32m    103\u001b[0m         reason_phrase,\n\u001b[1;32m    104\u001b[0m         headers,\n\u001b[1;32m    105\u001b[0m         trailing_data,\n\u001b[0;32m--> 106\u001b[0m     ) \u001b[38;5;241m=\u001b[39m \u001b[38;5;28;43mself\u001b[39;49m\u001b[38;5;241;43m.\u001b[39;49m\u001b[43m_receive_response_headers\u001b[49m\u001b[43m(\u001b[49m\u001b[38;5;241;43m*\u001b[39;49m\u001b[38;5;241;43m*\u001b[39;49m\u001b[43mkwargs\u001b[49m\u001b[43m)\u001b[49m\n\u001b[1;32m    107\u001b[0m     trace\u001b[38;5;241m.\u001b[39mreturn_value \u001b[38;5;241m=\u001b[39m (\n\u001b[1;32m    108\u001b[0m         http_version,\n\u001b[1;32m    109\u001b[0m         status,\n\u001b[1;32m    110\u001b[0m         reason_phrase,\n\u001b[1;32m    111\u001b[0m         headers,\n\u001b[1;32m    112\u001b[0m     )\n\u001b[1;32m    114\u001b[0m network_stream \u001b[38;5;241m=\u001b[39m \u001b[38;5;28mself\u001b[39m\u001b[38;5;241m.\u001b[39m_network_stream\n",
      "File \u001b[0;32m~/.local/lib/python3.12/site-packages/httpcore/_sync/http11.py:177\u001b[0m, in \u001b[0;36mHTTP11Connection._receive_response_headers\u001b[0;34m(self, request)\u001b[0m\n\u001b[1;32m    174\u001b[0m timeout \u001b[38;5;241m=\u001b[39m timeouts\u001b[38;5;241m.\u001b[39mget(\u001b[38;5;124m\"\u001b[39m\u001b[38;5;124mread\u001b[39m\u001b[38;5;124m\"\u001b[39m, \u001b[38;5;28;01mNone\u001b[39;00m)\n\u001b[1;32m    176\u001b[0m \u001b[38;5;28;01mwhile\u001b[39;00m \u001b[38;5;28;01mTrue\u001b[39;00m:\n\u001b[0;32m--> 177\u001b[0m     event \u001b[38;5;241m=\u001b[39m \u001b[38;5;28;43mself\u001b[39;49m\u001b[38;5;241;43m.\u001b[39;49m\u001b[43m_receive_event\u001b[49m\u001b[43m(\u001b[49m\u001b[43mtimeout\u001b[49m\u001b[38;5;241;43m=\u001b[39;49m\u001b[43mtimeout\u001b[49m\u001b[43m)\u001b[49m\n\u001b[1;32m    178\u001b[0m     \u001b[38;5;28;01mif\u001b[39;00m \u001b[38;5;28misinstance\u001b[39m(event, h11\u001b[38;5;241m.\u001b[39mResponse):\n\u001b[1;32m    179\u001b[0m         \u001b[38;5;28;01mbreak\u001b[39;00m\n",
      "File \u001b[0;32m~/.local/lib/python3.12/site-packages/httpcore/_sync/http11.py:217\u001b[0m, in \u001b[0;36mHTTP11Connection._receive_event\u001b[0;34m(self, timeout)\u001b[0m\n\u001b[1;32m    214\u001b[0m     event \u001b[38;5;241m=\u001b[39m \u001b[38;5;28mself\u001b[39m\u001b[38;5;241m.\u001b[39m_h11_state\u001b[38;5;241m.\u001b[39mnext_event()\n\u001b[1;32m    216\u001b[0m \u001b[38;5;28;01mif\u001b[39;00m event \u001b[38;5;129;01mis\u001b[39;00m h11\u001b[38;5;241m.\u001b[39mNEED_DATA:\n\u001b[0;32m--> 217\u001b[0m     data \u001b[38;5;241m=\u001b[39m \u001b[38;5;28;43mself\u001b[39;49m\u001b[38;5;241;43m.\u001b[39;49m\u001b[43m_network_stream\u001b[49m\u001b[38;5;241;43m.\u001b[39;49m\u001b[43mread\u001b[49m\u001b[43m(\u001b[49m\n\u001b[1;32m    218\u001b[0m \u001b[43m        \u001b[49m\u001b[38;5;28;43mself\u001b[39;49m\u001b[38;5;241;43m.\u001b[39;49m\u001b[43mREAD_NUM_BYTES\u001b[49m\u001b[43m,\u001b[49m\u001b[43m \u001b[49m\u001b[43mtimeout\u001b[49m\u001b[38;5;241;43m=\u001b[39;49m\u001b[43mtimeout\u001b[49m\n\u001b[1;32m    219\u001b[0m \u001b[43m    \u001b[49m\u001b[43m)\u001b[49m\n\u001b[1;32m    221\u001b[0m     \u001b[38;5;66;03m# If we feed this case through h11 we'll raise an exception like:\u001b[39;00m\n\u001b[1;32m    222\u001b[0m     \u001b[38;5;66;03m#\u001b[39;00m\n\u001b[1;32m    223\u001b[0m     \u001b[38;5;66;03m#     httpcore.RemoteProtocolError: can't handle event type\u001b[39;00m\n\u001b[0;32m   (...)\u001b[0m\n\u001b[1;32m    227\u001b[0m     \u001b[38;5;66;03m# perspective. Instead we handle this case distinctly and treat\u001b[39;00m\n\u001b[1;32m    228\u001b[0m     \u001b[38;5;66;03m# it as a ConnectError.\u001b[39;00m\n\u001b[1;32m    229\u001b[0m     \u001b[38;5;28;01mif\u001b[39;00m data \u001b[38;5;241m==\u001b[39m \u001b[38;5;124mb\u001b[39m\u001b[38;5;124m\"\u001b[39m\u001b[38;5;124m\"\u001b[39m \u001b[38;5;129;01mand\u001b[39;00m \u001b[38;5;28mself\u001b[39m\u001b[38;5;241m.\u001b[39m_h11_state\u001b[38;5;241m.\u001b[39mtheir_state \u001b[38;5;241m==\u001b[39m h11\u001b[38;5;241m.\u001b[39mSEND_RESPONSE:\n",
      "File \u001b[0;32m~/.local/lib/python3.12/site-packages/httpcore/_backends/sync.py:128\u001b[0m, in \u001b[0;36mSyncStream.read\u001b[0;34m(self, max_bytes, timeout)\u001b[0m\n\u001b[1;32m    126\u001b[0m \u001b[38;5;28;01mwith\u001b[39;00m map_exceptions(exc_map):\n\u001b[1;32m    127\u001b[0m     \u001b[38;5;28mself\u001b[39m\u001b[38;5;241m.\u001b[39m_sock\u001b[38;5;241m.\u001b[39msettimeout(timeout)\n\u001b[0;32m--> 128\u001b[0m     \u001b[38;5;28;01mreturn\u001b[39;00m \u001b[38;5;28;43mself\u001b[39;49m\u001b[38;5;241;43m.\u001b[39;49m\u001b[43m_sock\u001b[49m\u001b[38;5;241;43m.\u001b[39;49m\u001b[43mrecv\u001b[49m\u001b[43m(\u001b[49m\u001b[43mmax_bytes\u001b[49m\u001b[43m)\u001b[49m\n",
      "File \u001b[0;32m/opt/conda/envs/llm_course/lib/python3.12/ssl.py:1232\u001b[0m, in \u001b[0;36mSSLSocket.recv\u001b[0;34m(self, buflen, flags)\u001b[0m\n\u001b[1;32m   1228\u001b[0m     \u001b[38;5;28;01mif\u001b[39;00m flags \u001b[38;5;241m!=\u001b[39m \u001b[38;5;241m0\u001b[39m:\n\u001b[1;32m   1229\u001b[0m         \u001b[38;5;28;01mraise\u001b[39;00m \u001b[38;5;167;01mValueError\u001b[39;00m(\n\u001b[1;32m   1230\u001b[0m             \u001b[38;5;124m\"\u001b[39m\u001b[38;5;124mnon-zero flags not allowed in calls to recv() on \u001b[39m\u001b[38;5;132;01m%s\u001b[39;00m\u001b[38;5;124m\"\u001b[39m \u001b[38;5;241m%\u001b[39m\n\u001b[1;32m   1231\u001b[0m             \u001b[38;5;28mself\u001b[39m\u001b[38;5;241m.\u001b[39m\u001b[38;5;18m__class__\u001b[39m)\n\u001b[0;32m-> 1232\u001b[0m     \u001b[38;5;28;01mreturn\u001b[39;00m \u001b[38;5;28;43mself\u001b[39;49m\u001b[38;5;241;43m.\u001b[39;49m\u001b[43mread\u001b[49m\u001b[43m(\u001b[49m\u001b[43mbuflen\u001b[49m\u001b[43m)\u001b[49m\n\u001b[1;32m   1233\u001b[0m \u001b[38;5;28;01melse\u001b[39;00m:\n\u001b[1;32m   1234\u001b[0m     \u001b[38;5;28;01mreturn\u001b[39;00m \u001b[38;5;28msuper\u001b[39m()\u001b[38;5;241m.\u001b[39mrecv(buflen, flags)\n",
      "File \u001b[0;32m/opt/conda/envs/llm_course/lib/python3.12/ssl.py:1105\u001b[0m, in \u001b[0;36mSSLSocket.read\u001b[0;34m(self, len, buffer)\u001b[0m\n\u001b[1;32m   1103\u001b[0m         \u001b[38;5;28;01mreturn\u001b[39;00m \u001b[38;5;28mself\u001b[39m\u001b[38;5;241m.\u001b[39m_sslobj\u001b[38;5;241m.\u001b[39mread(\u001b[38;5;28mlen\u001b[39m, buffer)\n\u001b[1;32m   1104\u001b[0m     \u001b[38;5;28;01melse\u001b[39;00m:\n\u001b[0;32m-> 1105\u001b[0m         \u001b[38;5;28;01mreturn\u001b[39;00m \u001b[38;5;28;43mself\u001b[39;49m\u001b[38;5;241;43m.\u001b[39;49m\u001b[43m_sslobj\u001b[49m\u001b[38;5;241;43m.\u001b[39;49m\u001b[43mread\u001b[49m\u001b[43m(\u001b[49m\u001b[38;5;28;43mlen\u001b[39;49m\u001b[43m)\u001b[49m\n\u001b[1;32m   1106\u001b[0m \u001b[38;5;28;01mexcept\u001b[39;00m SSLError \u001b[38;5;28;01mas\u001b[39;00m x:\n\u001b[1;32m   1107\u001b[0m     \u001b[38;5;28;01mif\u001b[39;00m x\u001b[38;5;241m.\u001b[39margs[\u001b[38;5;241m0\u001b[39m] \u001b[38;5;241m==\u001b[39m SSL_ERROR_EOF \u001b[38;5;129;01mand\u001b[39;00m \u001b[38;5;28mself\u001b[39m\u001b[38;5;241m.\u001b[39msuppress_ragged_eofs:\n",
      "\u001b[0;31mKeyboardInterrupt\u001b[0m: "
     ]
    }
   ],
   "source": [
    "# Now do the same for all of the contexts\n",
    "from tqdm import tqdm\n",
    "\n",
    "def extract_knowledge_structured(passage: str) -> (List[str], List[dict]):\n",
    "    \"\"\"\n",
    "    Implements the two-step HippoRAG extraction process using a system/user prompt structure.\n",
    "    \"\"\"\n",
    "    try:\n",
    "        ner_response = ner_chain.invoke({\"passage\": passage})\n",
    "        entities = ner_response.named_entities\n",
    "        # print(f\"  -> Extracted Entities: {entities}\")\n",
    "    except Exception as e:\n",
    "        print(f\"  -> Error during structured NER extraction: {e}\")\n",
    "        return [], []\n",
    "\n",
    "    if not entities:\n",
    "        print(\"  -> No entities found, skipping triple extraction.\")\n",
    "        return [], []\n",
    "\n",
    "    try:\n",
    "        entities_str = json.dumps(entities, ensure_ascii=False)\n",
    "        openie_response = openie_chain.invoke({\"passage\": passage, \"entities\": entities_str})\n",
    "        triples = [triple.model_dump() for triple in openie_response.triples]\n",
    "        # print(f\"  -> Extracted Triples: {triples}\")\n",
    "        return entities, triples\n",
    "    except Exception as e:\n",
    "        print(f\"  -> Error during structured OpenIE extraction: {e}\")\n",
    "        return entities, []\n",
    "    \n",
    "    \n",
    "\n",
    "knowledge_graph_data = []\n",
    "\n",
    "print(\"Starting Knowledge Graph Extraction (HippoRAG Paper Examples)\")\n",
    "\n",
    "i = 0\n",
    "for context_passage in tqdm(all_context):\n",
    "    extracted_entities, extracted_triples = extract_knowledge_structured(context_passage)\n",
    "\n",
    "    if extracted_triples:\n",
    "        knowledge_graph_data.append({\n",
    "            \"id\": i,\n",
    "            \"passage\": context_passage,\n",
    "            \"entities\": extracted_entities,\n",
    "            \"triples\": extracted_triples\n",
    "        })\n",
    "        \n",
    "    i += 1\n",
    "    print(\"-\" * 20)"
   ]
  },
  {
   "cell_type": "code",
   "execution_count": 27,
   "id": "ceb04ac9",
   "metadata": {},
   "outputs": [
    {
     "name": "stdout",
     "output_type": "stream",
     "text": [
      "Starting Knowledge Graph Extraction (HippoRAG Paper Examples)\n"
     ]
    },
    {
     "name": "stderr",
     "output_type": "stream",
     "text": [
      "100%|██████████| 102/102 [14:39<00:00,  8.62s/it]\n"
     ]
    }
   ],
   "source": [
    "\n",
    "def extract_knowledge_structured(passage: str) -> (List[str], List[dict]):\n",
    "    \"\"\"\n",
    "    Implements the two-step HippoRAG extraction process using a system/user prompt structure.\n",
    "    \"\"\"\n",
    "    try:\n",
    "        ner_response = ner_chain.invoke({\"passage\": passage})\n",
    "        entities = ner_response.named_entities\n",
    "        # print(f\"  -> Extracted Entities: {entities}\")\n",
    "    except Exception as e:\n",
    "        print(f\"  -> Error during structured NER extraction: {e}\")\n",
    "        return [], []\n",
    "\n",
    "    if not entities:\n",
    "        print(\"  -> No entities found, skipping triple extraction.\")\n",
    "        return [], []\n",
    "\n",
    "    try:\n",
    "        entities_str = json.dumps(entities, ensure_ascii=False)\n",
    "        openie_response = openie_chain.invoke({\"passage\": passage, \"entities\": entities_str})\n",
    "        triples = [triple.model_dump() for triple in openie_response.triples]\n",
    "        # print(f\"  -> Extracted Triples: {triples}\")\n",
    "        return entities, triples\n",
    "    except Exception as e:\n",
    "        print(f\"  -> Error during structured OpenIE extraction: {e}\")\n",
    "        return entities, []\n",
    "    \n",
    "    \n",
    "\n",
    "# knowledge_graph_data = []\n",
    "\n",
    "print(\"Starting Knowledge Graph Extraction (HippoRAG Paper Examples)\")\n",
    "\n",
    "i = 0\n",
    "for context_passage in tqdm(all_context[len(knowledge_graph_data):]):\n",
    "    extracted_entities, extracted_triples = extract_knowledge_structured(context_passage)\n",
    "\n",
    "    if extracted_triples:\n",
    "        knowledge_graph_data.append({\n",
    "            \"id\": i,\n",
    "            \"passage\": context_passage,\n",
    "            \"entities\": extracted_entities,\n",
    "            \"triples\": extracted_triples\n",
    "        })\n",
    "        \n",
    "    i += 1\n",
    "    # print(\"-\" * 20)"
   ]
  },
  {
   "cell_type": "code",
   "execution_count": 34,
   "id": "cdf0ed5b",
   "metadata": {},
   "outputs": [],
   "source": [
    "# save the knowledge graph data to a json file\n",
    "with open('knowledge_graph_triples_structured.json', 'w', encoding='utf-8') as f:\n",
    "    json.dump(knowledge_graph_data, f, ensure_ascii=False, indent=4)"
   ]
  },
  {
   "cell_type": "markdown",
   "id": "edc4f40e",
   "metadata": {},
   "source": [
    "# Check prepared data"
   ]
  },
  {
   "cell_type": "code",
   "execution_count": null,
   "id": "5c921680",
   "metadata": {},
   "outputs": [],
   "source": [
    "import pandas as pd\n",
    "import igraph as ig\n",
    "import json\n",
    "from collections import defaultdict"
   ]
  },
  {
   "cell_type": "code",
   "execution_count": 12,
   "id": "2975b441",
   "metadata": {},
   "outputs": [
    {
     "data": {
      "text/html": [
       "<div>\n",
       "<style scoped>\n",
       "    .dataframe tbody tr th:only-of-type {\n",
       "        vertical-align: middle;\n",
       "    }\n",
       "\n",
       "    .dataframe tbody tr th {\n",
       "        vertical-align: top;\n",
       "    }\n",
       "\n",
       "    .dataframe thead th {\n",
       "        text-align: right;\n",
       "    }\n",
       "</style>\n",
       "<table border=\"1\" class=\"dataframe\">\n",
       "  <thead>\n",
       "    <tr style=\"text-align: right;\">\n",
       "      <th></th>\n",
       "      <th>passage</th>\n",
       "      <th>entities</th>\n",
       "      <th>triples</th>\n",
       "    </tr>\n",
       "  </thead>\n",
       "  <tbody>\n",
       "    <tr>\n",
       "      <th>0</th>\n",
       "      <td>آفریقای جنوبی با نام رسمی جمهوری آفریقای جنوبی...</td>\n",
       "      <td>[آفریقای جنوبی, جمهوری آفریقای جنوبی, جنوب آفر...</td>\n",
       "      <td>[{'subject': 'آفریقای جنوبی', 'predicate': 'ha...</td>\n",
       "    </tr>\n",
       "    <tr>\n",
       "      <th>1</th>\n",
       "      <td>مانجاری فاندیس مدل و هنرپیشه اهل هند است.\\nمان...</td>\n",
       "      <td>[مانجاری فاندیس, هند, ۲۰۰۸, سریال اگه بدونی یا...</td>\n",
       "      <td>[{'subject': 'مانجاری فاندیس', 'predicate': 'i...</td>\n",
       "    </tr>\n",
       "    <tr>\n",
       "      <th>2</th>\n",
       "      <td>لوک اسکای‌واکر شخصیتی تخیلی و قهرمان داستان در...</td>\n",
       "      <td>[لوک اسکای‌واکر, جرج لوکاس, مارک همیل, جنگ ستا...</td>\n",
       "      <td>[{'subject': 'لوک اسکای‌واکر', 'predicate': 'i...</td>\n",
       "    </tr>\n",
       "    <tr>\n",
       "      <th>3</th>\n",
       "      <td>مارشال‌های آمریکایی فیلمی محصول سال ۱۹۹۸ آمریک...</td>\n",
       "      <td>[مارشال‌های آمریکایی, ۱۹۹۸, آمریکا, استوارت بر...</td>\n",
       "      <td>[{'subject': 'مارشال‌های آمریکایی', 'predicate...</td>\n",
       "    </tr>\n",
       "    <tr>\n",
       "      <th>4</th>\n",
       "      <td>کیران دسای (Kiran Desai) (زاده ۳ سپتامبر ۱۹۷۱)...</td>\n",
       "      <td>[کیران دسای, Kiran Desai, ۳ سپتامبر ۱۹۷۱, هند,...</td>\n",
       "      <td>[{'subject': 'کیران دسای', 'predicate': 'is', ...</td>\n",
       "    </tr>\n",
       "  </tbody>\n",
       "</table>\n",
       "</div>"
      ],
      "text/plain": [
       "                                             passage  \\\n",
       "0  آفریقای جنوبی با نام رسمی جمهوری آفریقای جنوبی...   \n",
       "1  مانجاری فاندیس مدل و هنرپیشه اهل هند است.\\nمان...   \n",
       "2  لوک اسکای‌واکر شخصیتی تخیلی و قهرمان داستان در...   \n",
       "3  مارشال‌های آمریکایی فیلمی محصول سال ۱۹۹۸ آمریک...   \n",
       "4  کیران دسای (Kiran Desai) (زاده ۳ سپتامبر ۱۹۷۱)...   \n",
       "\n",
       "                                            entities  \\\n",
       "0  [آفریقای جنوبی, جمهوری آفریقای جنوبی, جنوب آفر...   \n",
       "1  [مانجاری فاندیس, هند, ۲۰۰۸, سریال اگه بدونی یا...   \n",
       "2  [لوک اسکای‌واکر, جرج لوکاس, مارک همیل, جنگ ستا...   \n",
       "3  [مارشال‌های آمریکایی, ۱۹۹۸, آمریکا, استوارت بر...   \n",
       "4  [کیران دسای, Kiran Desai, ۳ سپتامبر ۱۹۷۱, هند,...   \n",
       "\n",
       "                                             triples  \n",
       "0  [{'subject': 'آفریقای جنوبی', 'predicate': 'ha...  \n",
       "1  [{'subject': 'مانجاری فاندیس', 'predicate': 'i...  \n",
       "2  [{'subject': 'لوک اسکای‌واکر', 'predicate': 'i...  \n",
       "3  [{'subject': 'مارشال‌های آمریکایی', 'predicate...  \n",
       "4  [{'subject': 'کیران دسای', 'predicate': 'is', ...  "
      ]
     },
     "execution_count": 12,
     "metadata": {},
     "output_type": "execute_result"
    }
   ],
   "source": [
    "with open('knowledge_graph_triples_structured.json', 'r', encoding='utf-8') as f:\n",
    "    knowledge_graph_data = json.load(f)\n",
    "df_kg = pd.DataFrame(knowledge_graph_data).drop(columns=['id'])\n",
    "df_kg.head()"
   ]
  },
  {
   "cell_type": "code",
   "execution_count": 15,
   "id": "8b2e2613",
   "metadata": {},
   "outputs": [
    {
     "name": "stdout",
     "output_type": "stream",
     "text": [
      "Total unique named entities: 3589\n",
      "Total unique triples: 5694\n"
     ]
    }
   ],
   "source": [
    "all_named_entities = set()\n",
    "all_triples = []\n",
    "for entity_list in df_kg['entities']:\n",
    "    all_named_entities.update(entity_list)\n",
    "    \n",
    "for triples in df_kg['triples']:\n",
    "    for triple in triples:\n",
    "        all_triples.append((triple['subject'], triple['predicate'], triple['object']))\n",
    "    \n",
    "print(f\"Total unique named entities: {len(all_named_entities)}\")\n",
    "print(f\"Total unique triples: {len(all_triples)}\")"
   ]
  },
  {
   "cell_type": "code",
   "execution_count": 16,
   "id": "29cc50a0",
   "metadata": {},
   "outputs": [
    {
     "data": {
      "text/plain": [
       "{'۱۸ ژانویه ۲۰۲۲',\n",
       " 'جان کارمک',\n",
       " 'دهه ۵۰ میلادی',\n",
       " 'تیم ملی فوتبال فرانسه',\n",
       " 'روسیه تزاری',\n",
       " 'پنگوئن',\n",
       " '۲۲ اکتبر ۱۷۲۱',\n",
       " 'اد هلمز',\n",
       " 'پویانمایی آمریکایی',\n",
       " 'آیفون ۶اس',\n",
       " 'Yoshitoshi ABe',\n",
       " 'بهترین زمان',\n",
       " '۱۴۰۰ نفر',\n",
       " 'سیم های فلزی',\n",
       " 'علامه',\n",
       " 'نیو سیکس',\n",
       " 'ناصر تقوایی',\n",
       " '۳ اوت ۱۹۷۱',\n",
       " 'دوران طلایی اسلامی',\n",
       " 'سیارات',\n",
       " 'عربی',\n",
       " '۱ بهمن ۱۳۴۱',\n",
       " 'جرمی ایروین',\n",
       " 'فلسطین',\n",
       " 'کامران میرزا',\n",
       " 'هندوآریایی',\n",
       " 'هیدروکراکینگ',\n",
       " 'برادران سوپر اسمش',\n",
       " 'ژاپنی',\n",
       " 'کاترین دنو',\n",
       " 'قهوه',\n",
       " 'جنوب غربی آسیا',\n",
       " 'اینفینیتی وارد',\n",
       " 'فرشته سیاه',\n",
       " 'برادران وارنر پیکچرز',\n",
       " 'شصت و سومین دوره مسابقه آواز یوروویژن',\n",
       " 'محمدعلی نجفی',\n",
       " 'مارشال\\u200cهای آمریکایی',\n",
       " 'آلبانی',\n",
       " 'Zosui',\n",
       " 'زنای با محارم',\n",
       " 'هواپیمایی ایران ایرتور',\n",
       " 'دیو گرین',\n",
       " 'جمهوری خلق چین',\n",
       " 'جینا فیشر',\n",
       " 'اتحاد جماهیر شوروی سوسیالیستی',\n",
       " 'الحَمْد لله',\n",
       " 'جنگ فالکلند',\n",
       " 'پدرو آلوارز کابرال',\n",
       " '۱۴ مارس ۱۹۳۳',\n",
       " 'کیران دسای',\n",
       " 'المپیک لندن',\n",
       " 'پلیس فراری',\n",
       " '۲۰۰۵',\n",
       " 'آفریقای شمالی',\n",
       " 'جانوران',\n",
       " 'جشنواره کن',\n",
       " 'جسیکا لنگ',\n",
       " 'قارمون',\n",
       " 'تار',\n",
       " 'اودون',\n",
       " 'سریلانکا',\n",
       " 'مایکل پنیا',\n",
       " 'اس\\u200cبی\\u200cتی',\n",
       " 'آزای ناگاماسا',\n",
       " '۲ ژانویه ۱۹۸۳',\n",
       " 'منتقد فیلم',\n",
       " 'سلین سلت',\n",
       " 'مایکل اسکات',\n",
       " 'مونتنگرو',\n",
       " 'امپراتوری ضربه متقابل می\\u200cزند',\n",
       " 'ام\\u200cسی\\u200cام',\n",
       " 'صنعت فیلم',\n",
       " 'هفتمین نسل کنسول\\u200cهای بازی ویدئویی',\n",
       " '٢٠١٨',\n",
       " 'جوکیو',\n",
       " 'جایزهٔ بوکر',\n",
       " '۳۷ فروند هواپیما',\n",
       " 'شوک سپتیک',\n",
       " 'لس آنجلس تایمز',\n",
       " 'خفتگان',\n",
       " 'دهه ۱۹۹۰',\n",
       " 'The X-Files',\n",
       " 'اداره',\n",
       " 'افغانستان',\n",
       " 'ژاک دریدا',\n",
       " 'فرودگاه بین\\u200cالمللی سپهبد شهید قاسم سلیمانی',\n",
       " 'محورجلو',\n",
       " '۲۰ مقصد',\n",
       " '۱۹۲۰',\n",
       " 'فراری',\n",
       " 'آی\\u200cدی سافتور',\n",
       " 'کارل لینه',\n",
       " 'خامه',\n",
       " 'شیا ویگهام',\n",
       " 'کارینا کاپور',\n",
       " 'ب\\u200cام\\u200cو ئی۳',\n",
       " 'نورتامبرلند',\n",
       " 'اوژی\\u200cیا',\n",
       " 'تیپ قزاق',\n",
       " 'آنر ۴سی',\n",
       " 'ولگرد کوچولو',\n",
       " 'فردریک دو شو',\n",
       " 'بوشیدو',\n",
       " 'باندای نامکو گیمز',\n",
       " '۲۰:۳۰',\n",
       " 'اندلس',\n",
       " '۱۷۵۳',\n",
       " 'آر وی',\n",
       " 'مسیح',\n",
       " '۴۵٫۵',\n",
       " 'اسکودریا فراری',\n",
       " 'جولیا سویینی',\n",
       " 'هیدروکسیدهای اساسی',\n",
       " 'وسلی اسنایپس',\n",
       " 'آبین سور',\n",
       " 'ایرج صغیری',\n",
       " 'دیوید دنمان',\n",
       " 'آذرین',\n",
       " 'اتحادیه کارگران آمریکا',\n",
       " 'Hg',\n",
       " 'Sir Michael Caine',\n",
       " 'بصره',\n",
       " 'محصول جانبی',\n",
       " 'ناگای ناگاهیرو',\n",
       " 'رنیوم',\n",
       " 'Passeriformes',\n",
       " '۱۵ ژوئیه ۲۰۱۶',\n",
       " 'ارث',\n",
       " 'تهدید سه\\u200cگانه',\n",
       " 'بو برنهام',\n",
       " 'لندست ۵',\n",
       " 'ندا سلطانی',\n",
       " 'تیم سایلنت',\n",
       " 'راک اند رول',\n",
       " 'داریوش مهرجویی',\n",
       " 'نیکوتین',\n",
       " 'بیستمین دوره جایزه کتاب فصل',\n",
       " 'فیلم مستند فرشاد آقای گل',\n",
       " 'لندن',\n",
       " '۱۱ نوامبر ۲۰۰۶',\n",
       " 'سه نفر با یک کبریت',\n",
       " 'ویلیام اس باروز',\n",
       " 'thriller',\n",
       " 'نمایشنامه\\u200cنویس',\n",
       " 'هفتم مجلس شورای اسلامی',\n",
       " 'شین مک\\u200cمن',\n",
       " 'پیاسنزین',\n",
       " '۱۰۰۰ سال',\n",
       " 'شاه شهید',\n",
       " 'ریمی سن',\n",
       " '۲۰۰۳−۲۰۰۲',\n",
       " '۱۲۵۸ ه\\u200d.خ',\n",
       " 'حمد',\n",
       " 'مقالات',\n",
       " 'اوراوا رد دایمندز',\n",
       " 'Scuderia Ferrari',\n",
       " '۴ مارس ۱۹۶۳',\n",
       " 'دسپرادو',\n",
       " 'قهرمان کنفرانس شرق',\n",
       " 'دانشنامه بریتانیکا',\n",
       " 'رویداد بهاره',\n",
       " 'ایران',\n",
       " 'افعی مینو',\n",
       " 'انقلاب ۱۳۵۷',\n",
       " 'تام هالند',\n",
       " 'نمازهای جمعهٔ شیعیان ایران',\n",
       " 'Frozen II',\n",
       " '۶۴اُمین فصل مسابقه آواز یوروویژن',\n",
       " 'Tekumo kabushikigaisha',\n",
       " 'امپراتوری ضربه متقابل',\n",
       " 'اولیگوسن',\n",
       " 'زبان یونانی',\n",
       " 'دوحه',\n",
       " 'شرکت خودروسازی آلمانی ب\\u200cام\\u200cو',\n",
       " 'پاریس، تگزاس',\n",
       " 'The Burning Secret',\n",
       " 'ری فیشر',\n",
       " 'کریس فارلی',\n",
       " '45 متر',\n",
       " 'فیلم سگ\\u200cکشی',\n",
       " 'هستهٔ درونی زمین',\n",
       " 'دود تنباکو',\n",
       " 'قزاقستان',\n",
       " 'قارچ',\n",
       " 'کوی دانشگاه تهران',\n",
       " 'مایعات درون\\u200cوریدی',\n",
       " 'تنه',\n",
       " 'میعانات گازی',\n",
       " 'میناگری',\n",
       " '۹ ژوئیه ۲۰۰۴',\n",
       " 'Santa Fe de Nuevo México',\n",
       " 'جام جهانی فوتبال ۱۹۶۲',\n",
       " 'نظریه قرارداد اجتماعی',\n",
       " 'ترکیه',\n",
       " 'جنگ بزرگ شمالی',\n",
       " 'جنگ جهانی اول',\n",
       " 'آی\\u200cیوسی\\u200cان',\n",
       " 'اینوکتیتوت',\n",
       " 'سوئیس',\n",
       " 'مایکل روف',\n",
       " 'Modern Times',\n",
       " 'Sir Charles Spencer Chaplin Jr.',\n",
       " 'درام با استعداد',\n",
       " 'چراغ گاز',\n",
       " 'فلزات نجیب',\n",
       " 'قوای قزاق',\n",
       " '۱۰ نوامبر ۱۹۷۸',\n",
       " 'دارکوب',\n",
       " 'محمدرضا شجریان',\n",
       " 'جیمز رید',\n",
       " 'کارول',\n",
       " 'به دنبال امی',\n",
       " 'ان\\u200cبی\\u200cسی',\n",
       " 'دهمین دوره مجلس شورای اسلامی',\n",
       " 'شرکت سیبر',\n",
       " 'روزی روزگاری در مکزیک',\n",
       " 'آمریکای جنوبی',\n",
       " 'قم',\n",
       " 'فقیه',\n",
       " 'آنتی\\u200cبیوتیک',\n",
       " 'کیش ایر',\n",
       " 'ورزشگاه سایتاما',\n",
       " 'قطر',\n",
       " 'ادگار وارز',\n",
       " '武士',\n",
       " 'استان خراسان شمالی',\n",
       " 'بال\\u200cلاکی ژاپنی',\n",
       " 'Iko Uwais',\n",
       " 'بلاروس',\n",
       " 'عشق نفسانیت صمیمیت',\n",
       " 'مجله آمریکایی',\n",
       " 'کشتن',\n",
       " 'رکود بزرگ',\n",
       " 'کاترین هاوارد',\n",
       " 'سیلیسیم',\n",
       " 'کوهستان بروکبک',\n",
       " 'پرواز بر فراز آشیانه فاخته',\n",
       " 'آشپزی ژاپنی',\n",
       " 'تیم ملی فوتبال آلمان',\n",
       " 'بیش از 70 فیلم و سریال تلویزیونی',\n",
       " 'سوئد',\n",
       " 'Tower Green',\n",
       " 'فهرست ۳۰ شخص زیر ۳۰ سال فوربز',\n",
       " 'جک فاست',\n",
       " 'Alice in den Städten',\n",
       " 'حماسهٔ اسکای\\u200cواکر',\n",
       " 'برنز',\n",
       " 'ژانویه ۲۰۱۹',\n",
       " 'پلی\\u200cاستیشن ۳',\n",
       " 'Alien',\n",
       " 'باشگاه توقینیه فویلارد',\n",
       " 'جیمی هافا',\n",
       " 'دردهای ماهیچه\\u200cای',\n",
       " 'اردو',\n",
       " 'نفت خام',\n",
       " 'پنجمین فیلم',\n",
       " 'زاگرس',\n",
       " 'نابه\\u200cمونو',\n",
       " 'زبان اردو',\n",
       " 'اکشن سینمای هنگ کنگ',\n",
       " '۱۹۳۵',\n",
       " 'دنیای سینمایی دی\\u200cسی',\n",
       " 'میتوکندری',\n",
       " 'شمال آفریقا',\n",
       " 'پاتریک واربرتون',\n",
       " 'آمار',\n",
       " 'PSP',\n",
       " 'قیام دانشجوی ۱۳۷۸',\n",
       " 'متغیرهای تصادفی دودویی',\n",
       " 'موسیقی ایرانی',\n",
       " 'Apache',\n",
       " 'سامانتا بی',\n",
       " 'پدرو آرمنداریس جونیور',\n",
       " 'جولیان سندز',\n",
       " 'دوشنبه\\u200cها',\n",
       " 'نظریه عدالت',\n",
       " 'بهرامشاه غزنوی',\n",
       " 'مائدا توشی\\u200cایه',\n",
       " 'سلسله غوریان',\n",
       " 'درام جنایی',\n",
       " 'نخل طلا',\n",
       " 'مالدیو',\n",
       " '۱۹۶۷',\n",
       " 'روبن بلیدز',\n",
       " 'سه\\u200cگانه برلین',\n",
       " 'سشات',\n",
       " 'پلیس آهنی ۲',\n",
       " 'جایزه کیوتو',\n",
       " 'کابل',\n",
       " '۱۹۱۴',\n",
       " '۱۹۶۹',\n",
       " 'علف توکای سیاه',\n",
       " 'خانه آنه فرانک',\n",
       " 'انجیل متی',\n",
       " 'بیدلیت',\n",
       " 'سفال',\n",
       " 'فانک',\n",
       " 'نویسنده معاصر فرانسوی',\n",
       " 'شصت\\u200cونهمین مراسم جشنواره فیلم کن',\n",
       " 'سنندج',\n",
       " 'بوکه',\n",
       " 'Frank Sheeran',\n",
       " 'آب',\n",
       " '۵۰ سال',\n",
       " 'شبکه فاکس',\n",
       " 'نینتندو کوپایی',\n",
       " 'سردرد',\n",
       " 'نابه\\u200cریوری',\n",
       " 'مرتضی شعبانی',\n",
       " 'جنگ ستارگان',\n",
       " 'کال آو دیوتی',\n",
       " 'آئودی کیو۸',\n",
       " 'ویندوز',\n",
       " '۱۹۴۰–۱۹۴۳',\n",
       " 'هجدهمین دوره مسابقات جام جهانی',\n",
       " 'آزمایش',\n",
       " 'لوییز آراگونز',\n",
       " 'ویندوز موبایل',\n",
       " 'تقاطع',\n",
       " 'گرگ خاکستری',\n",
       " 'گندخونی',\n",
       " 'Roy Scheider',\n",
       " 'هایدن کریستنسن',\n",
       " 'پادزیست',\n",
       " 'میناسازی',\n",
       " 'دانیال روبوک',\n",
       " 'گل مغربی',\n",
       " 'ندا آقاسلطان',\n",
       " 'اودیسه باختر',\n",
       " 'عسل',\n",
       " 'کارولینای شمالی',\n",
       " 'سپتامبر ۱۶۸۸',\n",
       " 'اندروید نسخه 4.4.2',\n",
       " 'دهه ۱۹۵۰',\n",
       " 'امپراتوری گورکانی',\n",
       " 'کارل وندریش',\n",
       " 'علیرضا افتخاری',\n",
       " 'بلومبرگ بیزنس\\u200cویک',\n",
       " 'بلیک کلارک',\n",
       " 'جک نیکلسون',\n",
       " 'پامچال شب',\n",
       " 'Doom 4',\n",
       " 'SuperTux',\n",
       " 'لس\\u200cآنجلس',\n",
       " 'سموئیدی',\n",
       " 'کرایسیس',\n",
       " 'بلانشت',\n",
       " 'دبلیودبلیوئی',\n",
       " 'موعد مقرر',\n",
       " 'مجارها',\n",
       " 'آپچی انت',\n",
       " 'چیراشی\\u200cزوشی',\n",
       " 'نظامیان کازاک',\n",
       " '۲۳٪ ۱۸ تا ۳۴ سال',\n",
       " 'نیمکره شمالی',\n",
       " 'تویوتومی هیده\\u200cیوشی',\n",
       " 'هنر',\n",
       " 'میسی پایل',\n",
       " 'کریستینا هندریکس',\n",
       " 'کارمن',\n",
       " 'سوفی',\n",
       " 'ناباروری',\n",
       " 'با استعداد',\n",
       " 'خیانت',\n",
       " 'فولک',\n",
       " 'بیلی جین',\n",
       " 'برایان یورکی',\n",
       " 'زبان\\u200cشناسی شناختی',\n",
       " 'فرد جرکینز',\n",
       " '۱ میلیون',\n",
       " '۹ فوریه ۱۹۵۳',\n",
       " 'پیوند کووالانسی',\n",
       " 'اقوام انتس',\n",
       " 'لوزالمعده',\n",
       " 'دانیلا ملچیور',\n",
       " '۳۰ اکتبر ۲۰۰۱',\n",
       " '۲۸ شهریور ۱۳۴۱',\n",
       " 'انسینو',\n",
       " 'علی اکبرنکوگر',\n",
       " 'عشق و جنون',\n",
       " 'سوار کماندار',\n",
       " 'Steven C. Miller',\n",
       " '۶۰ فیلم بلند پویانمایی سینمایی',\n",
       " 'سیه\\u200cنا میلر',\n",
       " 'سی',\n",
       " 'محمد مصدق',\n",
       " 'شیمی',\n",
       " 'آتش فشان',\n",
       " 'اثر پروانه\\u200cای ۲',\n",
       " '۲۰۱۶ میلادی',\n",
       " 'پستانداران',\n",
       " 'کوفه',\n",
       " 'The Ides of March',\n",
       " 'سر مایکل کین',\n",
       " '۳۱ مارس ۲۰۱۷',\n",
       " 'کشتی کج',\n",
       " 'شبه قاره شمالی',\n",
       " 'آمریکا',\n",
       " 'هنرپیشه',\n",
       " 'سندرم زولینگر-الیسون',\n",
       " 'فارکرای ۱',\n",
       " 'جی اشر',\n",
       " 'لنفادنوپاتی',\n",
       " 'شهر زیبا',\n",
       " 'اپچی',\n",
       " 'دیوید مکنزی',\n",
       " 'مخاطبان ایرانی',\n",
       " 'اساسینز کرید: وحدت',\n",
       " 'سِر چارلز اسپنسر چاپلین جونیور',\n",
       " 'وزغ\\u200cها',\n",
       " 'شیر ایرانی',\n",
       " 'دفتر قربانیان بزهکاری',\n",
       " 'داوود میرباقری',\n",
       " 'ماهیگیری',\n",
       " 'مرکز هنری',\n",
       " 'فشار خون پایین',\n",
       " 'شیر هندی',\n",
       " 'گجرات',\n",
       " 'ایتالیا',\n",
       " 'اندونزی',\n",
       " 'تهیه\\u200cکننده',\n",
       " '۱۵۵۲',\n",
       " '侍',\n",
       " 'سربداران',\n",
       " 'لوییس انریکه',\n",
       " '۱۱ فوریه ۲۰۱۶',\n",
       " 'Inuit',\n",
       " 'نخبگان',\n",
       " 'دمای بدن',\n",
       " 'بی جی نواک',\n",
       " 'تحویل پیوسته نرم\\u200cافزار',\n",
       " 'ساحل صحرایی',\n",
       " 'آکادمی',\n",
       " 'جرج یکم',\n",
       " 'عیسی ناصری',\n",
       " 'ب\\u200cام\\u200cو سری ۷',\n",
       " 'زک گالیفیناکیس',\n",
       " 'سپاه فانوس سبز',\n",
       " 'والت دیزنی پیکچرز',\n",
       " 'بریجیت برمن',\n",
       " 'کبد',\n",
       " 'دهم هجری',\n",
       " 'جنگ الجزایر',\n",
       " 'زمان',\n",
       " 'میدان مغناطیسی',\n",
       " 'پزشکی مبتنی بر شواهد',\n",
       " 'روز پس از فردا',\n",
       " 'اکتیبر ۲۰۰۳',\n",
       " '۱۸۸۰',\n",
       " 'فوریه ۱۶۸۴',\n",
       " 'روبین روبین آرمسترانگ',\n",
       " 'کارن هورنای',\n",
       " 'جنبش دانشجویی',\n",
       " 'بلوفیش',\n",
       " 'رز لزلی',\n",
       " 'تیلور شریدن',\n",
       " 'مهندسی کشاورزی',\n",
       " 'مدرسه',\n",
       " 'شعبه اسکرانتون',\n",
       " 'حرکت اشتباه',\n",
       " 'موزیک کنسرت',\n",
       " 'بهروز شهامت',\n",
       " 'شورای متحصنین',\n",
       " 'نیلوفرانه',\n",
       " 'مارتین لوتر',\n",
       " 'دل تورو',\n",
       " '۱۹۴۴',\n",
       " '۱۹۶ سال',\n",
       " 'برایان اینو',\n",
       " 'محمدرضا فروتن',\n",
       " 'مکتب آلبرت کبیر',\n",
       " '۲ ژوئیه ۱۹۶۱',\n",
       " 'ぞうすい',\n",
       " 'امپراتوری درانی',\n",
       " 'جایزهٔ ادبی مَن بوکر',\n",
       " 'قطب\\u200cهای زمین',\n",
       " '۱۹۲۶',\n",
       " 'جایزه گرمی',\n",
       " '۱۸۹۴',\n",
       " 'جیمز براون',\n",
       " 'وین',\n",
       " 'تری گلیسرید',\n",
       " 'ویندوز ۱۱',\n",
       " 'کلارینت',\n",
       " '۱۹۷۷',\n",
       " 'سولفونامیدها',\n",
       " 'جرمی اسلیتر',\n",
       " 'وزرگان ساسانی',\n",
       " 'میدان نفتی کوپال',\n",
       " 'ژوئن ۲۰۱۲',\n",
       " 'جام جهانی',\n",
       " 'لی',\n",
       " 'آیوسا',\n",
       " 'روان',\n",
       " 'بی\\u200cبی\\u200cسی دو',\n",
       " 'جوایز گلدن گلوب',\n",
       " 'هزاردستان',\n",
       " 'درو بریمور',\n",
       " 'هپتالیان',\n",
       " '۴ سال',\n",
       " 'ویفر',\n",
       " '۴۰ طبقه',\n",
       " 'بادمجان',\n",
       " 'جاستین چنگ',\n",
       " 'چگالی ۷۸۷۴ کیلوگرم بر مترمکعب',\n",
       " 'اسکار',\n",
       " 'دکتر لیلیت ریتر',\n",
       " 'کالم مینی',\n",
       " 'نپال',\n",
       " 'بچه بریجت جونز',\n",
       " 'توزیع نمایی',\n",
       " 'ویلیام هوپ',\n",
       " '۱۳۰ میلیون دلار',\n",
       " 'KHK',\n",
       " '竹輪',\n",
       " 'انگلیسی\\u200cها',\n",
       " 'خانواده آلکان\\u200cها',\n",
       " 'گوجه\\u200cفرنگی',\n",
       " 'حالت نیلی',\n",
       " 'یوبی\\u200cسافت مونترآل',\n",
       " 'کمدین آمریکایی',\n",
       " 'مدار قطب شمال',\n",
       " '۳ اکتاو',\n",
       " '۳۰ آوریل ۱۹۸۵',\n",
       " 'هشتم مجلس شورای اسلامی',\n",
       " '۱۸۶۸',\n",
       " 'مایوسن',\n",
       " 'تاکسونومی',\n",
       " 'فار کرای',\n",
       " 'یاکی سوبا',\n",
       " 'یونانی',\n",
       " 'هیدروژن',\n",
       " '۱۹۷۵',\n",
       " 'نستعلیق',\n",
       " 'جک تویست',\n",
       " 'لی گرانت',\n",
       " 'نورمن پیرلستین',\n",
       " 'استان مازندران',\n",
       " 'زابیواکا',\n",
       " 'ایدا',\n",
       " 'امیرکبیر',\n",
       " 'لرین نیومن',\n",
       " '۱۳۰ فیلم',\n",
       " 'مناطق شرقی اروپا',\n",
       " '۴ مه ۱۸۰۰',\n",
       " 'جاز',\n",
       " 'پنجابی',\n",
       " 'کنام بوم\\u200cشناختی',\n",
       " 'شهر سرده',\n",
       " 'توماس وینتربرگ',\n",
       " 'خوابم می\\u200cآد',\n",
       " 'جایزه اسکار بهترین فیلم مستند',\n",
       " 'رومانیایی',\n",
       " 'مسجد جامع تاریخی شهرستان اردستان',\n",
       " 'دونووان اسکات',\n",
       " 'نسل اول',\n",
       " '۶۱ سالگی',\n",
       " 'سامی برچ',\n",
       " 'روبی',\n",
       " 'آگوست دوم',\n",
       " 'فیلم پلیس آهنی',\n",
       " 'سس سویا',\n",
       " 'معاهده گوادالوپه هیدالگو',\n",
       " 'اتحادیه بین\\u200cالمللی برادری تیمسترز',\n",
       " 'مرغ ژوئیه روستایی',\n",
       " 'فقه شیعه',\n",
       " 'سنگه غور',\n",
       " 'رکورد جهانی گینس',\n",
       " 'چهارم مجلس شورای اسلامی',\n",
       " 'محمد سبزواری',\n",
       " '۱۳ قسمت',\n",
       " 'داریوش اقبالی',\n",
       " 'مارلو',\n",
       " '۱۲۹۶ ق',\n",
       " 'دماغه سبز',\n",
       " 'جنگ سرد',\n",
       " 'گلرخ بیگم',\n",
       " 'تهران',\n",
       " 'میکروبها',\n",
       " '۴۵۹',\n",
       " 'روماتیسم مفصلی',\n",
       " '雑炊',\n",
       " 'مریم زکریا',\n",
       " 'آلمان',\n",
       " 'سلاطین جاده',\n",
       " 'توت',\n",
       " 'آلومینوسیلیکاتی',\n",
       " 'جاشوا رایان هاچرسون',\n",
       " 'فرانسیس لارنس',\n",
       " 'براد گرت',\n",
       " 'کارشناس تلویزیونی فوتبال',\n",
       " 'استنلی کوبریک',\n",
       " 'کشور افغانستان',\n",
       " 'دو قسمت یک ساعته',\n",
       " 'فولاد',\n",
       " 'اسکات',\n",
       " 'سازمان بهداشت جهانی',\n",
       " 'یونانی\\u200cها',\n",
       " 'سوخرا',\n",
       " 'نیمهٔ گمشده',\n",
       " 'گوگوش',\n",
       " 'مسابقه زنان',\n",
       " 'شاهنشاه ایرانیان',\n",
       " 'گوزن شمالی',\n",
       " 'سیمز',\n",
       " 'گنجشک\\u200cسانان',\n",
       " 'قطب جنوب',\n",
       " 'پروپان',\n",
       " 'سفر جاده\\u200cای',\n",
       " '۶۰۰۰ گونه',\n",
       " 'اقیانوس اطلس',\n",
       " 'جوایز اسکار',\n",
       " '۱۳۹۷',\n",
       " 'مونت\\u200cموری\\u200cلونیت',\n",
       " 'لایحه قربانیان بزهکاری (۱۹۸۴)',\n",
       " 'آهن',\n",
       " \"Assassin's Creed Rogue\",\n",
       " 'اسماعیل چشم آذر',\n",
       " 'کمپانی وینستون',\n",
       " 'فیلم نیمه بلند اتاق صعود',\n",
       " 'فینال\\u200cهای ۱۹۸۶',\n",
       " 'اما تامپسون',\n",
       " 'بلژیک',\n",
       " 'اشکانیان',\n",
       " 'اصولگرایان',\n",
       " 'سدۀ شانزدهم میلادی',\n",
       " 'عروس آتش',\n",
       " 'کمانچه',\n",
       " 'سرم\\u200cها',\n",
       " 'جشنواره فیلم کن',\n",
       " 'نشریه پژوهش\\u200cهای زبان\\u200cشناسی تطبیقی',\n",
       " 'نماز آدینه',\n",
       " 'بند سرده',\n",
       " 'دیرینه\\u200cشناسان',\n",
       " 'اندروید مارشمالو',\n",
       " 'شانزدهمین دوره جشنواره برلین',\n",
       " 'بیرجند',\n",
       " 'شابوشابو',\n",
       " 'پولت گادرد',\n",
       " '۸۰۰ میلیون خانه',\n",
       " 'هیوندای دیناستی',\n",
       " 'چاپ\\u200cسنگی',\n",
       " 'فیلم',\n",
       " '۱۴ آوریل ۲۰۱۶',\n",
       " 'Monkeypox',\n",
       " 'لوئیس کارول',\n",
       " 'فیلیس اسمیت',\n",
       " 'فلسفه سیاسی',\n",
       " 'اسلج\\u200cهمر گیمز',\n",
       " 'سیمرغ بلورین بهترین بازیگر نقش مکمل مرد',\n",
       " '۱۹۵۰ میلادی',\n",
       " 'تفسیر نهج البلاغه',\n",
       " 'نیروهای مسلح',\n",
       " 'بئاتریس',\n",
       " 'پنجاه و نهمین دورهٔ جوایز بفتا',\n",
       " 'فوفل',\n",
       " 'کتاب تذکرة مجمع\\u200cالخواص',\n",
       " 'Golden Globe Award',\n",
       " 'جان سینا',\n",
       " 'کیانو ریوز',\n",
       " 'لوقا',\n",
       " '۱۹۶۴',\n",
       " 'اپل',\n",
       " 'جاش کولی',\n",
       " 'فرانسیسکو خنتو لوپز',\n",
       " 'آردویک',\n",
       " 'کاخ فرمانداری',\n",
       " 'ادل اینل',\n",
       " '۲۲٪ تماشاگران ۲ تا ۱۷ سال',\n",
       " 'فال\\u200cاوت',\n",
       " 'انجمن منتقدان فیلم لس آنجلس',\n",
       " '۱۶ قسمت نیم ساعته',\n",
       " 'سسک نی\\u200cزار',\n",
       " 'شیگرو میاموتو',\n",
       " 'میکروارگانیسم',\n",
       " 'ران پرلمن',\n",
       " 'دانمارک-نروژ',\n",
       " 'منچستر سیتی',\n",
       " 'جنگل گیر',\n",
       " 'دیمون لیندلوف',\n",
       " 'حسین علیزاده',\n",
       " 'ولایت کاسی غور',\n",
       " 'تیمور گورکانی',\n",
       " 'هیپارکوس کاتالوگ',\n",
       " 'هری پاتر',\n",
       " 'اس\\u200cیووی ب\\u200cام\\u200cو سری ۷',\n",
       " 'ویم وندرس',\n",
       " '۱۳ اکتبر ۱۹۶۵',\n",
       " 'آرتی شاو: زمان چیزی است که به\\u200cدست آورده\\u200cای',\n",
       " 'تایبرن',\n",
       " 'میشیکو',\n",
       " '١٩٧٣',\n",
       " 'مانجاری فاندیس',\n",
       " 'الکترونیک آرتز',\n",
       " 'کمان',\n",
       " 'کیم یونگ-کوانگ',\n",
       " '۲۰–۲۰۱۹ کروناویروس',\n",
       " 'نسل دوم',\n",
       " 'جشنواره فیلم ونیز',\n",
       " 'آلایش',\n",
       " 'باشگاه فوتبال رئال مادرید',\n",
       " '۱۵ آوریل ۱۹۵۹',\n",
       " 'ناپلئون بناپارت',\n",
       " 'شاتو دی\\u200cایرویل',\n",
       " '۶۷٬۰۰۰ جریب',\n",
       " 'برترین گلزن تاریخ فوتبال باشگاه پرسپولیس',\n",
       " 'ادوارد آرنولد',\n",
       " '۷ مهر ۱۳۵۷',\n",
       " 'منطقه هندوچین',\n",
       " 'دههٔ ۸۰',\n",
       " 'زیرراسته Lacertilia',\n",
       " '۱۵۹۸',\n",
       " 'آپاچی',\n",
       " 'آیفون اس\\u200cای',\n",
       " 'مجله تایم',\n",
       " 'بنیاد ایناموری',\n",
       " 'کیومرث پوراحمد',\n",
       " '۱۲ اوت ۲۰۱۶',\n",
       " 'سیم\\u200cپیچ',\n",
       " 'قارچ خور',\n",
       " 'بهرام بیضایی',\n",
       " 'منابع برق جریان مستقیم',\n",
       " '۲ دسامبر ۲۰۱۰',\n",
       " 'تولک',\n",
       " 'ولاخ',\n",
       " 'Naked Lunch',\n",
       " 'سری سه\\u200cگانه عطش مبارزه',\n",
       " 'شیدا',\n",
       " 'سایلنت هیل ۳',\n",
       " 'آنتونیو باندراس',\n",
       " 'اریک دی آربلوف',\n",
       " 'چاووش',\n",
       " 'فلسهٔ اخلاق',\n",
       " 'پرو',\n",
       " 'بیش از ۱۰۰ کشور',\n",
       " 'آمریکای لاتین',\n",
       " 'ربکا فرگوسن',\n",
       " 'آرتروز',\n",
       " 'مردم',\n",
       " 'اخلاق',\n",
       " 'آی\\u200cپد پرو',\n",
       " '۲۸ مه ۱۵۵۶',\n",
       " 'نیرو برمی\\u200cخیزد',\n",
       " 'جام باشگاه\\u200cهای آسیا',\n",
       " 'شهر گمشدهٔ زی',\n",
       " 'ابونعیم عبدالله بن احمد شافعی اشعری',\n",
       " 'نت\\u200cفلیکس',\n",
       " 'نینتندو دی\\u200cاس',\n",
       " 'انجیل مرقس',\n",
       " '۵ اکتبر ۱۵۵۷',\n",
       " 'Triple Threat',\n",
       " 'آلفردو دی استفانو',\n",
       " 'دهه شصت میلادی',\n",
       " 'سه شهروند چچنی',\n",
       " '۱۳۸۰',\n",
       " '۱۹۰۸',\n",
       " 'شیخ تمیم بن حمد آل ثانی',\n",
       " 'دورنیر فلوکتسایک\\u200cورک',\n",
       " 'سمیرا مخملباف',\n",
       " 'پسربچه\\u200cها',\n",
       " 'امپراتور ریگن',\n",
       " 'روغن نباتی',\n",
       " '۲۰ نوامبر ۲۰۱۵',\n",
       " 'نویسنده',\n",
       " '۵ دی ۱۳۴۴',\n",
       " 'پاپیه ماشه',\n",
       " 'تریپ',\n",
       " 'صندوق قربانیان بزهکاری',\n",
       " 'تیر ۱۳۷۸',\n",
       " 'کمدی رمانتیک فانتزی',\n",
       " '۱۶ اردیبهشت ۱۳۵۲',\n",
       " 'سینباد',\n",
       " 'برونا عبدالله',\n",
       " 'تخم\\u200cمرغ',\n",
       " '۸ آبان ۱۳۸۰',\n",
       " '۲۰۱۷',\n",
       " 'چیاکی جی کوناکاو',\n",
       " 'دوئودنوم',\n",
       " 'سانتافه دو نوومکزیکو',\n",
       " 'آرتی\\u200cسی',\n",
       " 'توالی ریخت\\u200cشناسی',\n",
       " 'ناپروکس',\n",
       " 'جولیان مور',\n",
       " 'کریس باک',\n",
       " 'قورباغه\\u200cها',\n",
       " '۱۵۰۹',\n",
       " '۲۰۱۵–۲۰۱۴',\n",
       " 'جام جهانی فوتبال ۲۰۱۸',\n",
       " 'آناتومی گری',\n",
       " 'نورماندی علیا',\n",
       " 'نیمکره غربی',\n",
       " 'سامورایی',\n",
       " 'استودیو مترو گلدوین مایر',\n",
       " 'اورشلیم',\n",
       " 'تخارستان',\n",
       " 'اهل سنت',\n",
       " '۲۰۳٬۶۳۶ نفر',\n",
       " 'بیش از صد میلیون',\n",
       " 'شرکت سونی اینتراکتیو انترتینمنت',\n",
       " 'مجله',\n",
       " '۱۷۰۰–۱۷۲۱',\n",
       " 'هات پلیت',\n",
       " 'زرین\\u200cشهر',\n",
       " 'جهانسوز',\n",
       " 'تیلور مامسن',\n",
       " 'ایرتون سنا',\n",
       " 'جکی شروف',\n",
       " '۴ اکتبر ۲۰۱۹',\n",
       " 'آنتونی پلنا',\n",
       " 'انزجار',\n",
       " 'شیخه موزا بنت ناصر المسند',\n",
       " 'کشنده',\n",
       " 'های\\u200cسیلیکون کیرین',\n",
       " '۱۳۷۹',\n",
       " 'Eve',\n",
       " 'استیو کلاوز',\n",
       " '۲۸۰ کشور',\n",
       " 'امی ساعات پربیننده',\n",
       " 'سی/جی\\u200cتی\\u200cکی+',\n",
       " 'فروید',\n",
       " 'جرج کلونی',\n",
       " 'نیجریه',\n",
       " 'جاش گد',\n",
       " 'عبداللطیف کشیش',\n",
       " 'رادیو ان\\u200cپی\\u200cآر',\n",
       " 'سیاه',\n",
       " 'درخت برزیل',\n",
       " 'بازیگر سینما',\n",
       " 'نیایشگاه',\n",
       " 'زن زن است',\n",
       " 'سر چارلز لایل',\n",
       " 'فرشاد پیوس',\n",
       " 'Catalytic reforming',\n",
       " '۱۳ سپتامبر ۲۰۱۳',\n",
       " 'نگهبانان',\n",
       " 'سکته قلبی',\n",
       " 'رس',\n",
       " 'فیلم آمریکایی',\n",
       " 'شارون مگوایر',\n",
       " 'ساعت ۲۲:۰۰',\n",
       " '۱۹۶۳',\n",
       " 'ماریو',\n",
       " '华为技术公司',\n",
       " 'وینس مک\\u200cمن',\n",
       " 'محمدعلی طالبی',\n",
       " 'قلعه نظامی بنتون',\n",
       " 'پنجمین سپهسالار',\n",
       " 'اسلاو',\n",
       " 'پخش زنده شنبه شب',\n",
       " 'Reasons Why 13',\n",
       " 'پیشتازان فضا به\\u200cسوی تاریکی',\n",
       " 'پسر خدا',\n",
       " '۱۹۷۶',\n",
       " 'سریال اصلی بریتانیایی',\n",
       " 'اریکسون',\n",
       " 'الیور استون',\n",
       " 'پرتاب یک تاس شش وجهی',\n",
       " 'اتحادیه فوتبال آلمان',\n",
       " '۱۹۹۳',\n",
       " 'زوسویی',\n",
       " 'کاترینل دومیترسکو',\n",
       " 'میشیکو ساکورای',\n",
       " 'پطر کبیر روسیه',\n",
       " 'سر مخروطی\\u200cها',\n",
       " 'مسلمان',\n",
       " '۶۰ طبقه',\n",
       " 'ارمنی\\u200cتبار',\n",
       " 'پنج عصر',\n",
       " 'پس\\u200cفردا',\n",
       " 'خراسان جنوبی',\n",
       " 'فرانک شیرن',\n",
       " '۲۲ دی ۱۳۴۰',\n",
       " 'اشکوب زیرین',\n",
       " 'راستۀ بی\\u200cدمان',\n",
       " '۹ ژوئن ۱۶۷۲',\n",
       " 'تالواتام',\n",
       " 'هرات',\n",
       " 'ویراستاران فصلنامه ارغنون',\n",
       " 'کتاب سَلُونِی قَبْلَ أَنْ تَفْقِدُونِی',\n",
       " 'جوی لورن آدامز',\n",
       " 'پنسیلوانیا',\n",
       " 'Vlach',\n",
       " 'هلن سیکسو',\n",
       " 'جیسن الکساندر',\n",
       " 'جشنواره فیلم فجر',\n",
       " 'دوازدهمین جشنواره نقد کتاب',\n",
       " 'جان ولز',\n",
       " '۱۳٬۸۶۵ کلاهک هسته\\u200cای',\n",
       " 'جام باشگاه\\u200cهای جهان ۲۰۰۷',\n",
       " 'آن ورشک',\n",
       " 'لویی بی میر',\n",
       " 'مایکل ریچاردز',\n",
       " 'کالین فرث',\n",
       " 'سردبیر',\n",
       " 'قزوین',\n",
       " 'دانشکده فیزیک دانشگاه صنعتی شریف',\n",
       " 'رین ویلسون',\n",
       " 'کلیسای سنت پیتر اد وینکولا',\n",
       " 'آنجلا کینزی',\n",
       " 'ایالت ماساچوست',\n",
       " 'آدام سندلر',\n",
       " 'هیلدا هاشم\\u200cپور',\n",
       " 'انریکه ایگلسیاس',\n",
       " 'خرداد ۱۳۹۸',\n",
       " 'گرگ عربی',\n",
       " 'گلیفناکیس',\n",
       " 'یزدگرد دوم',\n",
       " 'انستیتو بین\\u200cالمللی پژوهش\\u200cهای صلح استکهلم',\n",
       " 'سه\\u200cگانه جاده',\n",
       " 'لیسبون',\n",
       " 'دو تا چهار هفته',\n",
       " 'مکانی خشک و خنک',\n",
       " 'مه ۲۰۰۸',\n",
       " 'چهل سال',\n",
       " 'Patricia Rooney Mara',\n",
       " 'لری برد',\n",
       " 'غرامت',\n",
       " 'ادی گریفن',\n",
       " 'indemnity',\n",
       " 'شمس\\u200cالدین ذهبی',\n",
       " 'هواوی آنر ۴سی',\n",
       " '۱۷۰۰',\n",
       " 'افسران روس',\n",
       " 'ارنست همینگوی',\n",
       " 'پو برزیل',\n",
       " '۱۰ سپتامبر ۱۹۹۳',\n",
       " 'آنتونی مکی',\n",
       " '۲۰۲۱',\n",
       " 'یودودونو',\n",
       " 'استخوان شتر',\n",
       " 'Kellan Lutz',\n",
       " 'رمان پرنده من',\n",
       " 'ریگانومیکس',\n",
       " '۱۹۸۵ میلادی',\n",
       " '۴۵۹ تا ۴۸۴ میلادی',\n",
       " 'قرن دوازدهم',\n",
       " 'اما تامسون',\n",
       " 'ژنراتور الکتریکی',\n",
       " '۱۵۵۰',\n",
       " 'دانکن لورنس',\n",
       " 'آنجلس تایمز',\n",
       " 'رود ینی\\u200cسئی',\n",
       " 'مری استینبورگن',\n",
       " '۷ مه ۲۰۰۸',\n",
       " 'چین\\u200cخوردگی',\n",
       " 'گله\\u200cهای گوزن شمالی',\n",
       " 'چپ دست',\n",
       " 'پیوند دو',\n",
       " 'سیمون آدبیسی',\n",
       " '۱۹۶۵',\n",
       " 'نیما عالمیان',\n",
       " 'کانجی',\n",
       " 'هوآوِی',\n",
       " 'اکس\\u200cام\\u200cال',\n",
       " 'اردشیر اردلان',\n",
       " 'داندر میفلین',\n",
       " 'عارون باکشی',\n",
       " 'کالیفرنیا',\n",
       " 'شیری',\n",
       " 'براندنبورگ-پروس',\n",
       " 'کلمبیا پیکچرز',\n",
       " 'نقرهٔ زنده',\n",
       " 'آپاچی تامکت',\n",
       " 'انسان\\u200cها',\n",
       " 'رحمان اسداللهی',\n",
       " 'کونامی کامپیوتر انترتینمنت',\n",
       " 'جرج لوکاس جونیور',\n",
       " 'یوتا',\n",
       " '۱۹۸۸',\n",
       " '۴ شهریور ۱۳۳۹',\n",
       " 'نامهٔ فرهنگستان',\n",
       " 'دهه ۱۹۶۰',\n",
       " 'انتونیو دی نولی',\n",
       " 'میثم مخملباف',\n",
       " 'منوچهر چشم آذر',\n",
       " 'محمد ظاهرشاه',\n",
       " 'دانت',\n",
       " 'سده بیستم',\n",
       " 'تزار روسیه',\n",
       " 'دانته',\n",
       " 'پلی\\u200cاستیشن همراه',\n",
       " 'سیب زمینی',\n",
       " 'پیکسار',\n",
       " 'فریدون فروغی',\n",
       " 'شصت و ششمین دوره جشنواره بین\\u200cالمللی فیلم برلین',\n",
       " 'پروانه اسکندری',\n",
       " 'تنفس',\n",
       " 'الانان',\n",
       " 'سایتو توشیناگا',\n",
       " 'خانهٔ بردباری',\n",
       " '۱۴۳۸',\n",
       " 'دنیای آزاد',\n",
       " 'دیوید والاس',\n",
       " '۲۶٪ ۳۵ تا ۴۹ سال',\n",
       " '۱۳۹۹–۱۳۹۶',\n",
       " 'ارومیه',\n",
       " 'لوک اسکای\\u200cواکر',\n",
       " 'جمعیت فیزیک و شیمی ایران',\n",
       " 'suspense',\n",
       " ...}"
      ]
     },
     "execution_count": 16,
     "metadata": {},
     "output_type": "execute_result"
    }
   ],
   "source": [
    "all_named_entities"
   ]
  }
 ],
 "metadata": {
  "kernelspec": {
   "display_name": "llms",
   "language": "python",
   "name": "python3"
  },
  "language_info": {
   "codemirror_mode": {
    "name": "ipython",
    "version": 3
   },
   "file_extension": ".py",
   "mimetype": "text/x-python",
   "name": "python",
   "nbconvert_exporter": "python",
   "pygments_lexer": "ipython3",
   "version": "3.11.11"
  }
 },
 "nbformat": 4,
 "nbformat_minor": 5
}
